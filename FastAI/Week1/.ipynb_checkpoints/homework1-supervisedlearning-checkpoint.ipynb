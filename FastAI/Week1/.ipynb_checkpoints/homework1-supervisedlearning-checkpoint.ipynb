{
 "cells": [
  {
   "cell_type": "markdown",
   "metadata": {},
   "source": [
    "# The Mushroom Pokédex - The Mokédex"
   ]
  },
  {
   "cell_type": "markdown",
   "metadata": {},
   "source": [
    "## The aim of this project is to build a deep learning algorithm that can predict a species of mushroom from a photo, returning the species, common name, and whether it is edible, poisonous, or psychedelic. "
   ]
  },
  {
   "cell_type": "markdown",
   "metadata": {},
   "source": [
    "In order to run this project you need to have the correct packages installed. You may install them however you like based off of the import modules that appear in this notebook, but if you have retrieved this notebook from my github repo, you will notice a requirements.txt file which lists all relevant packages used in my projects based on fastai.\n",
    "Here is a link to the relevant repo folder: https://github.com/alexmarsian/Personal-Projects/tree/master/FastAI/Week1\n",
    "\n",
    "Yes it would be more efficient to create a new virtual environment for each separate project, but I suspect I will be returning to the same modules over and over again..\n",
    "\n",
    "Note as well this is not built out to its full capacity, this project was meant for me to learn about building a deep learning model using the fastai library. I have thought about how to create a more complete Mokédex, I have archived that for the time being in the mokédex-side-project directory in the fastai folder on my repo."
   ]
  },
  {
   "cell_type": "markdown",
   "metadata": {},
   "source": [
    "### Initial Setup"
   ]
  },
  {
   "cell_type": "markdown",
   "metadata": {},
   "source": [
    "Setting up the jupyter notebook environment:"
   ]
  },
  {
   "cell_type": "code",
   "execution_count": 21,
   "metadata": {},
   "outputs": [],
   "source": [
    "%reload_ext autoreload\n",
    "%autoreload 2\n",
    "%matplotlib inline"
   ]
  },
  {
   "cell_type": "markdown",
   "metadata": {},
   "source": [
    "First we need to webscrape the data on various mushrooms species. To do this I am going to use selenium webdriver to browse through relevant websites on google chrome, beautifulsoup to parse data from the html of a webpage, and the fastai datablock to store our information. "
   ]
  },
  {
   "cell_type": "code",
   "execution_count": 22,
   "metadata": {},
   "outputs": [],
   "source": [
    "from selenium import webdriver\n",
    "from bs4 import BeautifulSoup, SoupStrainer"
   ]
  },
  {
   "cell_type": "markdown",
   "metadata": {},
   "source": [
    "First configure the selenium webdriver to use google chrome. You need to download the relevant chromedriver exe for your OS from here: https://sites.google.com/a/chromium.org/chromedriver/. I saved the chromedriver exe in the same dir as this notebook. So initialising the selenium webdriver to use the chrome exe:"
   ]
  },
  {
   "cell_type": "code",
   "execution_count": 23,
   "metadata": {},
   "outputs": [],
   "source": [
    "import os.path\n",
    "path = os.getcwd() + '/chromedriver'"
   ]
  },
  {
   "cell_type": "markdown",
   "metadata": {},
   "source": [
    "### Scraping Mushroom Data"
   ]
  },
  {
   "cell_type": "markdown",
   "metadata": {},
   "source": [
    "Now we are going to start scraping data on mushrooms using this website: http://www.foragingguide.com/\n",
    "I will first scrape all the data on edible mushrooms, and then retrieve data on poisonous mushrooms. We should be able to use the same scripts to scrape each set of data. \n",
    "\n",
    "For each mushroom we want to store:\n",
    "* Species (Latin Name)\n",
    "* Common Name\n",
    "* Type: Edible, Poisonous, Psychedelic\n",
    "* Frequency\n",
    "\n",
    "So here is a mushroom class for storing this information:"
   ]
  },
  {
   "cell_type": "code",
   "execution_count": 24,
   "metadata": {},
   "outputs": [],
   "source": [
    "class Mushroom:\n",
    "    \"\"\"Each mushroom contains a species, common name, frequency, and edibility\"\"\"\n",
    "    def __init__(self, species, name, mushroom_type, frequency):\n",
    "        self.spec = species\n",
    "        self.name = name\n",
    "        self.type = mushroom_type\n",
    "        self.freq = frequency"
   ]
  },
  {
   "cell_type": "markdown",
   "metadata": {},
   "source": [
    "Open the page containing edible mushrooms, sorted A-Z by latin name, retreive the html content of the page, and parse the html using BeautifulSoup4"
   ]
  },
  {
   "cell_type": "code",
   "execution_count": 25,
   "metadata": {},
   "outputs": [],
   "source": [
    "def get_html(url):\n",
    "    driver = webdriver.Chrome(executable_path=path)\n",
    "    driver.get(url)\n",
    "    html = driver.page_source\n",
    "    driver.quit()\n",
    "    return html\n",
    "edible_html = get_html(\"http://www.foragingguide.com/mushrooms/edible_by_latin_name\")"
   ]
  },
  {
   "cell_type": "markdown",
   "metadata": {},
   "source": [
    "To parse a website's html we need to understand the structure of the html. To get an idea for this, I opened the webpage http://www.foragingguide.com/mushrooms/edible_by_latin_name, right clicked and chose 'inspect'. Looking at how the information for the first mushroom 'Agaricus augustus' is stored in the html, we see this structure in the inspect column:"
   ]
  },
  {
   "cell_type": "markdown",
   "metadata": {},
   "source": [
    "<img src='mushroom-html-example.jpg'>"
   ]
  },
  {
   "cell_type": "markdown",
   "metadata": {},
   "source": [
    "So all the information we want for each individual mushroom is stored in strings within a div class=info. Each div class=info is within a div class=list_div. There are a number of ways to retreive the data we want, but I am going to try use the most memory efficient method. \n",
    "* We will use SoupStrainer to parse only div class=\"info\" elements, and then use the .stripped_strings method from BeautifulSoup to create a generator that returns descendant strings (whitespace stripped). \n",
    "* For each div class=info, we expect 3 strings to be returned.  \n",
    "    1. The latin name (species)\n",
    "    2. The common name, from which we will strip the opening '(' and closing ')'\n",
    "    3. The frequency and edibility in the format 'frequency, edibility' which we can split into two strings 'frequency' and 'edibility'. "
   ]
  },
  {
   "cell_type": "code",
   "execution_count": 26,
   "metadata": {},
   "outputs": [],
   "source": [
    "soup = BeautifulSoup(edible_html, \"html.parser\", parse_only=SoupStrainer(attrs='info'))"
   ]
  },
  {
   "cell_type": "markdown",
   "metadata": {},
   "source": [
    "Now I'm going to define a function that will go through each string in the parsed info divs, strip the brackets from the common name, split the frequency and edibility into two strings, and store the information into the relevant object instance in the Mushroom class, returning a list of mushroom objects:"
   ]
  },
  {
   "cell_type": "code",
   "execution_count": 27,
   "metadata": {},
   "outputs": [],
   "source": [
    "# BeautifulSoup Object + List -> ListOfMushroom\n",
    "# Creates a list of mushroom objects given the parsed html content\n",
    "def get_mushies(soup, list_of_mushies):\n",
    "    all_strings = soup.stripped_strings\n",
    "    for string in all_strings:\n",
    "        species = string\n",
    "        name = next(all_strings)\n",
    "        name = name.replace(')', '').replace('(', '')\n",
    "        freq_and_type = next(all_strings).split(',')\n",
    "        frequency = freq_and_type[0].strip().capitalize()\n",
    "        mushroom_type = freq_and_type[1].strip().capitalize()\n",
    "        list_of_mushies.append(Mushroom(species, name, mushroom_type, frequency))\n",
    "    return list_of_mushies\n",
    "\n",
    "mushies = get_mushies(soup, [])"
   ]
  },
  {
   "cell_type": "markdown",
   "metadata": {},
   "source": [
    "To see that is has worked:"
   ]
  },
  {
   "cell_type": "code",
   "execution_count": 28,
   "metadata": {},
   "outputs": [
    {
     "name": "stdout",
     "output_type": "stream",
     "text": [
      "Species: Agaricus augustus\n",
      "Common name: The Prince\n",
      "Type: Edible good\n",
      "Frequency: Occasional\n"
     ]
    }
   ],
   "source": [
    "for m in mushies:\n",
    "    if m.spec == \"Agaricus augustus\":\n",
    "        print(\"Species: \" + m.spec)\n",
    "        print(\"Common name: \" + m.name)\n",
    "        print(\"Type: \" + m.type.capitalize())\n",
    "        print(\"Frequency: \" + m.freq.capitalize())"
   ]
  },
  {
   "cell_type": "markdown",
   "metadata": {},
   "source": [
    "Now this process can be repeated for the poisonous mushrooms:"
   ]
  },
  {
   "cell_type": "code",
   "execution_count": 29,
   "metadata": {},
   "outputs": [],
   "source": [
    "# Get html content for the poisonous mushrooms\n",
    "poisonous_html = get_html(\"http://www.foragingguide.com/mushrooms/poisonous_by_latin_name\")\n",
    "# Again parse in only the info tags\n",
    "soup = soup = BeautifulSoup(poisonous_html, \"html.parser\", parse_only=SoupStrainer(attrs='info'))\n",
    "# Call get_mushies handing in the previously built list \n",
    "mushies = get_mushies(soup, mushies)"
   ]
  },
  {
   "cell_type": "code",
   "execution_count": 30,
   "metadata": {},
   "outputs": [
    {
     "name": "stdout",
     "output_type": "stream",
     "text": [
      "Agaricus augustus: Edible good\n",
      "Agaricus campestris: Edible excellent\n",
      "Agaricus Langei: Edible good\n",
      "Agaricus silvicola: Edible good\n",
      "Aleuria aurantia: Edible\n",
      "Amanita rubescens: Edible\n",
      "Armillaria mellea: Edible\n",
      "Auricularia auricula-judae: Edible\n",
      "Boletus appendiculatus: Edible good\n",
      "Boletus badius: Edible good\n",
      "Boletus chrysenteron: Edible\n",
      "Boletus Edulis: Edible excellent\n",
      "Boletus Luridiformis: Edible\n",
      "Boletus luridus: Edible\n",
      "Boletus pruinatus: Edible\n",
      "Calocybe gambosa: Edible\n",
      "Calvatia giantea: Edible good\n",
      "Camarophyllus pratensis: Edible good\n",
      "Cantharellus cibarius: Edible excellent\n",
      "Cantharellus tubaeformis: Edible good\n",
      "Clitocybe geotropa: Edible\n",
      "Clitocybe gibba: Edible\n",
      "Clitocybe odora: Edible\n",
      "Clitopilus prunulus: Edible good\n",
      "Coprinus comatus: Edible\n",
      "Coprinus micaceus: Edible\n",
      "Cuphophyllus pratensis: Edible good\n",
      "Fistulina hepatica: Edible\n",
      "Flammulina velutipes: Edible\n",
      "Grifola frondosa: Edible\n",
      "Handkea excipuliformis: Edible\n",
      "Handkea utriformis: Edible\n",
      "Hydnum repandum: Edible good\n",
      "Hydnum rufescens: Edible good\n",
      "Hygrocybe coccinea: Edible\n",
      "Hygrocybe pratensis: Edible good\n",
      "Hygrocybe punicea: Edible\n",
      "Hygrocybe virginea: Edible good\n",
      "Hygrophorus pratensis: Edible good\n",
      "Kuehneromyces mutabilis: Edible good\n",
      "Laccaria amethystina: Edible\n",
      "Laccaria laccata: Edible\n",
      "Lactarius deliciosus: Edible good\n",
      "Laetiporus sulphureus: Edible good\n",
      "Leccinum scabrum: Edible\n",
      "Leccinum versipelle: Edible good\n",
      "Lepista nuda: Edible excellent\n",
      "Lepista saeva: Edible excellent\n",
      "Lepista sordida: Edible\n",
      "Lycoperdon perlatum: Edible\n",
      "Lycoperdon pyriforme: Edible\n",
      "Macrolepiota mastoidea: Edible good\n",
      "Macrolepiota procera: Edible excellent\n",
      "Macrolepiota rhacodes: Edible good\n",
      "Marasmius oreades: Edible good\n",
      "Morel esculenta: Edible excellent\n",
      "Pleurotus ostreatus: Edible good\n",
      "Pluteus cervinus: Edible\n",
      "Pluteus umbrosus: Edible\n",
      "Polyporus squamosus: Edible\n",
      "Russula cyanoxantha: Edible good\n",
      "Russula ochroleuca: Edible\n",
      "Sparassis crispa: Edible good\n",
      "Suillus bovinus: Edible\n",
      "Suillus grevillei: Edible\n",
      "Suillus luteus: Edible good\n",
      "Vascellum pratense: Edible\n",
      "Agaricus moelleri: Poisonous\n",
      "Amanita muscaria: Poisonous\n",
      "Amanita pantherina: Very poisonous\n",
      "Amanita Phalloides: Deadly poisonous\n",
      "Coprinus atramentarius: Poisonous\n",
      "Gymnopilus junonius: Poisonous\n",
      "Gyromitra esculenta: Deadly poisonous\n",
      "Hebeloma crustuliniforme: Poisonous\n",
      "Hypholoma fasciculare: Poisonous\n",
      "Paxillus involutus: Deadly poisonous\n",
      "Pholiota spectabilis: Poisonous\n",
      "Psilocybe semilanceata: Poisonous\n",
      "Russula emetica: Poisonous\n",
      "Russula nobilis: Poisonous\n"
     ]
    }
   ],
   "source": [
    "for m in mushies:\n",
    "    print(m.spec + ': ' + m.type)"
   ]
  },
  {
   "cell_type": "markdown",
   "metadata": {},
   "source": [
    "Now there are a few species of Psychedelic mushroom that were not added to this list, I am going to manually add them as there are only 3. Notice also that Psilocybe semilanceata was included under the type 'Poisonous'. We will edit that to be pyschedelic as well. "
   ]
  },
  {
   "cell_type": "code",
   "execution_count": 31,
   "metadata": {},
   "outputs": [],
   "source": [
    "mushies.append(Mushroom(\"Psilocybe azurescens\", \"Stamets and Gartz\", \"Psychedelic\", \"Common\"))\n",
    "mushies.append(Mushroom(\"Psilocybe cubensis\", \"Golden Cap\", \"Psychedelic\", \"Common\"))\n",
    "mushies.append(Mushroom(\"Psilocybe cyanescens\", \"Wavy Cap\", \"Psychedelic\", \"Common\"))\n",
    "for m in mushies:\n",
    "    if m.spec == \"Psilocybe semilanceata\":\n",
    "        m.type = \"Psychedelic\""
   ]
  },
  {
   "cell_type": "code",
   "execution_count": 32,
   "metadata": {},
   "outputs": [
    {
     "name": "stdout",
     "output_type": "stream",
     "text": [
      "Agaricus augustus: Edible good\n",
      "Agaricus campestris: Edible excellent\n",
      "Agaricus Langei: Edible good\n",
      "Agaricus silvicola: Edible good\n",
      "Aleuria aurantia: Edible\n",
      "Amanita rubescens: Edible\n",
      "Armillaria mellea: Edible\n",
      "Auricularia auricula-judae: Edible\n",
      "Boletus appendiculatus: Edible good\n",
      "Boletus badius: Edible good\n",
      "Boletus chrysenteron: Edible\n",
      "Boletus Edulis: Edible excellent\n",
      "Boletus Luridiformis: Edible\n",
      "Boletus luridus: Edible\n",
      "Boletus pruinatus: Edible\n",
      "Calocybe gambosa: Edible\n",
      "Calvatia giantea: Edible good\n",
      "Camarophyllus pratensis: Edible good\n",
      "Cantharellus cibarius: Edible excellent\n",
      "Cantharellus tubaeformis: Edible good\n",
      "Clitocybe geotropa: Edible\n",
      "Clitocybe gibba: Edible\n",
      "Clitocybe odora: Edible\n",
      "Clitopilus prunulus: Edible good\n",
      "Coprinus comatus: Edible\n",
      "Coprinus micaceus: Edible\n",
      "Cuphophyllus pratensis: Edible good\n",
      "Fistulina hepatica: Edible\n",
      "Flammulina velutipes: Edible\n",
      "Grifola frondosa: Edible\n",
      "Handkea excipuliformis: Edible\n",
      "Handkea utriformis: Edible\n",
      "Hydnum repandum: Edible good\n",
      "Hydnum rufescens: Edible good\n",
      "Hygrocybe coccinea: Edible\n",
      "Hygrocybe pratensis: Edible good\n",
      "Hygrocybe punicea: Edible\n",
      "Hygrocybe virginea: Edible good\n",
      "Hygrophorus pratensis: Edible good\n",
      "Kuehneromyces mutabilis: Edible good\n",
      "Laccaria amethystina: Edible\n",
      "Laccaria laccata: Edible\n",
      "Lactarius deliciosus: Edible good\n",
      "Laetiporus sulphureus: Edible good\n",
      "Leccinum scabrum: Edible\n",
      "Leccinum versipelle: Edible good\n",
      "Lepista nuda: Edible excellent\n",
      "Lepista saeva: Edible excellent\n",
      "Lepista sordida: Edible\n",
      "Lycoperdon perlatum: Edible\n",
      "Lycoperdon pyriforme: Edible\n",
      "Macrolepiota mastoidea: Edible good\n",
      "Macrolepiota procera: Edible excellent\n",
      "Macrolepiota rhacodes: Edible good\n",
      "Marasmius oreades: Edible good\n",
      "Morel esculenta: Edible excellent\n",
      "Pleurotus ostreatus: Edible good\n",
      "Pluteus cervinus: Edible\n",
      "Pluteus umbrosus: Edible\n",
      "Polyporus squamosus: Edible\n",
      "Russula cyanoxantha: Edible good\n",
      "Russula ochroleuca: Edible\n",
      "Sparassis crispa: Edible good\n",
      "Suillus bovinus: Edible\n",
      "Suillus grevillei: Edible\n",
      "Suillus luteus: Edible good\n",
      "Vascellum pratense: Edible\n",
      "Agaricus moelleri: Poisonous\n",
      "Amanita muscaria: Poisonous\n",
      "Amanita pantherina: Very poisonous\n",
      "Amanita Phalloides: Deadly poisonous\n",
      "Coprinus atramentarius: Poisonous\n",
      "Gymnopilus junonius: Poisonous\n",
      "Gyromitra esculenta: Deadly poisonous\n",
      "Hebeloma crustuliniforme: Poisonous\n",
      "Hypholoma fasciculare: Poisonous\n",
      "Paxillus involutus: Deadly poisonous\n",
      "Pholiota spectabilis: Poisonous\n",
      "Psilocybe semilanceata: Psychedelic\n",
      "Russula emetica: Poisonous\n",
      "Russula nobilis: Poisonous\n",
      "Psilocybe azurescens: Psychedelic\n",
      "Psilocybe cubensis: Psychedelic\n",
      "Psilocybe cyanescens: Psychedelic\n",
      "84 Mushrooms foraged from the internet!\n"
     ]
    }
   ],
   "source": [
    "for m in mushies:\n",
    "    print(m.spec + ': ' + m.type)\n",
    "print(str(len(mushies)) + ' Mushrooms foraged from the internet!')"
   ]
  },
  {
   "cell_type": "markdown",
   "metadata": {},
   "source": [
    "### Collecting Images of Mushrooms"
   ]
  },
  {
   "cell_type": "markdown",
   "metadata": {},
   "source": [
    "So now we have a non-exhaustive list of mushroom species, some of them edible, some of them poisonous, and a few psyhcedelic. We have their common name, and frequency as well. We could really build out this dataset and include more information to genuinely create a mushroom equivalent of a Pokédex, but I will save that project for another time. The main goal of this is to get hands on with the FastAi package and train a deep learning model. \n",
    "\n",
    "The next step is to collect images of each species using google images. Using google images is not perfect, we can not be so sure of these mushrooms being correctly labelled, for that we would need access to a better source - some kind of visual encyclopedia of foragable mushrooms, such a thing does not exist..yet. \n",
    "\n",
    "I am aware that there are some libraries for downloading images from google, but I'm going to try avoid using them so that these functions might be reusable in a more general way. Eventually I may make a file of function definitions if I do use the same functions over and over again."
   ]
  },
  {
   "cell_type": "code",
   "execution_count": 39,
   "metadata": {},
   "outputs": [
    {
     "name": "stdout",
     "output_type": "stream",
     "text": [
      "Found: 113 search results. Extracting links from 0:113\n",
      "Found: 213 search results. Extracting links from 113:213\n",
      "Found: 96 image links, done!\n"
     ]
    },
    {
     "data": {
      "text/html": [],
      "text/plain": [
       "<IPython.core.display.HTML object>"
      ]
     },
     "metadata": {},
     "output_type": "display_data"
    },
    {
     "name": "stdout",
     "output_type": "stream",
     "text": [
      "Found: 131 search results. Extracting links from 0:131\n",
      "Found: 231 search results. Extracting links from 131:231\n",
      "Found: 100 image links, done!\n"
     ]
    },
    {
     "data": {
      "text/html": [],
      "text/plain": [
       "<IPython.core.display.HTML object>"
      ]
     },
     "metadata": {},
     "output_type": "display_data"
    },
    {
     "name": "stdout",
     "output_type": "stream",
     "text": [
      "Found: 102 search results. Extracting links from 0:102\n",
      "Found: 202 search results. Extracting links from 102:202\n",
      "Found: 93 image links, done!\n"
     ]
    },
    {
     "data": {
      "text/html": [],
      "text/plain": [
       "<IPython.core.display.HTML object>"
      ]
     },
     "metadata": {},
     "output_type": "display_data"
    },
    {
     "name": "stdout",
     "output_type": "stream",
     "text": [
      "Found: 113 search results. Extracting links from 0:113\n",
      "Found: 213 search results. Extracting links from 113:213\n",
      "Found: 94 image links, done!\n"
     ]
    },
    {
     "data": {
      "text/html": [],
      "text/plain": [
       "<IPython.core.display.HTML object>"
      ]
     },
     "metadata": {},
     "output_type": "display_data"
    },
    {
     "name": "stdout",
     "output_type": "stream",
     "text": [
      "Found: 113 search results. Extracting links from 0:113\n",
      "Found: 213 search results. Extracting links from 113:213\n",
      "Found: 94 image links, done!\n"
     ]
    },
    {
     "data": {
      "text/html": [],
      "text/plain": [
       "<IPython.core.display.HTML object>"
      ]
     },
     "metadata": {},
     "output_type": "display_data"
    },
    {
     "name": "stdout",
     "output_type": "stream",
     "text": [
      "Found: 117 search results. Extracting links from 0:117\n",
      "Found: 217 search results. Extracting links from 117:217\n",
      "Found: 101 image links, done!\n"
     ]
    },
    {
     "data": {
      "text/html": [],
      "text/plain": [
       "<IPython.core.display.HTML object>"
      ]
     },
     "metadata": {},
     "output_type": "display_data"
    },
    {
     "name": "stdout",
     "output_type": "stream",
     "text": [
      "Found: 133 search results. Extracting links from 0:133\n",
      "Found: 233 search results. Extracting links from 133:233\n",
      "Found: 99 image links, done!\n"
     ]
    },
    {
     "data": {
      "text/html": [],
      "text/plain": [
       "<IPython.core.display.HTML object>"
      ]
     },
     "metadata": {},
     "output_type": "display_data"
    },
    {
     "name": "stdout",
     "output_type": "stream",
     "text": [
      "Found: 115 search results. Extracting links from 0:115\n",
      "Found: 215 search results. Extracting links from 115:215\n",
      "Found: 93 image links, done!\n"
     ]
    },
    {
     "data": {
      "text/html": [],
      "text/plain": [
       "<IPython.core.display.HTML object>"
      ]
     },
     "metadata": {},
     "output_type": "display_data"
    },
    {
     "name": "stdout",
     "output_type": "stream",
     "text": [
      "Found: 111 search results. Extracting links from 0:111\n",
      "Found: 211 search results. Extracting links from 111:211\n",
      "Found: 87 image links, done!\n"
     ]
    },
    {
     "data": {
      "text/html": [],
      "text/plain": [
       "<IPython.core.display.HTML object>"
      ]
     },
     "metadata": {},
     "output_type": "display_data"
    },
    {
     "name": "stdout",
     "output_type": "stream",
     "text": [
      "Found: 117 search results. Extracting links from 0:117\n",
      "Found: 217 search results. Extracting links from 117:217\n",
      "Found: 94 image links, done!\n"
     ]
    },
    {
     "data": {
      "text/html": [],
      "text/plain": [
       "<IPython.core.display.HTML object>"
      ]
     },
     "metadata": {},
     "output_type": "display_data"
    },
    {
     "name": "stdout",
     "output_type": "stream",
     "text": [
      "Found: 110 search results. Extracting links from 0:110\n",
      "Found: 210 search results. Extracting links from 110:210\n",
      "Found: 91 image links, done!\n"
     ]
    },
    {
     "data": {
      "text/html": [],
      "text/plain": [
       "<IPython.core.display.HTML object>"
      ]
     },
     "metadata": {},
     "output_type": "display_data"
    },
    {
     "name": "stdout",
     "output_type": "stream",
     "text": [
      "Found: 139 search results. Extracting links from 0:139\n",
      "Found: 239 search results. Extracting links from 139:239\n",
      "Found: 108 image links, done!\n"
     ]
    },
    {
     "data": {
      "text/html": [],
      "text/plain": [
       "<IPython.core.display.HTML object>"
      ]
     },
     "metadata": {},
     "output_type": "display_data"
    },
    {
     "name": "stdout",
     "output_type": "stream",
     "text": [
      "Found: 101 search results. Extracting links from 0:101\n",
      "Found: 201 search results. Extracting links from 101:201\n",
      "Found: 91 image links, done!\n"
     ]
    },
    {
     "data": {
      "text/html": [],
      "text/plain": [
       "<IPython.core.display.HTML object>"
      ]
     },
     "metadata": {},
     "output_type": "display_data"
    },
    {
     "name": "stdout",
     "output_type": "stream",
     "text": [
      "Found: 113 search results. Extracting links from 0:113\n",
      "Found: 113 search results. Extracting links from 113:113\n",
      "Found: 58 image links, done!\n"
     ]
    },
    {
     "data": {
      "text/html": [],
      "text/plain": [
       "<IPython.core.display.HTML object>"
      ]
     },
     "metadata": {},
     "output_type": "display_data"
    },
    {
     "name": "stdout",
     "output_type": "stream",
     "text": [
      "Found: 103 search results. Extracting links from 0:103\n",
      "Found: 203 search results. Extracting links from 103:203\n",
      "Found: 96 image links, done!\n"
     ]
    },
    {
     "data": {
      "text/html": [],
      "text/plain": [
       "<IPython.core.display.HTML object>"
      ]
     },
     "metadata": {},
     "output_type": "display_data"
    },
    {
     "name": "stdout",
     "output_type": "stream",
     "text": [
      "Found: 113 search results. Extracting links from 0:113\n",
      "Found: 213 search results. Extracting links from 113:213\n",
      "Found: 86 image links, done!\n"
     ]
    },
    {
     "data": {
      "text/html": [],
      "text/plain": [
       "<IPython.core.display.HTML object>"
      ]
     },
     "metadata": {},
     "output_type": "display_data"
    },
    {
     "name": "stdout",
     "output_type": "stream",
     "text": [
      "Found: 119 search results. Extracting links from 0:119\n",
      "Found: 219 search results. Extracting links from 119:219\n",
      "Found: 90 image links, done!\n"
     ]
    },
    {
     "data": {
      "text/html": [],
      "text/plain": [
       "<IPython.core.display.HTML object>"
      ]
     },
     "metadata": {},
     "output_type": "display_data"
    },
    {
     "name": "stdout",
     "output_type": "stream",
     "text": [
      "Found: 101 search results. Extracting links from 0:101\n",
      "Found: 201 search results. Extracting links from 101:201\n",
      "Found: 96 image links, done!\n"
     ]
    },
    {
     "data": {
      "text/html": [],
      "text/plain": [
       "<IPython.core.display.HTML object>"
      ]
     },
     "metadata": {},
     "output_type": "display_data"
    },
    {
     "name": "stdout",
     "output_type": "stream",
     "text": [
      "Found: 123 search results. Extracting links from 0:123\n",
      "Found: 223 search results. Extracting links from 123:223\n",
      "Found: 97 image links, done!\n"
     ]
    },
    {
     "data": {
      "text/html": [],
      "text/plain": [
       "<IPython.core.display.HTML object>"
      ]
     },
     "metadata": {},
     "output_type": "display_data"
    },
    {
     "name": "stdout",
     "output_type": "stream",
     "text": [
      "Found: 113 search results. Extracting links from 0:113\n",
      "Found: 213 search results. Extracting links from 113:213\n",
      "Found: 92 image links, done!\n"
     ]
    },
    {
     "data": {
      "text/html": [],
      "text/plain": [
       "<IPython.core.display.HTML object>"
      ]
     },
     "metadata": {},
     "output_type": "display_data"
    },
    {
     "name": "stdout",
     "output_type": "stream",
     "text": [
      "Found: 114 search results. Extracting links from 0:114\n",
      "Found: 214 search results. Extracting links from 114:214\n",
      "Found: 94 image links, done!\n"
     ]
    },
    {
     "data": {
      "text/html": [],
      "text/plain": [
       "<IPython.core.display.HTML object>"
      ]
     },
     "metadata": {},
     "output_type": "display_data"
    },
    {
     "name": "stdout",
     "output_type": "stream",
     "text": [
      "Found: 110 search results. Extracting links from 0:110\n",
      "Found: 210 search results. Extracting links from 110:210\n",
      "Found: 91 image links, done!\n"
     ]
    },
    {
     "data": {
      "text/html": [],
      "text/plain": [
       "<IPython.core.display.HTML object>"
      ]
     },
     "metadata": {},
     "output_type": "display_data"
    },
    {
     "name": "stdout",
     "output_type": "stream",
     "text": [
      "Found: 103 search results. Extracting links from 0:103\n",
      "Found: 203 search results. Extracting links from 103:203\n",
      "Found: 87 image links, done!\n"
     ]
    },
    {
     "data": {
      "text/html": [],
      "text/plain": [
       "<IPython.core.display.HTML object>"
      ]
     },
     "metadata": {},
     "output_type": "display_data"
    },
    {
     "name": "stdout",
     "output_type": "stream",
     "text": [
      "Found: 105 search results. Extracting links from 0:105\n",
      "Found: 205 search results. Extracting links from 105:205\n",
      "Found: 91 image links, done!\n"
     ]
    },
    {
     "data": {
      "text/html": [],
      "text/plain": [
       "<IPython.core.display.HTML object>"
      ]
     },
     "metadata": {},
     "output_type": "display_data"
    },
    {
     "name": "stdout",
     "output_type": "stream",
     "text": [
      "Found: 122 search results. Extracting links from 0:122\n",
      "Found: 222 search results. Extracting links from 122:222\n",
      "Found: 105 image links, done!\n"
     ]
    },
    {
     "data": {
      "text/html": [],
      "text/plain": [
       "<IPython.core.display.HTML object>"
      ]
     },
     "metadata": {},
     "output_type": "display_data"
    },
    {
     "name": "stdout",
     "output_type": "stream",
     "text": [
      "Found: 113 search results. Extracting links from 0:113\n",
      "Found: 213 search results. Extracting links from 113:213\n",
      "Found: 92 image links, done!\n"
     ]
    },
    {
     "data": {
      "text/html": [],
      "text/plain": [
       "<IPython.core.display.HTML object>"
      ]
     },
     "metadata": {},
     "output_type": "display_data"
    },
    {
     "name": "stdout",
     "output_type": "stream",
     "text": [
      "Found: 105 search results. Extracting links from 0:105\n",
      "Found: 205 search results. Extracting links from 105:205\n",
      "Found: 91 image links, done!\n"
     ]
    },
    {
     "data": {
      "text/html": [],
      "text/plain": [
       "<IPython.core.display.HTML object>"
      ]
     },
     "metadata": {},
     "output_type": "display_data"
    },
    {
     "name": "stdout",
     "output_type": "stream",
     "text": [
      "Found: 116 search results. Extracting links from 0:116\n",
      "Found: 216 search results. Extracting links from 116:216\n",
      "Found: 92 image links, done!\n"
     ]
    },
    {
     "data": {
      "text/html": [],
      "text/plain": [
       "<IPython.core.display.HTML object>"
      ]
     },
     "metadata": {},
     "output_type": "display_data"
    },
    {
     "name": "stdout",
     "output_type": "stream",
     "text": [
      "Found: 119 search results. Extracting links from 0:119\n",
      "Found: 219 search results. Extracting links from 119:219\n",
      "Found: 95 image links, done!\n"
     ]
    },
    {
     "data": {
      "text/html": [],
      "text/plain": [
       "<IPython.core.display.HTML object>"
      ]
     },
     "metadata": {},
     "output_type": "display_data"
    },
    {
     "name": "stdout",
     "output_type": "stream",
     "text": [
      "Found: 113 search results. Extracting links from 0:113\n",
      "Found: 213 search results. Extracting links from 113:213\n",
      "Found: 92 image links, done!\n"
     ]
    },
    {
     "data": {
      "text/html": [],
      "text/plain": [
       "<IPython.core.display.HTML object>"
      ]
     },
     "metadata": {},
     "output_type": "display_data"
    },
    {
     "name": "stdout",
     "output_type": "stream",
     "text": [
      "Found: 102 search results. Extracting links from 0:102\n",
      "Found: 202 search results. Extracting links from 102:202\n",
      "Found: 99 image links, done!\n"
     ]
    },
    {
     "data": {
      "text/html": [],
      "text/plain": [
       "<IPython.core.display.HTML object>"
      ]
     },
     "metadata": {},
     "output_type": "display_data"
    },
    {
     "name": "stdout",
     "output_type": "stream",
     "text": [
      "Found: 107 search results. Extracting links from 0:107\n",
      "Found: 207 search results. Extracting links from 107:207\n",
      "Found: 92 image links, done!\n"
     ]
    },
    {
     "data": {
      "text/html": [],
      "text/plain": [
       "<IPython.core.display.HTML object>"
      ]
     },
     "metadata": {},
     "output_type": "display_data"
    },
    {
     "name": "stdout",
     "output_type": "stream",
     "text": [
      "Found: 116 search results. Extracting links from 0:116\n",
      "Found: 216 search results. Extracting links from 116:216\n",
      "Found: 93 image links, done!\n"
     ]
    },
    {
     "data": {
      "text/html": [],
      "text/plain": [
       "<IPython.core.display.HTML object>"
      ]
     },
     "metadata": {},
     "output_type": "display_data"
    },
    {
     "name": "stdout",
     "output_type": "stream",
     "text": [
      "Found: 112 search results. Extracting links from 0:112\n",
      "Found: 212 search results. Extracting links from 112:212\n",
      "Found: 92 image links, done!\n"
     ]
    },
    {
     "data": {
      "text/html": [],
      "text/plain": [
       "<IPython.core.display.HTML object>"
      ]
     },
     "metadata": {},
     "output_type": "display_data"
    },
    {
     "name": "stdout",
     "output_type": "stream",
     "text": [
      "Found: 104 search results. Extracting links from 0:104\n",
      "Found: 204 search results. Extracting links from 104:204\n",
      "Found: 97 image links, done!\n"
     ]
    },
    {
     "data": {
      "text/html": [],
      "text/plain": [
       "<IPython.core.display.HTML object>"
      ]
     },
     "metadata": {},
     "output_type": "display_data"
    },
    {
     "name": "stdout",
     "output_type": "stream",
     "text": [
      "Found: 101 search results. Extracting links from 0:101\n",
      "Found: 201 search results. Extracting links from 101:201\n",
      "Found: 91 image links, done!\n"
     ]
    },
    {
     "data": {
      "text/html": [],
      "text/plain": [
       "<IPython.core.display.HTML object>"
      ]
     },
     "metadata": {},
     "output_type": "display_data"
    },
    {
     "name": "stdout",
     "output_type": "stream",
     "text": [
      "Found: 108 search results. Extracting links from 0:108\n",
      "Found: 208 search results. Extracting links from 108:208\n",
      "Found: 101 image links, done!\n"
     ]
    },
    {
     "data": {
      "text/html": [],
      "text/plain": [
       "<IPython.core.display.HTML object>"
      ]
     },
     "metadata": {},
     "output_type": "display_data"
    },
    {
     "name": "stdout",
     "output_type": "stream",
     "text": [
      "Found: 101 search results. Extracting links from 0:101\n",
      "Found: 201 search results. Extracting links from 101:201\n",
      "Found: 90 image links, done!\n"
     ]
    },
    {
     "data": {
      "text/html": [],
      "text/plain": [
       "<IPython.core.display.HTML object>"
      ]
     },
     "metadata": {},
     "output_type": "display_data"
    },
    {
     "name": "stdout",
     "output_type": "stream",
     "text": [
      "Found: 102 search results. Extracting links from 0:102\n",
      "Found: 202 search results. Extracting links from 102:202\n",
      "Found: 90 image links, done!\n"
     ]
    },
    {
     "data": {
      "text/html": [],
      "text/plain": [
       "<IPython.core.display.HTML object>"
      ]
     },
     "metadata": {},
     "output_type": "display_data"
    },
    {
     "name": "stdout",
     "output_type": "stream",
     "text": [
      "Found: 101 search results. Extracting links from 0:101\n",
      "Found: 201 search results. Extracting links from 101:201\n",
      "Found: 92 image links, done!\n"
     ]
    },
    {
     "data": {
      "text/html": [],
      "text/plain": [
       "<IPython.core.display.HTML object>"
      ]
     },
     "metadata": {},
     "output_type": "display_data"
    },
    {
     "name": "stdout",
     "output_type": "stream",
     "text": [
      "Found: 111 search results. Extracting links from 0:111\n",
      "Found: 211 search results. Extracting links from 111:211\n",
      "Found: 94 image links, done!\n"
     ]
    },
    {
     "data": {
      "text/html": [],
      "text/plain": [
       "<IPython.core.display.HTML object>"
      ]
     },
     "metadata": {},
     "output_type": "display_data"
    },
    {
     "name": "stdout",
     "output_type": "stream",
     "text": [
      "Found: 114 search results. Extracting links from 0:114\n",
      "Found: 214 search results. Extracting links from 114:214\n",
      "Found: 89 image links, done!\n"
     ]
    },
    {
     "data": {
      "text/html": [],
      "text/plain": [
       "<IPython.core.display.HTML object>"
      ]
     },
     "metadata": {},
     "output_type": "display_data"
    },
    {
     "name": "stdout",
     "output_type": "stream",
     "text": [
      "Found: 120 search results. Extracting links from 0:120\n",
      "Found: 220 search results. Extracting links from 120:220\n",
      "Found: 94 image links, done!\n"
     ]
    },
    {
     "data": {
      "text/html": [],
      "text/plain": [
       "<IPython.core.display.HTML object>"
      ]
     },
     "metadata": {},
     "output_type": "display_data"
    },
    {
     "name": "stdout",
     "output_type": "stream",
     "text": [
      "Found: 121 search results. Extracting links from 0:121\n",
      "Found: 221 search results. Extracting links from 121:221\n",
      "Found: 95 image links, done!\n"
     ]
    },
    {
     "data": {
      "text/html": [],
      "text/plain": [
       "<IPython.core.display.HTML object>"
      ]
     },
     "metadata": {},
     "output_type": "display_data"
    },
    {
     "name": "stdout",
     "output_type": "stream",
     "text": [
      "Found: 101 search results. Extracting links from 0:101\n",
      "Found: 201 search results. Extracting links from 101:201\n",
      "Found: 93 image links, done!\n"
     ]
    },
    {
     "data": {
      "text/html": [],
      "text/plain": [
       "<IPython.core.display.HTML object>"
      ]
     },
     "metadata": {},
     "output_type": "display_data"
    },
    {
     "name": "stdout",
     "output_type": "stream",
     "text": [
      "Found: 113 search results. Extracting links from 0:113\n",
      "Found: 213 search results. Extracting links from 113:213\n",
      "Found: 93 image links, done!\n"
     ]
    },
    {
     "data": {
      "text/html": [],
      "text/plain": [
       "<IPython.core.display.HTML object>"
      ]
     },
     "metadata": {},
     "output_type": "display_data"
    },
    {
     "name": "stdout",
     "output_type": "stream",
     "text": [
      "Found: 117 search results. Extracting links from 0:117\n",
      "Found: 217 search results. Extracting links from 117:217\n",
      "Found: 97 image links, done!\n"
     ]
    },
    {
     "data": {
      "text/html": [],
      "text/plain": [
       "<IPython.core.display.HTML object>"
      ]
     },
     "metadata": {},
     "output_type": "display_data"
    },
    {
     "name": "stdout",
     "output_type": "stream",
     "text": [
      "Found: 113 search results. Extracting links from 0:113\n",
      "Found: 213 search results. Extracting links from 113:213\n",
      "Found: 83 image links, done!\n"
     ]
    },
    {
     "data": {
      "text/html": [],
      "text/plain": [
       "<IPython.core.display.HTML object>"
      ]
     },
     "metadata": {},
     "output_type": "display_data"
    },
    {
     "name": "stdout",
     "output_type": "stream",
     "text": [
      "Found: 101 search results. Extracting links from 0:101\n",
      "Found: 201 search results. Extracting links from 101:201\n",
      "Found: 95 image links, done!\n"
     ]
    },
    {
     "data": {
      "text/html": [],
      "text/plain": [
       "<IPython.core.display.HTML object>"
      ]
     },
     "metadata": {},
     "output_type": "display_data"
    },
    {
     "name": "stdout",
     "output_type": "stream",
     "text": [
      "Found: 113 search results. Extracting links from 0:113\n",
      "Found: 213 search results. Extracting links from 113:213\n",
      "Found: 95 image links, done!\n"
     ]
    },
    {
     "data": {
      "text/html": [],
      "text/plain": [
       "<IPython.core.display.HTML object>"
      ]
     },
     "metadata": {},
     "output_type": "display_data"
    },
    {
     "name": "stdout",
     "output_type": "stream",
     "text": [
      "Found: 105 search results. Extracting links from 0:105\n",
      "Found: 205 search results. Extracting links from 105:205\n",
      "Found: 84 image links, done!\n"
     ]
    },
    {
     "data": {
      "text/html": [],
      "text/plain": [
       "<IPython.core.display.HTML object>"
      ]
     },
     "metadata": {},
     "output_type": "display_data"
    },
    {
     "name": "stdout",
     "output_type": "stream",
     "text": [
      "Found: 101 search results. Extracting links from 0:101\n",
      "Found: 201 search results. Extracting links from 101:201\n",
      "Found: 96 image links, done!\n"
     ]
    },
    {
     "data": {
      "text/html": [],
      "text/plain": [
       "<IPython.core.display.HTML object>"
      ]
     },
     "metadata": {},
     "output_type": "display_data"
    },
    {
     "name": "stdout",
     "output_type": "stream",
     "text": [
      "Found: 120 search results. Extracting links from 0:120\n",
      "Found: 220 search results. Extracting links from 120:220\n",
      "Found: 96 image links, done!\n"
     ]
    },
    {
     "data": {
      "text/html": [],
      "text/plain": [
       "<IPython.core.display.HTML object>"
      ]
     },
     "metadata": {},
     "output_type": "display_data"
    },
    {
     "name": "stdout",
     "output_type": "stream",
     "text": [
      "Found: 106 search results. Extracting links from 0:106\n",
      "Found: 206 search results. Extracting links from 106:206\n",
      "Found: 96 image links, done!\n"
     ]
    },
    {
     "data": {
      "text/html": [],
      "text/plain": [
       "<IPython.core.display.HTML object>"
      ]
     },
     "metadata": {},
     "output_type": "display_data"
    },
    {
     "name": "stdout",
     "output_type": "stream",
     "text": [
      "Found: 122 search results. Extracting links from 0:122\n",
      "Found: 222 search results. Extracting links from 122:222\n",
      "Found: 95 image links, done!\n"
     ]
    },
    {
     "data": {
      "text/html": [],
      "text/plain": [
       "<IPython.core.display.HTML object>"
      ]
     },
     "metadata": {},
     "output_type": "display_data"
    },
    {
     "name": "stdout",
     "output_type": "stream",
     "text": [
      "Found: 104 search results. Extracting links from 0:104\n",
      "Found: 204 search results. Extracting links from 104:204\n",
      "Found: 94 image links, done!\n"
     ]
    },
    {
     "data": {
      "text/html": [],
      "text/plain": [
       "<IPython.core.display.HTML object>"
      ]
     },
     "metadata": {},
     "output_type": "display_data"
    },
    {
     "name": "stdout",
     "output_type": "stream",
     "text": [
      "Found: 138 search results. Extracting links from 0:138\n",
      "Found: 238 search results. Extracting links from 138:238\n",
      "Found: 94 image links, done!\n"
     ]
    },
    {
     "data": {
      "text/html": [],
      "text/plain": [
       "<IPython.core.display.HTML object>"
      ]
     },
     "metadata": {},
     "output_type": "display_data"
    },
    {
     "name": "stdout",
     "output_type": "stream",
     "text": [
      "Found: 113 search results. Extracting links from 0:113\n",
      "Found: 213 search results. Extracting links from 113:213\n",
      "Found: 94 image links, done!\n"
     ]
    },
    {
     "data": {
      "text/html": [],
      "text/plain": [
       "<IPython.core.display.HTML object>"
      ]
     },
     "metadata": {},
     "output_type": "display_data"
    },
    {
     "name": "stdout",
     "output_type": "stream",
     "text": [
      "Found: 101 search results. Extracting links from 0:101\n",
      "Found: 201 search results. Extracting links from 101:201\n",
      "Found: 91 image links, done!\n"
     ]
    },
    {
     "data": {
      "text/html": [],
      "text/plain": [
       "<IPython.core.display.HTML object>"
      ]
     },
     "metadata": {},
     "output_type": "display_data"
    },
    {
     "name": "stdout",
     "output_type": "stream",
     "text": [
      "Found: 118 search results. Extracting links from 0:118\n",
      "Found: 218 search results. Extracting links from 118:218\n",
      "Found: 93 image links, done!\n"
     ]
    },
    {
     "data": {
      "text/html": [],
      "text/plain": [
       "<IPython.core.display.HTML object>"
      ]
     },
     "metadata": {},
     "output_type": "display_data"
    },
    {
     "name": "stdout",
     "output_type": "stream",
     "text": [
      "Found: 113 search results. Extracting links from 0:113\n",
      "Found: 213 search results. Extracting links from 113:213\n",
      "Found: 90 image links, done!\n"
     ]
    },
    {
     "data": {
      "text/html": [],
      "text/plain": [
       "<IPython.core.display.HTML object>"
      ]
     },
     "metadata": {},
     "output_type": "display_data"
    },
    {
     "name": "stdout",
     "output_type": "stream",
     "text": [
      "Found: 101 search results. Extracting links from 0:101\n",
      "Found: 201 search results. Extracting links from 101:201\n",
      "Found: 91 image links, done!\n"
     ]
    },
    {
     "data": {
      "text/html": [],
      "text/plain": [
       "<IPython.core.display.HTML object>"
      ]
     },
     "metadata": {},
     "output_type": "display_data"
    },
    {
     "name": "stdout",
     "output_type": "stream",
     "text": [
      "Found: 113 search results. Extracting links from 0:113\n",
      "Found: 213 search results. Extracting links from 113:213\n",
      "Found: 92 image links, done!\n"
     ]
    },
    {
     "data": {
      "text/html": [],
      "text/plain": [
       "<IPython.core.display.HTML object>"
      ]
     },
     "metadata": {},
     "output_type": "display_data"
    },
    {
     "name": "stdout",
     "output_type": "stream",
     "text": [
      "Found: 111 search results. Extracting links from 0:111\n",
      "Found: 211 search results. Extracting links from 111:211\n",
      "Found: 90 image links, done!\n"
     ]
    },
    {
     "data": {
      "text/html": [],
      "text/plain": [
       "<IPython.core.display.HTML object>"
      ]
     },
     "metadata": {},
     "output_type": "display_data"
    },
    {
     "name": "stdout",
     "output_type": "stream",
     "text": [
      "Found: 113 search results. Extracting links from 0:113\n",
      "Found: 213 search results. Extracting links from 113:213\n",
      "Found: 92 image links, done!\n"
     ]
    },
    {
     "data": {
      "text/html": [],
      "text/plain": [
       "<IPython.core.display.HTML object>"
      ]
     },
     "metadata": {},
     "output_type": "display_data"
    },
    {
     "name": "stdout",
     "output_type": "stream",
     "text": [
      "Found: 109 search results. Extracting links from 0:109\n",
      "Found: 209 search results. Extracting links from 109:209\n",
      "Found: 90 image links, done!\n"
     ]
    },
    {
     "data": {
      "text/html": [],
      "text/plain": [
       "<IPython.core.display.HTML object>"
      ]
     },
     "metadata": {},
     "output_type": "display_data"
    },
    {
     "name": "stdout",
     "output_type": "stream",
     "text": [
      "Found: 103 search results. Extracting links from 0:103\n",
      "Found: 203 search results. Extracting links from 103:203\n",
      "Found: 97 image links, done!\n"
     ]
    },
    {
     "data": {
      "text/html": [],
      "text/plain": [
       "<IPython.core.display.HTML object>"
      ]
     },
     "metadata": {},
     "output_type": "display_data"
    },
    {
     "name": "stdout",
     "output_type": "stream",
     "text": [
      "Found: 113 search results. Extracting links from 0:113\n",
      "Found: 213 search results. Extracting links from 113:213\n",
      "Found: 97 image links, done!\n"
     ]
    },
    {
     "data": {
      "text/html": [],
      "text/plain": [
       "<IPython.core.display.HTML object>"
      ]
     },
     "metadata": {},
     "output_type": "display_data"
    },
    {
     "name": "stdout",
     "output_type": "stream",
     "text": [
      "Found: 141 search results. Extracting links from 0:141\n",
      "Found: 30 image links, done!\n"
     ]
    },
    {
     "data": {
      "text/html": [],
      "text/plain": [
       "<IPython.core.display.HTML object>"
      ]
     },
     "metadata": {},
     "output_type": "display_data"
    },
    {
     "name": "stdout",
     "output_type": "stream",
     "text": [
      "Found: 122 search results. Extracting links from 0:122\n",
      "Found: 222 search results. Extracting links from 122:222\n",
      "Found: 93 image links, done!\n"
     ]
    },
    {
     "data": {
      "text/html": [],
      "text/plain": [
       "<IPython.core.display.HTML object>"
      ]
     },
     "metadata": {},
     "output_type": "display_data"
    },
    {
     "name": "stdout",
     "output_type": "stream",
     "text": [
      "Found: 135 search results. Extracting links from 0:135\n",
      "Found: 235 search results. Extracting links from 135:235\n",
      "Found: 103 image links, done!\n"
     ]
    },
    {
     "data": {
      "text/html": [],
      "text/plain": [
       "<IPython.core.display.HTML object>"
      ]
     },
     "metadata": {},
     "output_type": "display_data"
    },
    {
     "name": "stdout",
     "output_type": "stream",
     "text": [
      "Found: 113 search results. Extracting links from 0:113\n",
      "Found: 213 search results. Extracting links from 113:213\n",
      "Found: 88 image links, done!\n"
     ]
    },
    {
     "data": {
      "text/html": [],
      "text/plain": [
       "<IPython.core.display.HTML object>"
      ]
     },
     "metadata": {},
     "output_type": "display_data"
    },
    {
     "name": "stdout",
     "output_type": "stream",
     "text": [
      "Found: 127 search results. Extracting links from 0:127\n",
      "Found: 227 search results. Extracting links from 127:227\n",
      "Found: 96 image links, done!\n"
     ]
    },
    {
     "data": {
      "text/html": [],
      "text/plain": [
       "<IPython.core.display.HTML object>"
      ]
     },
     "metadata": {},
     "output_type": "display_data"
    },
    {
     "name": "stdout",
     "output_type": "stream",
     "text": [
      "Found: 113 search results. Extracting links from 0:113\n",
      "Found: 213 search results. Extracting links from 113:213\n",
      "Found: 93 image links, done!\n"
     ]
    },
    {
     "data": {
      "text/html": [],
      "text/plain": [
       "<IPython.core.display.HTML object>"
      ]
     },
     "metadata": {},
     "output_type": "display_data"
    },
    {
     "name": "stdout",
     "output_type": "stream",
     "text": [
      "Found: 113 search results. Extracting links from 0:113\n",
      "Found: 213 search results. Extracting links from 113:213\n",
      "Found: 90 image links, done!\n"
     ]
    },
    {
     "data": {
      "text/html": [],
      "text/plain": [
       "<IPython.core.display.HTML object>"
      ]
     },
     "metadata": {},
     "output_type": "display_data"
    },
    {
     "name": "stdout",
     "output_type": "stream",
     "text": [
      "Found: 113 search results. Extracting links from 0:113\n",
      "Found: 213 search results. Extracting links from 113:213\n",
      "Found: 93 image links, done!\n"
     ]
    },
    {
     "data": {
      "text/html": [],
      "text/plain": [
       "<IPython.core.display.HTML object>"
      ]
     },
     "metadata": {},
     "output_type": "display_data"
    },
    {
     "name": "stdout",
     "output_type": "stream",
     "text": [
      "Found: 117 search results. Extracting links from 0:117\n",
      "Found: 217 search results. Extracting links from 117:217\n",
      "Found: 82 image links, done!\n"
     ]
    },
    {
     "data": {
      "text/html": [],
      "text/plain": [
       "<IPython.core.display.HTML object>"
      ]
     },
     "metadata": {},
     "output_type": "display_data"
    },
    {
     "name": "stdout",
     "output_type": "stream",
     "text": [
      "Found: 101 search results. Extracting links from 0:101\n",
      "Found: 201 search results. Extracting links from 101:201\n",
      "Found: 96 image links, done!\n"
     ]
    },
    {
     "data": {
      "text/html": [],
      "text/plain": [
       "<IPython.core.display.HTML object>"
      ]
     },
     "metadata": {},
     "output_type": "display_data"
    },
    {
     "name": "stdout",
     "output_type": "stream",
     "text": [
      "Found: 139 search results. Extracting links from 0:139\n",
      "Found: 30 image links, done!\n"
     ]
    },
    {
     "data": {
      "text/html": [],
      "text/plain": [
       "<IPython.core.display.HTML object>"
      ]
     },
     "metadata": {},
     "output_type": "display_data"
    },
    {
     "name": "stdout",
     "output_type": "stream",
     "text": [
      "Found: 116 search results. Extracting links from 0:116\n",
      "Found: 216 search results. Extracting links from 116:216\n",
      "Found: 101 image links, done!\n"
     ]
    },
    {
     "data": {
      "text/html": [],
      "text/plain": [
       "<IPython.core.display.HTML object>"
      ]
     },
     "metadata": {},
     "output_type": "display_data"
    },
    {
     "name": "stdout",
     "output_type": "stream",
     "text": [
      "Found: 102 search results. Extracting links from 0:102\n",
      "Found: 202 search results. Extracting links from 102:202\n",
      "Found: 91 image links, done!\n"
     ]
    },
    {
     "data": {
      "text/html": [],
      "text/plain": [
       "<IPython.core.display.HTML object>"
      ]
     },
     "metadata": {},
     "output_type": "display_data"
    },
    {
     "name": "stdout",
     "output_type": "stream",
     "text": [
      "Found: 138 search results. Extracting links from 0:138\n",
      "Found: 238 search results. Extracting links from 138:238\n",
      "Found: 105 image links, done!\n"
     ]
    },
    {
     "data": {
      "text/html": [],
      "text/plain": [
       "<IPython.core.display.HTML object>"
      ]
     },
     "metadata": {},
     "output_type": "display_data"
    },
    {
     "name": "stdout",
     "output_type": "stream",
     "text": [
      "Found: 143 search results. Extracting links from 0:143\n",
      "Found: 34 image links, done!\n"
     ]
    },
    {
     "data": {
      "text/html": [],
      "text/plain": [
       "<IPython.core.display.HTML object>"
      ]
     },
     "metadata": {},
     "output_type": "display_data"
    },
    {
     "name": "stdout",
     "output_type": "stream",
     "text": [
      "Found: 138 search results. Extracting links from 0:138\n",
      "Found: 238 search results. Extracting links from 138:238\n",
      "Found: 99 image links, done!\n"
     ]
    },
    {
     "data": {
      "text/html": [],
      "text/plain": [
       "<IPython.core.display.HTML object>"
      ]
     },
     "metadata": {},
     "output_type": "display_data"
    }
   ],
   "source": [
    "import csv, time\n",
    "from fastai.vision import *\n",
    "\n",
    "# String -> URL\n",
    "# Create a google image search URL (reusable images only) given a query string\n",
    "def make_google_image_URL(query):\n",
    "    query = '\"' + query.replace(' ', '+') + '\"'\n",
    "    return \"https://www.google.com/\"\\\n",
    "           \"search?q=\"+query+\"+-cartoon+-drawing+-diagram+-art+-text&tbm=isch&safe=off\" # No cartoon images\n",
    "\n",
    "\n",
    "# String Integer -> ListOfURLs\n",
    "# Given a google image search query and a number of images, return a list of URLs that is num_imgs long\n",
    "# Original function idea from here: https://towardsdatascience.com/image-scraping-with-python-a96feda8af2d\n",
    "# The below function is a heavily modified version of the original:\n",
    "def fetch_image_urls(query:str, num_imgs:int, sleep_between_interactions:int=1):\n",
    "        \n",
    "    # Fn to scroll to end of google images results page (loads more images)\n",
    "    def scroll_to_end(wd):\n",
    "        wd.execute_script(\"window.scrollTo(0, document.body.scrollHeight);\")\n",
    "        time.sleep(sleep_between_interactions)    \n",
    "        \n",
    "    # Instantiate Selenium WebDriver and load query page\n",
    "    wd = webdriver.Chrome(executable_path=path)\n",
    "    wd.get(query)\n",
    "      \n",
    "    # Go through all img tags and add source to a list of image URLs \n",
    "    # until desired number of URLs have been gathered\n",
    "    \n",
    "    image_urls = set() # Avoids retreival of duplicate URLs\n",
    "    image_count = 0\n",
    "    results_start = 0\n",
    "    while image_count < num_imgs:\n",
    "        \n",
    "        html = wd.page_source\n",
    "        scroll_to_end(wd)\n",
    "            \n",
    "        # get html and all img tags using BeautifulSoup after scrolling\n",
    "        images = BeautifulSoup(html, \"html.parser\", parse_only=SoupStrainer('img'))\n",
    "        \n",
    "        number_results = len(images)\n",
    "        \n",
    "        if number_results == 0:\n",
    "            print(\"No images retrieved. Check your query or html selectors.\")\n",
    "            break\n",
    "        else:\n",
    "            print(f\"Found: {number_results} search results. Extracting links from {results_start}:{number_results}\")\n",
    "        \n",
    "        for img in images:\n",
    "            # extract image urls\n",
    "            if img.has_attr('src'):\n",
    "                if not img['src'].startswith('data'):\n",
    "                    image_urls.add(img['src'])   \n",
    "\n",
    "        image_count = len(image_urls)\n",
    "\n",
    "        if len(image_urls) >= num_imgs:\n",
    "            print(f\"Found: {len(image_urls)} image links, done!\")\n",
    "            break\n",
    "\n",
    "        # move the result startpoint further down\n",
    "        results_start = number_results\n",
    "    \n",
    "    wd.quit()\n",
    "    \n",
    "    return list(image_urls)\n",
    "\n",
    "\n",
    "# ListOfObjects Attribute -> Images in folder: object/attribute/images\n",
    "# Function to collect google images based on an object attribute from a list of objects\n",
    "# In this case we have a list of mushroom objects\n",
    "# If using this in another setting, you may need to change paths to folders, files, chromedriver etc.\n",
    "\n",
    "def get_images(list_of_objs, attr, num_imgs):\n",
    "    \n",
    "    # Make a folder to store the images (if it doesn't already exist)\n",
    "    # Will create a dir like this: ./nameofobjectclass\n",
    "    folder = type(list_of_objs[0]).__name__.lower()\n",
    "    if not os.path.isdir(folder+'-images'):\n",
    "        os.makedirs(folder+'-images', exist_ok=True)\n",
    "        out_dir = folder+'-images'\n",
    "    else:\n",
    "        out_dir = folder+'-images'\n",
    "    \n",
    "    for o in list_of_objs:\n",
    "        \n",
    "        # Create folder labels and csv filename\n",
    "        # Will create nameofobjectclass/attribute/attribute.csv\n",
    "        query = str(getattr(o,attr))\n",
    "        n_dir = query.replace(' ', '-').lower()\n",
    "        new_dir = out_dir + '/' + n_dir\n",
    "        filename = n_dir + '.csv'\n",
    "        \n",
    "        # If file containing URLs already exists go to next object: \n",
    "        if os.path.isfile(new_dir+'/'+filename):\n",
    "            continue\n",
    "        else:\n",
    "            # Get list of URLs\n",
    "            query_url = make_google_image_URL(query)\n",
    "            URLs = fetch_image_urls(query_url, num_imgs)\n",
    "                        \n",
    "            # Write list of URLs to CSV in a new folder labelled by the attribute \n",
    "            os.makedirs(new_dir, exist_ok=True)\n",
    "            with open(new_dir+'/'+filename, 'w') as f:\n",
    "                URLs = map(lambda x:x+'\\n', URLs)\n",
    "                f.writelines(URLs)\n",
    "    \n",
    "        # Call the FastAI download images function\n",
    "        # Takes the CSV just created, loads images into the attribute-labelled directory\n",
    "        download_images(new_dir+'/'+filename, new_dir, max_pics=num_imgs+1, max_workers=0)\n",
    "        \n",
    "get_images(mushies, 'spec', 30)\n"
   ]
  },
  {
   "cell_type": "markdown",
   "metadata": {},
   "source": [
    "So we have scraped our mushroom images from google images and stored them in folders labelled according to their species. Each species folder is contained in a folder named after the Mushroom class ('mushroom-images'). So now we need to verify our images and delete any that cannot be opened by FastAI.\n",
    "\n",
    "It is also going to be useful now to generate a list of class labels. These are the names of the species folders generated in our get_images function"
   ]
  },
  {
   "cell_type": "code",
   "execution_count": 45,
   "metadata": {},
   "outputs": [
    {
     "name": "stdout",
     "output_type": "stream",
     "text": [
      "['agaricus-augustus', 'agaricus-campestris', 'agaricus-langei', 'agaricus-silvicola', 'aleuria-aurantia', 'amanita-rubescens', 'armillaria-mellea', 'auricularia-auricula-judae', 'boletus-appendiculatus', 'boletus-badius', 'boletus-chrysenteron', 'boletus-edulis', 'boletus-luridiformis', 'boletus-luridus', 'boletus-pruinatus', 'calocybe-gambosa', 'calvatia-giantea', 'camarophyllus-pratensis', 'cantharellus-cibarius', 'cantharellus-tubaeformis', 'clitocybe-geotropa', 'clitocybe-gibba', 'clitocybe-odora', 'clitopilus-prunulus', 'coprinus-comatus', 'coprinus-micaceus', 'cuphophyllus-pratensis', 'fistulina-hepatica', 'flammulina-velutipes', 'grifola-frondosa', 'handkea-excipuliformis', 'handkea-utriformis', 'hydnum-repandum', 'hydnum-rufescens', 'hygrocybe-coccinea', 'hygrocybe-pratensis', 'hygrocybe-punicea', 'hygrocybe-virginea', 'hygrophorus-pratensis', 'kuehneromyces-mutabilis', 'laccaria-amethystina', 'laccaria-laccata', 'lactarius-deliciosus', 'laetiporus-sulphureus', 'leccinum-scabrum', 'leccinum-versipelle', 'lepista-nuda', 'lepista-saeva', 'lepista-sordida', 'lycoperdon-perlatum', 'lycoperdon-pyriforme', 'macrolepiota-mastoidea', 'macrolepiota-procera', 'macrolepiota-rhacodes', 'marasmius-oreades', 'morel-esculenta', 'pleurotus-ostreatus', 'pluteus-cervinus', 'pluteus-umbrosus', 'polyporus-squamosus', 'russula-cyanoxantha', 'russula-ochroleuca', 'sparassis-crispa', 'suillus-bovinus', 'suillus-grevillei', 'suillus-luteus', 'vascellum-pratense', 'agaricus-moelleri', 'amanita-muscaria', 'amanita-pantherina', 'amanita-phalloides', 'coprinus-atramentarius', 'gymnopilus-junonius', 'gyromitra-esculenta', 'hebeloma-crustuliniforme', 'hypholoma-fasciculare', 'paxillus-involutus', 'pholiota-spectabilis', 'psilocybe-semilanceata', 'russula-emetica', 'russula-nobilis', 'psilocybe-azurescens', 'psilocybe-cubensis', 'psilocybe-cyanescens']\n"
     ]
    },
    {
     "data": {
      "text/html": [],
      "text/plain": [
       "<IPython.core.display.HTML object>"
      ]
     },
     "metadata": {},
     "output_type": "display_data"
    },
    {
     "data": {
      "text/html": [],
      "text/plain": [
       "<IPython.core.display.HTML object>"
      ]
     },
     "metadata": {},
     "output_type": "display_data"
    },
    {
     "data": {
      "text/html": [],
      "text/plain": [
       "<IPython.core.display.HTML object>"
      ]
     },
     "metadata": {},
     "output_type": "display_data"
    },
    {
     "data": {
      "text/html": [],
      "text/plain": [
       "<IPython.core.display.HTML object>"
      ]
     },
     "metadata": {},
     "output_type": "display_data"
    },
    {
     "data": {
      "text/html": [],
      "text/plain": [
       "<IPython.core.display.HTML object>"
      ]
     },
     "metadata": {},
     "output_type": "display_data"
    },
    {
     "data": {
      "text/html": [],
      "text/plain": [
       "<IPython.core.display.HTML object>"
      ]
     },
     "metadata": {},
     "output_type": "display_data"
    },
    {
     "data": {
      "text/html": [],
      "text/plain": [
       "<IPython.core.display.HTML object>"
      ]
     },
     "metadata": {},
     "output_type": "display_data"
    },
    {
     "data": {
      "text/html": [],
      "text/plain": [
       "<IPython.core.display.HTML object>"
      ]
     },
     "metadata": {},
     "output_type": "display_data"
    },
    {
     "data": {
      "text/html": [],
      "text/plain": [
       "<IPython.core.display.HTML object>"
      ]
     },
     "metadata": {},
     "output_type": "display_data"
    },
    {
     "data": {
      "text/html": [],
      "text/plain": [
       "<IPython.core.display.HTML object>"
      ]
     },
     "metadata": {},
     "output_type": "display_data"
    },
    {
     "data": {
      "text/html": [],
      "text/plain": [
       "<IPython.core.display.HTML object>"
      ]
     },
     "metadata": {},
     "output_type": "display_data"
    },
    {
     "data": {
      "text/html": [],
      "text/plain": [
       "<IPython.core.display.HTML object>"
      ]
     },
     "metadata": {},
     "output_type": "display_data"
    },
    {
     "data": {
      "text/html": [],
      "text/plain": [
       "<IPython.core.display.HTML object>"
      ]
     },
     "metadata": {},
     "output_type": "display_data"
    },
    {
     "data": {
      "text/html": [],
      "text/plain": [
       "<IPython.core.display.HTML object>"
      ]
     },
     "metadata": {},
     "output_type": "display_data"
    },
    {
     "data": {
      "text/html": [],
      "text/plain": [
       "<IPython.core.display.HTML object>"
      ]
     },
     "metadata": {},
     "output_type": "display_data"
    },
    {
     "data": {
      "text/html": [],
      "text/plain": [
       "<IPython.core.display.HTML object>"
      ]
     },
     "metadata": {},
     "output_type": "display_data"
    },
    {
     "data": {
      "text/html": [],
      "text/plain": [
       "<IPython.core.display.HTML object>"
      ]
     },
     "metadata": {},
     "output_type": "display_data"
    },
    {
     "data": {
      "text/html": [],
      "text/plain": [
       "<IPython.core.display.HTML object>"
      ]
     },
     "metadata": {},
     "output_type": "display_data"
    },
    {
     "data": {
      "text/html": [],
      "text/plain": [
       "<IPython.core.display.HTML object>"
      ]
     },
     "metadata": {},
     "output_type": "display_data"
    },
    {
     "data": {
      "text/html": [],
      "text/plain": [
       "<IPython.core.display.HTML object>"
      ]
     },
     "metadata": {},
     "output_type": "display_data"
    },
    {
     "data": {
      "text/html": [],
      "text/plain": [
       "<IPython.core.display.HTML object>"
      ]
     },
     "metadata": {},
     "output_type": "display_data"
    },
    {
     "data": {
      "text/html": [],
      "text/plain": [
       "<IPython.core.display.HTML object>"
      ]
     },
     "metadata": {},
     "output_type": "display_data"
    },
    {
     "data": {
      "text/html": [],
      "text/plain": [
       "<IPython.core.display.HTML object>"
      ]
     },
     "metadata": {},
     "output_type": "display_data"
    },
    {
     "data": {
      "text/html": [],
      "text/plain": [
       "<IPython.core.display.HTML object>"
      ]
     },
     "metadata": {},
     "output_type": "display_data"
    },
    {
     "data": {
      "text/html": [],
      "text/plain": [
       "<IPython.core.display.HTML object>"
      ]
     },
     "metadata": {},
     "output_type": "display_data"
    },
    {
     "data": {
      "text/html": [],
      "text/plain": [
       "<IPython.core.display.HTML object>"
      ]
     },
     "metadata": {},
     "output_type": "display_data"
    },
    {
     "data": {
      "text/html": [],
      "text/plain": [
       "<IPython.core.display.HTML object>"
      ]
     },
     "metadata": {},
     "output_type": "display_data"
    },
    {
     "data": {
      "text/html": [],
      "text/plain": [
       "<IPython.core.display.HTML object>"
      ]
     },
     "metadata": {},
     "output_type": "display_data"
    },
    {
     "data": {
      "text/html": [],
      "text/plain": [
       "<IPython.core.display.HTML object>"
      ]
     },
     "metadata": {},
     "output_type": "display_data"
    },
    {
     "data": {
      "text/html": [],
      "text/plain": [
       "<IPython.core.display.HTML object>"
      ]
     },
     "metadata": {},
     "output_type": "display_data"
    },
    {
     "data": {
      "text/html": [],
      "text/plain": [
       "<IPython.core.display.HTML object>"
      ]
     },
     "metadata": {},
     "output_type": "display_data"
    },
    {
     "data": {
      "text/html": [],
      "text/plain": [
       "<IPython.core.display.HTML object>"
      ]
     },
     "metadata": {},
     "output_type": "display_data"
    },
    {
     "data": {
      "text/html": [],
      "text/plain": [
       "<IPython.core.display.HTML object>"
      ]
     },
     "metadata": {},
     "output_type": "display_data"
    },
    {
     "data": {
      "text/html": [],
      "text/plain": [
       "<IPython.core.display.HTML object>"
      ]
     },
     "metadata": {},
     "output_type": "display_data"
    },
    {
     "data": {
      "text/html": [],
      "text/plain": [
       "<IPython.core.display.HTML object>"
      ]
     },
     "metadata": {},
     "output_type": "display_data"
    },
    {
     "data": {
      "text/html": [],
      "text/plain": [
       "<IPython.core.display.HTML object>"
      ]
     },
     "metadata": {},
     "output_type": "display_data"
    },
    {
     "data": {
      "text/html": [],
      "text/plain": [
       "<IPython.core.display.HTML object>"
      ]
     },
     "metadata": {},
     "output_type": "display_data"
    },
    {
     "data": {
      "text/html": [],
      "text/plain": [
       "<IPython.core.display.HTML object>"
      ]
     },
     "metadata": {},
     "output_type": "display_data"
    },
    {
     "data": {
      "text/html": [],
      "text/plain": [
       "<IPython.core.display.HTML object>"
      ]
     },
     "metadata": {},
     "output_type": "display_data"
    },
    {
     "data": {
      "text/html": [],
      "text/plain": [
       "<IPython.core.display.HTML object>"
      ]
     },
     "metadata": {},
     "output_type": "display_data"
    },
    {
     "data": {
      "text/html": [],
      "text/plain": [
       "<IPython.core.display.HTML object>"
      ]
     },
     "metadata": {},
     "output_type": "display_data"
    },
    {
     "data": {
      "text/html": [],
      "text/plain": [
       "<IPython.core.display.HTML object>"
      ]
     },
     "metadata": {},
     "output_type": "display_data"
    },
    {
     "data": {
      "text/html": [],
      "text/plain": [
       "<IPython.core.display.HTML object>"
      ]
     },
     "metadata": {},
     "output_type": "display_data"
    },
    {
     "data": {
      "text/html": [],
      "text/plain": [
       "<IPython.core.display.HTML object>"
      ]
     },
     "metadata": {},
     "output_type": "display_data"
    },
    {
     "data": {
      "text/html": [],
      "text/plain": [
       "<IPython.core.display.HTML object>"
      ]
     },
     "metadata": {},
     "output_type": "display_data"
    },
    {
     "data": {
      "text/html": [],
      "text/plain": [
       "<IPython.core.display.HTML object>"
      ]
     },
     "metadata": {},
     "output_type": "display_data"
    },
    {
     "data": {
      "text/html": [],
      "text/plain": [
       "<IPython.core.display.HTML object>"
      ]
     },
     "metadata": {},
     "output_type": "display_data"
    },
    {
     "data": {
      "text/html": [],
      "text/plain": [
       "<IPython.core.display.HTML object>"
      ]
     },
     "metadata": {},
     "output_type": "display_data"
    },
    {
     "data": {
      "text/html": [],
      "text/plain": [
       "<IPython.core.display.HTML object>"
      ]
     },
     "metadata": {},
     "output_type": "display_data"
    },
    {
     "data": {
      "text/html": [],
      "text/plain": [
       "<IPython.core.display.HTML object>"
      ]
     },
     "metadata": {},
     "output_type": "display_data"
    },
    {
     "data": {
      "text/html": [],
      "text/plain": [
       "<IPython.core.display.HTML object>"
      ]
     },
     "metadata": {},
     "output_type": "display_data"
    },
    {
     "data": {
      "text/html": [],
      "text/plain": [
       "<IPython.core.display.HTML object>"
      ]
     },
     "metadata": {},
     "output_type": "display_data"
    },
    {
     "data": {
      "text/html": [],
      "text/plain": [
       "<IPython.core.display.HTML object>"
      ]
     },
     "metadata": {},
     "output_type": "display_data"
    },
    {
     "data": {
      "text/html": [],
      "text/plain": [
       "<IPython.core.display.HTML object>"
      ]
     },
     "metadata": {},
     "output_type": "display_data"
    },
    {
     "data": {
      "text/html": [],
      "text/plain": [
       "<IPython.core.display.HTML object>"
      ]
     },
     "metadata": {},
     "output_type": "display_data"
    },
    {
     "data": {
      "text/html": [],
      "text/plain": [
       "<IPython.core.display.HTML object>"
      ]
     },
     "metadata": {},
     "output_type": "display_data"
    },
    {
     "data": {
      "text/html": [],
      "text/plain": [
       "<IPython.core.display.HTML object>"
      ]
     },
     "metadata": {},
     "output_type": "display_data"
    },
    {
     "data": {
      "text/html": [],
      "text/plain": [
       "<IPython.core.display.HTML object>"
      ]
     },
     "metadata": {},
     "output_type": "display_data"
    },
    {
     "data": {
      "text/html": [],
      "text/plain": [
       "<IPython.core.display.HTML object>"
      ]
     },
     "metadata": {},
     "output_type": "display_data"
    },
    {
     "data": {
      "text/html": [],
      "text/plain": [
       "<IPython.core.display.HTML object>"
      ]
     },
     "metadata": {},
     "output_type": "display_data"
    },
    {
     "data": {
      "text/html": [],
      "text/plain": [
       "<IPython.core.display.HTML object>"
      ]
     },
     "metadata": {},
     "output_type": "display_data"
    },
    {
     "data": {
      "text/html": [],
      "text/plain": [
       "<IPython.core.display.HTML object>"
      ]
     },
     "metadata": {},
     "output_type": "display_data"
    },
    {
     "data": {
      "text/html": [],
      "text/plain": [
       "<IPython.core.display.HTML object>"
      ]
     },
     "metadata": {},
     "output_type": "display_data"
    },
    {
     "data": {
      "text/html": [],
      "text/plain": [
       "<IPython.core.display.HTML object>"
      ]
     },
     "metadata": {},
     "output_type": "display_data"
    },
    {
     "data": {
      "text/html": [],
      "text/plain": [
       "<IPython.core.display.HTML object>"
      ]
     },
     "metadata": {},
     "output_type": "display_data"
    },
    {
     "data": {
      "text/html": [],
      "text/plain": [
       "<IPython.core.display.HTML object>"
      ]
     },
     "metadata": {},
     "output_type": "display_data"
    },
    {
     "data": {
      "text/html": [],
      "text/plain": [
       "<IPython.core.display.HTML object>"
      ]
     },
     "metadata": {},
     "output_type": "display_data"
    },
    {
     "data": {
      "text/html": [],
      "text/plain": [
       "<IPython.core.display.HTML object>"
      ]
     },
     "metadata": {},
     "output_type": "display_data"
    },
    {
     "data": {
      "text/html": [],
      "text/plain": [
       "<IPython.core.display.HTML object>"
      ]
     },
     "metadata": {},
     "output_type": "display_data"
    },
    {
     "data": {
      "text/html": [],
      "text/plain": [
       "<IPython.core.display.HTML object>"
      ]
     },
     "metadata": {},
     "output_type": "display_data"
    },
    {
     "data": {
      "text/html": [],
      "text/plain": [
       "<IPython.core.display.HTML object>"
      ]
     },
     "metadata": {},
     "output_type": "display_data"
    },
    {
     "data": {
      "text/html": [],
      "text/plain": [
       "<IPython.core.display.HTML object>"
      ]
     },
     "metadata": {},
     "output_type": "display_data"
    },
    {
     "data": {
      "text/html": [],
      "text/plain": [
       "<IPython.core.display.HTML object>"
      ]
     },
     "metadata": {},
     "output_type": "display_data"
    },
    {
     "data": {
      "text/html": [],
      "text/plain": [
       "<IPython.core.display.HTML object>"
      ]
     },
     "metadata": {},
     "output_type": "display_data"
    },
    {
     "data": {
      "text/html": [],
      "text/plain": [
       "<IPython.core.display.HTML object>"
      ]
     },
     "metadata": {},
     "output_type": "display_data"
    },
    {
     "data": {
      "text/html": [],
      "text/plain": [
       "<IPython.core.display.HTML object>"
      ]
     },
     "metadata": {},
     "output_type": "display_data"
    },
    {
     "data": {
      "text/html": [],
      "text/plain": [
       "<IPython.core.display.HTML object>"
      ]
     },
     "metadata": {},
     "output_type": "display_data"
    },
    {
     "data": {
      "text/html": [],
      "text/plain": [
       "<IPython.core.display.HTML object>"
      ]
     },
     "metadata": {},
     "output_type": "display_data"
    },
    {
     "data": {
      "text/html": [],
      "text/plain": [
       "<IPython.core.display.HTML object>"
      ]
     },
     "metadata": {},
     "output_type": "display_data"
    },
    {
     "data": {
      "text/html": [],
      "text/plain": [
       "<IPython.core.display.HTML object>"
      ]
     },
     "metadata": {},
     "output_type": "display_data"
    },
    {
     "data": {
      "text/html": [],
      "text/plain": [
       "<IPython.core.display.HTML object>"
      ]
     },
     "metadata": {},
     "output_type": "display_data"
    },
    {
     "data": {
      "text/html": [],
      "text/plain": [
       "<IPython.core.display.HTML object>"
      ]
     },
     "metadata": {},
     "output_type": "display_data"
    },
    {
     "data": {
      "text/html": [],
      "text/plain": [
       "<IPython.core.display.HTML object>"
      ]
     },
     "metadata": {},
     "output_type": "display_data"
    },
    {
     "data": {
      "text/html": [],
      "text/plain": [
       "<IPython.core.display.HTML object>"
      ]
     },
     "metadata": {},
     "output_type": "display_data"
    }
   ],
   "source": [
    "image_folder = 'mushroom-images'\n",
    "classes = []\n",
    "for m in mushies:\n",
    "    classes.append(m.spec.replace(' ', '-').lower())\n",
    "print(classes)\n",
    "for c in classes:\n",
    "    verify_images(image_folder + '/' + c, delete=True, max_size=500)"
   ]
  },
  {
   "cell_type": "markdown",
   "metadata": {},
   "source": [
    "Now we can create a databunch based on our mushroom-images folder:"
   ]
  },
  {
   "cell_type": "code",
   "execution_count": 46,
   "metadata": {},
   "outputs": [],
   "source": [
    "np.random.seed(42)\n",
    "data = ImageDataBunch.from_folder(image_folder, train=\".\", valid_pct=0.2,\n",
    "        ds_tfms=get_transforms(), size=224, num_workers=4).normalize(imagenet_stats)"
   ]
  },
  {
   "cell_type": "markdown",
   "metadata": {},
   "source": [
    "Let's take a look at our data:"
   ]
  },
  {
   "cell_type": "code",
   "execution_count": 47,
   "metadata": {},
   "outputs": [
    {
     "data": {
      "image/png": "[encoded data removed]",
      "text/plain": [
       "<Figure size 504x576 with 9 Axes>"
      ]
     },
     "metadata": {
      "needs_background": "light"
     },
     "output_type": "display_data"
    }
   ],
   "source": [
    "data.classes\n",
    "data.show_batch(rows=3, figsize=(7,8))"
   ]
  },
  {
   "cell_type": "code",
   "execution_count": null,
   "metadata": {},
   "outputs": [],
   "source": []
  }
 ],
 "metadata": {
  "kernelspec": {
   "display_name": "Python 3",
   "language": "python",
   "name": "python3"
  },
  "language_info": {
   "codemirror_mode": {
    "name": "ipython",
    "version": 3
   },
   "file_extension": ".py",
   "mimetype": "text/x-python",
   "name": "python",
   "nbconvert_exporter": "python",
   "pygments_lexer": "ipython3",
   "version": "3.7.7"
  }
 },
 "nbformat": 4,
 "nbformat_minor": 2
}
