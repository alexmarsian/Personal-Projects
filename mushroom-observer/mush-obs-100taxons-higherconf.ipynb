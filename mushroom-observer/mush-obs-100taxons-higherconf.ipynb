{
 "cells": [
  {
   "cell_type": "markdown",
   "metadata": {},
   "source": [
    "## Mushroom Pokédex Project\n",
    "Author: Alexander Mars\n",
    "14/04/2020\n",
    "\n",
    "The goal of this project is to build a CNN capable of predicting a mushroom's species from its photo. \n",
    "I have built simpler iterations based on images scraped from google images. \n",
    "For this iteration, I have kindly been given access to the mushroomobserver.org database (thank you Jason!), which contains over 1 million images of various fungi. Note that the database does not consist solely of mushrooms but may contain slimes, molds, and microscopic features of fungi. \n",
    "\n",
    "This database has been built from user-uploaded images that are generally collected whilst foraging. A user who uploads a photo or record of a mushroom creates an 'observation' on the mushroomobserver. At the time of upload a user can postulate what species they think the mushroom is. Over time each observation will have an associated vote of confidence (floating point number from 0-3) which is created by other users voting on what species they think the given observation is. \n",
    "\n",
    "So my goal here is to what level of accuracy can be achieved with a CNN given a large number of high quality images. Obviously mushroom classification is still a fine-grained problem, so this will be interesting!"
   ]
  },
  {
   "cell_type": "code",
   "execution_count": 1,
   "metadata": {},
   "outputs": [],
   "source": [
    "%reload_ext autoreload\n",
    "%autoreload 2\n",
    "%matplotlib inline"
   ]
  },
  {
   "cell_type": "code",
   "execution_count": 2,
   "metadata": {},
   "outputs": [],
   "source": [
    "from fastai.vision import * # for ease of use\n",
    "from fastai.metrics import error_rate\n",
    "import os, math, numpy, pandas as pd\n"
   ]
  },
  {
   "cell_type": "markdown",
   "metadata": {},
   "source": [
    "### Cleaning Up the Data"
   ]
  },
  {
   "cell_type": "markdown",
   "metadata": {},
   "source": [
    "In this iteration I'm going to try with observations of confidence 2.5 or higher:\n"
   ]
  },
  {
   "cell_type": "code",
   "execution_count": 30,
   "metadata": {},
   "outputs": [
    {
     "data": {
      "text/plain": [
       "PosixPath('/notebooks/storage/mushroom-obs-data')"
      ]
     },
     "execution_count": 30,
     "metadata": {},
     "output_type": "execute_result"
    }
   ],
   "source": [
    "datapath = Path('/notebooks/storage/mushroom-obs-data/')\n",
    "datapath"
   ]
  },
  {
   "cell_type": "markdown",
   "metadata": {},
   "source": [
    "The below CSVs were generated using the mush-obs-filtering notebook:"
   ]
  },
  {
   "cell_type": "code",
   "execution_count": 31,
   "metadata": {},
   "outputs": [],
   "source": [
    "species = pd.read_csv(datapath/'species_conf2.5_taxons1-4.csv')\n",
    "species_obs = pd.read_csv(datapath/'obs_conf2.5_taxons1-4.csv')\n",
    "images = pd.read_csv(datapath/'images_observations.csv')"
   ]
  },
  {
   "cell_type": "markdown",
   "metadata": {},
   "source": [
    "### Most Commonly Observed Mushrooms"
   ]
  },
  {
   "cell_type": "markdown",
   "metadata": {},
   "source": [
    "Now getting the top 100 frequently observed obs is trivial using pandas"
   ]
  },
  {
   "cell_type": "code",
   "execution_count": 32,
   "metadata": {
    "scrolled": true
   },
   "outputs": [],
   "source": [
    "top_100_taxons = species_obs['taxon_id'].value_counts()[:100].index.tolist()"
   ]
  },
  {
   "cell_type": "code",
   "execution_count": 33,
   "metadata": {},
   "outputs": [
    {
     "data": {
      "text/plain": [
       "525"
      ]
     },
     "execution_count": 33,
     "metadata": {},
     "output_type": "execute_result"
    }
   ],
   "source": [
    "# Most observed\n",
    "len(species_obs[species_obs.taxon_id=='s8935.0'].index)"
   ]
  },
  {
   "cell_type": "code",
   "execution_count": 37,
   "metadata": {},
   "outputs": [
    {
     "data": {
      "text/plain": [
       "'Amanita muscaria'"
      ]
     },
     "execution_count": 37,
     "metadata": {},
     "output_type": "execute_result"
    }
   ],
   "source": [
    "species[species.synonym_id==8935.0].iloc[0]['text_name']"
   ]
  },
  {
   "cell_type": "markdown",
   "metadata": {},
   "source": [
    "No surprises there, the most commonly observed mushroom on mushroom observer (species level and below) is Amanita muscaria! "
   ]
  },
  {
   "cell_type": "code",
   "execution_count": 39,
   "metadata": {
    "scrolled": true
   },
   "outputs": [
    {
     "data": {
      "text/plain": [
       "110"
      ]
     },
     "execution_count": 39,
     "metadata": {},
     "output_type": "execute_result"
    }
   ],
   "source": [
    "# 100th most observed\n",
    "len(species_obs[species_obs.taxon_id=='s3882.0'].index)"
   ]
  },
  {
   "cell_type": "markdown",
   "metadata": {},
   "source": [
    "Now I'm going to see how many images are associated with each taxon_id"
   ]
  },
  {
   "cell_type": "markdown",
   "metadata": {},
   "source": [
    "Each image is associated with an observation, and we can see that multiple images may be linked to an observation"
   ]
  },
  {
   "cell_type": "code",
   "execution_count": 41,
   "metadata": {},
   "outputs": [],
   "source": [
    "species_obs[species_obs.taxon_id=='s515.0']\n",
    "taxon_images = {}\n",
    "images_per_taxon = {}\n",
    "for t_id in top_100_taxons:\n",
    "    t_obs = list(species_obs.loc[species_obs.taxon_id==t_id,'id'])\n",
    "    taxon_images[t_id] = list(images.loc[images.observation_id.isin(t_obs),'image_id'])\n",
    "    images_per_taxon[t_id] = len(images.loc[images.observation_id.isin(t_obs)].index)"
   ]
  },
  {
   "cell_type": "code",
   "execution_count": 42,
   "metadata": {
    "scrolled": true
   },
   "outputs": [
    {
     "data": {
      "text/plain": [
       "{'s8935.0': 1463,\n",
       " 's4152.0': 1099,\n",
       " 's2852.0': 769,\n",
       " 's8882.0': 845,\n",
       " 's2818.0': 772,\n",
       " 's2669.0': 767,\n",
       " 's2883.0': 661,\n",
       " 's7059.0': 653,\n",
       " 's8924.0': 621,\n",
       " 's253.0': 465,\n",
       " 's4157.0': 1075,\n",
       " 's3614.0': 571,\n",
       " 's8908.0': 500,\n",
       " 's7118.0': 1012,\n",
       " 's8869.0': 583,\n",
       " 's2735.0': 759,\n",
       " 's6107.0': 468,\n",
       " 's6024.0': 477,\n",
       " 's7649.0': 467,\n",
       " 's6080.0': 474,\n",
       " 's5848.0': 480,\n",
       " 's2523.0': 558,\n",
       " 's537.0': 382,\n",
       " 'n44785': 486,\n",
       " 's2663.0': 477,\n",
       " 's8982.0': 443,\n",
       " 'n100': 388,\n",
       " 's3868.0': 372,\n",
       " 's508.0': 450,\n",
       " 's7558.0': 390,\n",
       " 's2853.0': 336,\n",
       " 's2814.0': 430,\n",
       " 's4455.0': 358,\n",
       " 's57.0': 536,\n",
       " 's4073.0': 406,\n",
       " 's6768.0': 376,\n",
       " 's2592.0': 362,\n",
       " 's174.0': 314,\n",
       " 's2591.0': 312,\n",
       " 's6913.0': 770,\n",
       " 's2854.0': 402,\n",
       " 's5053.0': 336,\n",
       " 's2681.0': 361,\n",
       " 's2650.0': 422,\n",
       " 's4176.0': 403,\n",
       " 's8986.0': 605,\n",
       " 'n271': 440,\n",
       " 's5575.0': 271,\n",
       " 's2994.0': 447,\n",
       " 's496.0': 266,\n",
       " 's2876.0': 329,\n",
       " 's6563.0': 401,\n",
       " 'n139': 372,\n",
       " 's2536.0': 376,\n",
       " 's8870.0': 355,\n",
       " 's3684.0': 364,\n",
       " 'n53': 353,\n",
       " 's6222.0': 281,\n",
       " 's641.0': 368,\n",
       " 's8905.0': 379,\n",
       " 's132.0': 268,\n",
       " 'n330': 306,\n",
       " 's4709.0': 331,\n",
       " 's2945.0': 423,\n",
       " 's3197.0': 299,\n",
       " 'n958': 243,\n",
       " 's2658.0': 302,\n",
       " 's2510.0': 262,\n",
       " 's59.0': 252,\n",
       " 's2654.0': 339,\n",
       " 's4112.0': 355,\n",
       " 's570.0': 190,\n",
       " 'n2710': 297,\n",
       " 'n383': 268,\n",
       " 's3157.0': 278,\n",
       " 's6036.0': 371,\n",
       " 's2961.0': 384,\n",
       " 's2830.0': 340,\n",
       " 'n362': 385,\n",
       " 's3854.0': 342,\n",
       " 's3086.0': 349,\n",
       " 's1287.0': 170,\n",
       " 's6324.0': 307,\n",
       " 's515.0': 352,\n",
       " 's131.0': 326,\n",
       " 's6712.0': 178,\n",
       " 's4616.0': 215,\n",
       " 's6068.0': 342,\n",
       " 's134.0': 264,\n",
       " 's4593.0': 310,\n",
       " 's365.0': 256,\n",
       " 's591.0': 256,\n",
       " 's2586.0': 316,\n",
       " 's708.0': 241,\n",
       " 's3356.0': 290,\n",
       " 'n355': 245,\n",
       " 's6674.0': 175,\n",
       " 's580.0': 237,\n",
       " 's3205.0': 218,\n",
       " 's3882.0': 258}"
      ]
     },
     "execution_count": 42,
     "metadata": {},
     "output_type": "execute_result"
    }
   ],
   "source": [
    "images_per_taxon"
   ]
  },
  {
   "cell_type": "code",
   "execution_count": 43,
   "metadata": {},
   "outputs": [
    {
     "data": {
      "text/plain": [
       "42198"
      ]
     },
     "execution_count": 43,
     "metadata": {},
     "output_type": "execute_result"
    }
   ],
   "source": [
    "sum(images_per_taxon.values())"
   ]
  },
  {
   "cell_type": "markdown",
   "metadata": {},
   "source": [
    "Ok so we have 42, 198 images of mushrooms across the top 100 most commonly observed taxons."
   ]
  },
  {
   "cell_type": "markdown",
   "metadata": {},
   "source": [
    "### Downloading Images"
   ]
  },
  {
   "cell_type": "markdown",
   "metadata": {},
   "source": [
    "#### Create an image directory"
   ]
  },
  {
   "cell_type": "code",
   "execution_count": 7,
   "metadata": {},
   "outputs": [],
   "source": [
    "mushroom_images = Path(datapath/'mushroom-images-conf')"
   ]
  },
  {
   "cell_type": "code",
   "execution_count": 59,
   "metadata": {},
   "outputs": [],
   "source": [
    "os.mkdir(mushroom_images)"
   ]
  },
  {
   "cell_type": "markdown",
   "metadata": {},
   "source": [
    "#### Creating classes"
   ]
  },
  {
   "cell_type": "markdown",
   "metadata": {},
   "source": [
    "Now I'm to create classes that will be used to train the model, these classes will serve as folder and file names for their respective images too."
   ]
  },
  {
   "cell_type": "code",
   "execution_count": 48,
   "metadata": {},
   "outputs": [],
   "source": [
    "# Synonym_id Rank -> String\n",
    "# Get all the class names for the most commonly observed taxons\n",
    "def get_class_name(tax_id, r):\n",
    "    \n",
    "    def get_class_subf(condition, id_val, r):\n",
    "        return species[(species[condition]==float(id_val)) & (species['rank']==r)]\n",
    "    \n",
    "    if tax_id[0] == 's':\n",
    "        c = get_class_subf('synonym_id', tax_id[1:], r)\n",
    "        if not c.empty:\n",
    "            return c.iloc[0]['text_name'].replace(' ', '-')\n",
    "        else:\n",
    "            '-'.join(get_class_name(tax_id,r-1).split()[:2])\n",
    "    else:\n",
    "        c = get_class_subf('id', tax_id[1:], r)\n",
    "        if not c.empty:\n",
    "            return c.iloc[0]['text_name'].replace(' ', '-')\n",
    "        else:\n",
    "            '-'.join(get_class_name(tax_id,r-1).split()[:2])\n",
    "\n",
    "classes = []\n",
    "for t_id in top_100_taxons:\n",
    "    c = get_class_name(t_id, 4)\n",
    "    classes.append(c)"
   ]
  },
  {
   "cell_type": "code",
   "execution_count": 49,
   "metadata": {},
   "outputs": [
    {
     "data": {
      "text/plain": [
       "True"
      ]
     },
     "execution_count": 49,
     "metadata": {},
     "output_type": "execute_result"
    }
   ],
   "source": [
    "# Sanity check that there are no duplicates in this list\n",
    "# there should not be if the assimilate taxon_ids algorithm worked properly\n",
    "len(classes) == len(set(classes))"
   ]
  },
  {
   "cell_type": "code",
   "execution_count": 50,
   "metadata": {
    "scrolled": true
   },
   "outputs": [
    {
     "data": {
      "text/plain": [
       "['Amanita-muscaria',\n",
       " 'Trametes-versicolor',\n",
       " 'Schizophyllum-commune',\n",
       " 'Lepista-nuda',\n",
       " 'Galerina-autumnalis',\n",
       " 'Coprinus-comatus',\n",
       " 'Phaeolus-schweinitzii',\n",
       " 'Polyporus-squamosus',\n",
       " 'Pleurotus-ostreatus',\n",
       " 'Lycoperdon-perlatum',\n",
       " 'Mixed-collection',\n",
       " 'Lenzites-betulina',\n",
       " 'Hypholoma-fasciculare',\n",
       " 'Psilocybe-cyanescens',\n",
       " 'Boletus-edulis',\n",
       " 'Amanita-phalloides',\n",
       " 'Mycena-leaiana',\n",
       " 'Mycena-haematopus',\n",
       " 'Hypomyces-lactifluorum',\n",
       " 'Ganoderma-applanatum',\n",
       " 'Laetiporus-sulphureus',\n",
       " 'Trichaptum-biforme',\n",
       " 'Lycoperdon-pyriforme',\n",
       " 'Tricholoma-murrillianum',\n",
       " 'Panellus-stipticus',\n",
       " 'Leratiomyces-ceres',\n",
       " 'Pseudohydnum-gelatinosum',\n",
       " 'Lycogala-epidendrum',\n",
       " 'Tapinella-atrotomentosa',\n",
       " 'Gliophorus-psittacinus',\n",
       " 'Amanita-augusta',\n",
       " 'Phyllotopsis-nidulans',\n",
       " 'Polyporus-alveolaris',\n",
       " 'Chlorophyllum-molybdites',\n",
       " 'Lactarius-volemus',\n",
       " 'Bolbitius-vitellinus',\n",
       " 'Suillus-spraguei',\n",
       " 'Hericium-erinaceus',\n",
       " 'Leotia-viscosa',\n",
       " 'Psilocybe-ovoideocystidiata',\n",
       " 'Panellus-serotinus',\n",
       " 'Stereum-ostrea',\n",
       " 'Fuligo-septica',\n",
       " 'Psilocybe-cubensis',\n",
       " 'Lactarius-indigo',\n",
       " 'Ganoderma-oregonense',\n",
       " 'Flammulina-velutipes',\n",
       " 'Hygrophoropsis-aurantiaca',\n",
       " 'Hypholoma-lateritium',\n",
       " 'Artomyces-pyxidatus',\n",
       " 'Polyporus-badius',\n",
       " 'Armillaria-mellea',\n",
       " 'Omphalotus-illudens',\n",
       " 'Armillaria-tabescens',\n",
       " 'Ceratiomyxa-fruticulosa',\n",
       " 'Suillus-luteus',\n",
       " 'Stropharia-ambigua',\n",
       " 'Fomitopsis-mounceae',\n",
       " 'Retiboletus-ornatipes',\n",
       " 'Amanita-brunnescens',\n",
       " 'Gomphus-floccosus',\n",
       " 'Cantharellus-cinnabarinus',\n",
       " 'Ischnoderma-resinosum',\n",
       " 'Ganoderma-tsugae',\n",
       " 'Cryptoporus-volvatus',\n",
       " 'Omphalotus-olivascens',\n",
       " 'Amanita-flavoconia',\n",
       " 'Laccaria-amethysteo-occidentalis',\n",
       " 'Cantharellus-lateritius',\n",
       " 'Tylopilus-felleus',\n",
       " 'Megacollybia-rodmani',\n",
       " 'Mycena-pura',\n",
       " 'Laccaria-ochropurpurea',\n",
       " 'Aleuria-aurantia',\n",
       " 'Craterellus-fallax',\n",
       " 'Agaricus-augustus',\n",
       " 'Psathyrella-candolleana',\n",
       " 'Xanthoconium-separans',\n",
       " 'Amanita-velosa',\n",
       " 'Agaricus-xanthodermus',\n",
       " 'Entoloma-abortivum',\n",
       " 'Flavoparmelia-caperata',\n",
       " 'Coprinellus-micaceus',\n",
       " 'Tubaria-furfuracea',\n",
       " 'Gloeophyllum-saepiarium',\n",
       " 'Stereum-hirsutum',\n",
       " 'Fomitopsis-pinicola',\n",
       " 'Pluteus-cervinus',\n",
       " 'Grifola-frondosa',\n",
       " 'Boletus-frostii',\n",
       " 'Scleroderma-citrinum',\n",
       " 'Cantharellus-formosus',\n",
       " 'Pleurotus-pulmonarius',\n",
       " 'Hypholoma-capnoides',\n",
       " 'Phellinus-gilvus',\n",
       " 'Auriscalpium-vulgare',\n",
       " 'Tremella-aurantia',\n",
       " 'Lactarius-rubidus',\n",
       " 'Amanita-calyptroderma',\n",
       " 'Gyroporus-castaneus']"
      ]
     },
     "execution_count": 50,
     "metadata": {},
     "output_type": "execute_result"
    }
   ],
   "source": [
    "classes"
   ]
  },
  {
   "cell_type": "markdown",
   "metadata": {},
   "source": [
    "#### Fetching Image URLs\n"
   ]
  },
  {
   "cell_type": "markdown",
   "metadata": {},
   "source": [
    "For each class, I'm going to create a CSV file containing all the image URLs available through mushroomobserver.org"
   ]
  },
  {
   "cell_type": "code",
   "execution_count": 51,
   "metadata": {},
   "outputs": [
    {
     "data": {
      "text/plain": [
       "100"
      ]
     },
     "execution_count": 51,
     "metadata": {},
     "output_type": "execute_result"
    }
   ],
   "source": [
    "len(taxon_images)"
   ]
  },
  {
   "cell_type": "code",
   "execution_count": 52,
   "metadata": {},
   "outputs": [
    {
     "data": {
      "text/plain": [
       "100"
      ]
     },
     "execution_count": 52,
     "metadata": {},
     "output_type": "execute_result"
    }
   ],
   "source": [
    "len(classes)"
   ]
  },
  {
   "cell_type": "code",
   "execution_count": 57,
   "metadata": {},
   "outputs": [],
   "source": [
    "# Run this if you want to remove the mushroom-images folder, maybe because you want more images!\n",
    "import shutil\n",
    "shutil.rmtree(mushroom_images)"
   ]
  },
  {
   "cell_type": "markdown",
   "metadata": {},
   "source": [
    "Note the below URL bypasses the servers at mushroom observer."
   ]
  },
  {
   "cell_type": "code",
   "execution_count": 60,
   "metadata": {},
   "outputs": [],
   "source": [
    "base_URL = 'https://images.mushroomobserver.org/320/img_id.jpg'\n",
    "for i, (t_id, img_ids) in enumerate(taxon_images.items()):\n",
    "    os.mkdir(mushroom_images/classes[i])\n",
    "    filename = classes[i]+'.csv'\n",
    "    with open(mushroom_images/classes[i]/filename, 'w') as f:\n",
    "        for img_id in img_ids:\n",
    "            f.write(base_URL.replace('img_id', str(img_id)))\n",
    "            f.write('\\n')"
   ]
  },
  {
   "cell_type": "markdown",
   "metadata": {},
   "source": [
    "At this point I checked the folder containing all the class folders and noticed a folder called 'Mixed-collection'. This must be one of the 100 most popular identifiers under which observations are uploaded, however I am going to exclude it because it will contribute to error. "
   ]
  },
  {
   "cell_type": "markdown",
   "metadata": {},
   "source": [
    "#### Downloading Images"
   ]
  },
  {
   "cell_type": "code",
   "execution_count": 61,
   "metadata": {
    "scrolled": true
   },
   "outputs": [
    {
     "data": {
      "text/html": [],
      "text/plain": [
       "<IPython.core.display.HTML object>"
      ]
     },
     "metadata": {},
     "output_type": "display_data"
    },
    {
     "data": {
      "text/html": [],
      "text/plain": [
       "<IPython.core.display.HTML object>"
      ]
     },
     "metadata": {},
     "output_type": "display_data"
    },
    {
     "data": {
      "text/html": [],
      "text/plain": [
       "<IPython.core.display.HTML object>"
      ]
     },
     "metadata": {},
     "output_type": "display_data"
    },
    {
     "data": {
      "text/html": [],
      "text/plain": [
       "<IPython.core.display.HTML object>"
      ]
     },
     "metadata": {},
     "output_type": "display_data"
    },
    {
     "data": {
      "text/html": [],
      "text/plain": [
       "<IPython.core.display.HTML object>"
      ]
     },
     "metadata": {},
     "output_type": "display_data"
    },
    {
     "data": {
      "text/html": [],
      "text/plain": [
       "<IPython.core.display.HTML object>"
      ]
     },
     "metadata": {},
     "output_type": "display_data"
    },
    {
     "data": {
      "text/html": [],
      "text/plain": [
       "<IPython.core.display.HTML object>"
      ]
     },
     "metadata": {},
     "output_type": "display_data"
    },
    {
     "data": {
      "text/html": [],
      "text/plain": [
       "<IPython.core.display.HTML object>"
      ]
     },
     "metadata": {},
     "output_type": "display_data"
    },
    {
     "data": {
      "text/html": [],
      "text/plain": [
       "<IPython.core.display.HTML object>"
      ]
     },
     "metadata": {},
     "output_type": "display_data"
    },
    {
     "data": {
      "text/html": [],
      "text/plain": [
       "<IPython.core.display.HTML object>"
      ]
     },
     "metadata": {},
     "output_type": "display_data"
    },
    {
     "data": {
      "text/html": [],
      "text/plain": [
       "<IPython.core.display.HTML object>"
      ]
     },
     "metadata": {},
     "output_type": "display_data"
    },
    {
     "data": {
      "text/html": [],
      "text/plain": [
       "<IPython.core.display.HTML object>"
      ]
     },
     "metadata": {},
     "output_type": "display_data"
    },
    {
     "data": {
      "text/html": [],
      "text/plain": [
       "<IPython.core.display.HTML object>"
      ]
     },
     "metadata": {},
     "output_type": "display_data"
    },
    {
     "data": {
      "text/html": [],
      "text/plain": [
       "<IPython.core.display.HTML object>"
      ]
     },
     "metadata": {},
     "output_type": "display_data"
    },
    {
     "data": {
      "text/html": [],
      "text/plain": [
       "<IPython.core.display.HTML object>"
      ]
     },
     "metadata": {},
     "output_type": "display_data"
    },
    {
     "data": {
      "text/html": [],
      "text/plain": [
       "<IPython.core.display.HTML object>"
      ]
     },
     "metadata": {},
     "output_type": "display_data"
    },
    {
     "data": {
      "text/html": [],
      "text/plain": [
       "<IPython.core.display.HTML object>"
      ]
     },
     "metadata": {},
     "output_type": "display_data"
    },
    {
     "data": {
      "text/html": [],
      "text/plain": [
       "<IPython.core.display.HTML object>"
      ]
     },
     "metadata": {},
     "output_type": "display_data"
    },
    {
     "data": {
      "text/html": [],
      "text/plain": [
       "<IPython.core.display.HTML object>"
      ]
     },
     "metadata": {},
     "output_type": "display_data"
    },
    {
     "data": {
      "text/html": [],
      "text/plain": [
       "<IPython.core.display.HTML object>"
      ]
     },
     "metadata": {},
     "output_type": "display_data"
    },
    {
     "data": {
      "text/html": [],
      "text/plain": [
       "<IPython.core.display.HTML object>"
      ]
     },
     "metadata": {},
     "output_type": "display_data"
    },
    {
     "data": {
      "text/html": [],
      "text/plain": [
       "<IPython.core.display.HTML object>"
      ]
     },
     "metadata": {},
     "output_type": "display_data"
    },
    {
     "data": {
      "text/html": [],
      "text/plain": [
       "<IPython.core.display.HTML object>"
      ]
     },
     "metadata": {},
     "output_type": "display_data"
    },
    {
     "data": {
      "text/html": [],
      "text/plain": [
       "<IPython.core.display.HTML object>"
      ]
     },
     "metadata": {},
     "output_type": "display_data"
    },
    {
     "data": {
      "text/html": [],
      "text/plain": [
       "<IPython.core.display.HTML object>"
      ]
     },
     "metadata": {},
     "output_type": "display_data"
    },
    {
     "data": {
      "text/html": [],
      "text/plain": [
       "<IPython.core.display.HTML object>"
      ]
     },
     "metadata": {},
     "output_type": "display_data"
    },
    {
     "data": {
      "text/html": [],
      "text/plain": [
       "<IPython.core.display.HTML object>"
      ]
     },
     "metadata": {},
     "output_type": "display_data"
    },
    {
     "data": {
      "text/html": [],
      "text/plain": [
       "<IPython.core.display.HTML object>"
      ]
     },
     "metadata": {},
     "output_type": "display_data"
    },
    {
     "data": {
      "text/html": [],
      "text/plain": [
       "<IPython.core.display.HTML object>"
      ]
     },
     "metadata": {},
     "output_type": "display_data"
    },
    {
     "data": {
      "text/html": [],
      "text/plain": [
       "<IPython.core.display.HTML object>"
      ]
     },
     "metadata": {},
     "output_type": "display_data"
    },
    {
     "data": {
      "text/html": [],
      "text/plain": [
       "<IPython.core.display.HTML object>"
      ]
     },
     "metadata": {},
     "output_type": "display_data"
    },
    {
     "data": {
      "text/html": [],
      "text/plain": [
       "<IPython.core.display.HTML object>"
      ]
     },
     "metadata": {},
     "output_type": "display_data"
    },
    {
     "data": {
      "text/html": [],
      "text/plain": [
       "<IPython.core.display.HTML object>"
      ]
     },
     "metadata": {},
     "output_type": "display_data"
    },
    {
     "data": {
      "text/html": [],
      "text/plain": [
       "<IPython.core.display.HTML object>"
      ]
     },
     "metadata": {},
     "output_type": "display_data"
    },
    {
     "data": {
      "text/html": [],
      "text/plain": [
       "<IPython.core.display.HTML object>"
      ]
     },
     "metadata": {},
     "output_type": "display_data"
    },
    {
     "data": {
      "text/html": [],
      "text/plain": [
       "<IPython.core.display.HTML object>"
      ]
     },
     "metadata": {},
     "output_type": "display_data"
    },
    {
     "data": {
      "text/html": [],
      "text/plain": [
       "<IPython.core.display.HTML object>"
      ]
     },
     "metadata": {},
     "output_type": "display_data"
    },
    {
     "data": {
      "text/html": [],
      "text/plain": [
       "<IPython.core.display.HTML object>"
      ]
     },
     "metadata": {},
     "output_type": "display_data"
    },
    {
     "data": {
      "text/html": [],
      "text/plain": [
       "<IPython.core.display.HTML object>"
      ]
     },
     "metadata": {},
     "output_type": "display_data"
    },
    {
     "data": {
      "text/html": [],
      "text/plain": [
       "<IPython.core.display.HTML object>"
      ]
     },
     "metadata": {},
     "output_type": "display_data"
    },
    {
     "data": {
      "text/html": [],
      "text/plain": [
       "<IPython.core.display.HTML object>"
      ]
     },
     "metadata": {},
     "output_type": "display_data"
    },
    {
     "data": {
      "text/html": [],
      "text/plain": [
       "<IPython.core.display.HTML object>"
      ]
     },
     "metadata": {},
     "output_type": "display_data"
    },
    {
     "data": {
      "text/html": [],
      "text/plain": [
       "<IPython.core.display.HTML object>"
      ]
     },
     "metadata": {},
     "output_type": "display_data"
    },
    {
     "data": {
      "text/html": [],
      "text/plain": [
       "<IPython.core.display.HTML object>"
      ]
     },
     "metadata": {},
     "output_type": "display_data"
    },
    {
     "data": {
      "text/html": [],
      "text/plain": [
       "<IPython.core.display.HTML object>"
      ]
     },
     "metadata": {},
     "output_type": "display_data"
    },
    {
     "data": {
      "text/html": [],
      "text/plain": [
       "<IPython.core.display.HTML object>"
      ]
     },
     "metadata": {},
     "output_type": "display_data"
    },
    {
     "data": {
      "text/html": [],
      "text/plain": [
       "<IPython.core.display.HTML object>"
      ]
     },
     "metadata": {},
     "output_type": "display_data"
    },
    {
     "data": {
      "text/html": [],
      "text/plain": [
       "<IPython.core.display.HTML object>"
      ]
     },
     "metadata": {},
     "output_type": "display_data"
    },
    {
     "data": {
      "text/html": [],
      "text/plain": [
       "<IPython.core.display.HTML object>"
      ]
     },
     "metadata": {},
     "output_type": "display_data"
    },
    {
     "data": {
      "text/html": [],
      "text/plain": [
       "<IPython.core.display.HTML object>"
      ]
     },
     "metadata": {},
     "output_type": "display_data"
    },
    {
     "data": {
      "text/html": [],
      "text/plain": [
       "<IPython.core.display.HTML object>"
      ]
     },
     "metadata": {},
     "output_type": "display_data"
    },
    {
     "data": {
      "text/html": [],
      "text/plain": [
       "<IPython.core.display.HTML object>"
      ]
     },
     "metadata": {},
     "output_type": "display_data"
    },
    {
     "data": {
      "text/html": [],
      "text/plain": [
       "<IPython.core.display.HTML object>"
      ]
     },
     "metadata": {},
     "output_type": "display_data"
    },
    {
     "data": {
      "text/html": [],
      "text/plain": [
       "<IPython.core.display.HTML object>"
      ]
     },
     "metadata": {},
     "output_type": "display_data"
    },
    {
     "data": {
      "text/html": [],
      "text/plain": [
       "<IPython.core.display.HTML object>"
      ]
     },
     "metadata": {},
     "output_type": "display_data"
    },
    {
     "data": {
      "text/html": [],
      "text/plain": [
       "<IPython.core.display.HTML object>"
      ]
     },
     "metadata": {},
     "output_type": "display_data"
    },
    {
     "data": {
      "text/html": [],
      "text/plain": [
       "<IPython.core.display.HTML object>"
      ]
     },
     "metadata": {},
     "output_type": "display_data"
    },
    {
     "data": {
      "text/html": [],
      "text/plain": [
       "<IPython.core.display.HTML object>"
      ]
     },
     "metadata": {},
     "output_type": "display_data"
    },
    {
     "data": {
      "text/html": [],
      "text/plain": [
       "<IPython.core.display.HTML object>"
      ]
     },
     "metadata": {},
     "output_type": "display_data"
    },
    {
     "data": {
      "text/html": [],
      "text/plain": [
       "<IPython.core.display.HTML object>"
      ]
     },
     "metadata": {},
     "output_type": "display_data"
    },
    {
     "data": {
      "text/html": [],
      "text/plain": [
       "<IPython.core.display.HTML object>"
      ]
     },
     "metadata": {},
     "output_type": "display_data"
    },
    {
     "data": {
      "text/html": [],
      "text/plain": [
       "<IPython.core.display.HTML object>"
      ]
     },
     "metadata": {},
     "output_type": "display_data"
    },
    {
     "data": {
      "text/html": [],
      "text/plain": [
       "<IPython.core.display.HTML object>"
      ]
     },
     "metadata": {},
     "output_type": "display_data"
    },
    {
     "data": {
      "text/html": [],
      "text/plain": [
       "<IPython.core.display.HTML object>"
      ]
     },
     "metadata": {},
     "output_type": "display_data"
    },
    {
     "data": {
      "text/html": [],
      "text/plain": [
       "<IPython.core.display.HTML object>"
      ]
     },
     "metadata": {},
     "output_type": "display_data"
    },
    {
     "data": {
      "text/html": [],
      "text/plain": [
       "<IPython.core.display.HTML object>"
      ]
     },
     "metadata": {},
     "output_type": "display_data"
    },
    {
     "data": {
      "text/html": [],
      "text/plain": [
       "<IPython.core.display.HTML object>"
      ]
     },
     "metadata": {},
     "output_type": "display_data"
    },
    {
     "data": {
      "text/html": [],
      "text/plain": [
       "<IPython.core.display.HTML object>"
      ]
     },
     "metadata": {},
     "output_type": "display_data"
    },
    {
     "data": {
      "text/html": [],
      "text/plain": [
       "<IPython.core.display.HTML object>"
      ]
     },
     "metadata": {},
     "output_type": "display_data"
    },
    {
     "data": {
      "text/html": [],
      "text/plain": [
       "<IPython.core.display.HTML object>"
      ]
     },
     "metadata": {},
     "output_type": "display_data"
    },
    {
     "data": {
      "text/html": [],
      "text/plain": [
       "<IPython.core.display.HTML object>"
      ]
     },
     "metadata": {},
     "output_type": "display_data"
    },
    {
     "data": {
      "text/html": [],
      "text/plain": [
       "<IPython.core.display.HTML object>"
      ]
     },
     "metadata": {},
     "output_type": "display_data"
    },
    {
     "data": {
      "text/html": [],
      "text/plain": [
       "<IPython.core.display.HTML object>"
      ]
     },
     "metadata": {},
     "output_type": "display_data"
    },
    {
     "data": {
      "text/html": [],
      "text/plain": [
       "<IPython.core.display.HTML object>"
      ]
     },
     "metadata": {},
     "output_type": "display_data"
    },
    {
     "data": {
      "text/html": [],
      "text/plain": [
       "<IPython.core.display.HTML object>"
      ]
     },
     "metadata": {},
     "output_type": "display_data"
    },
    {
     "data": {
      "text/html": [],
      "text/plain": [
       "<IPython.core.display.HTML object>"
      ]
     },
     "metadata": {},
     "output_type": "display_data"
    },
    {
     "data": {
      "text/html": [],
      "text/plain": [
       "<IPython.core.display.HTML object>"
      ]
     },
     "metadata": {},
     "output_type": "display_data"
    },
    {
     "data": {
      "text/html": [],
      "text/plain": [
       "<IPython.core.display.HTML object>"
      ]
     },
     "metadata": {},
     "output_type": "display_data"
    },
    {
     "data": {
      "text/html": [],
      "text/plain": [
       "<IPython.core.display.HTML object>"
      ]
     },
     "metadata": {},
     "output_type": "display_data"
    },
    {
     "data": {
      "text/html": [],
      "text/plain": [
       "<IPython.core.display.HTML object>"
      ]
     },
     "metadata": {},
     "output_type": "display_data"
    },
    {
     "data": {
      "text/html": [],
      "text/plain": [
       "<IPython.core.display.HTML object>"
      ]
     },
     "metadata": {},
     "output_type": "display_data"
    },
    {
     "data": {
      "text/html": [],
      "text/plain": [
       "<IPython.core.display.HTML object>"
      ]
     },
     "metadata": {},
     "output_type": "display_data"
    },
    {
     "data": {
      "text/html": [],
      "text/plain": [
       "<IPython.core.display.HTML object>"
      ]
     },
     "metadata": {},
     "output_type": "display_data"
    },
    {
     "data": {
      "text/html": [],
      "text/plain": [
       "<IPython.core.display.HTML object>"
      ]
     },
     "metadata": {},
     "output_type": "display_data"
    },
    {
     "data": {
      "text/html": [],
      "text/plain": [
       "<IPython.core.display.HTML object>"
      ]
     },
     "metadata": {},
     "output_type": "display_data"
    },
    {
     "data": {
      "text/html": [],
      "text/plain": [
       "<IPython.core.display.HTML object>"
      ]
     },
     "metadata": {},
     "output_type": "display_data"
    },
    {
     "data": {
      "text/html": [],
      "text/plain": [
       "<IPython.core.display.HTML object>"
      ]
     },
     "metadata": {},
     "output_type": "display_data"
    },
    {
     "data": {
      "text/html": [],
      "text/plain": [
       "<IPython.core.display.HTML object>"
      ]
     },
     "metadata": {},
     "output_type": "display_data"
    },
    {
     "data": {
      "text/html": [],
      "text/plain": [
       "<IPython.core.display.HTML object>"
      ]
     },
     "metadata": {},
     "output_type": "display_data"
    },
    {
     "data": {
      "text/html": [],
      "text/plain": [
       "<IPython.core.display.HTML object>"
      ]
     },
     "metadata": {},
     "output_type": "display_data"
    },
    {
     "data": {
      "text/html": [],
      "text/plain": [
       "<IPython.core.display.HTML object>"
      ]
     },
     "metadata": {},
     "output_type": "display_data"
    },
    {
     "data": {
      "text/html": [],
      "text/plain": [
       "<IPython.core.display.HTML object>"
      ]
     },
     "metadata": {},
     "output_type": "display_data"
    },
    {
     "data": {
      "text/html": [],
      "text/plain": [
       "<IPython.core.display.HTML object>"
      ]
     },
     "metadata": {},
     "output_type": "display_data"
    },
    {
     "data": {
      "text/html": [],
      "text/plain": [
       "<IPython.core.display.HTML object>"
      ]
     },
     "metadata": {},
     "output_type": "display_data"
    },
    {
     "data": {
      "text/html": [],
      "text/plain": [
       "<IPython.core.display.HTML object>"
      ]
     },
     "metadata": {},
     "output_type": "display_data"
    },
    {
     "data": {
      "text/html": [],
      "text/plain": [
       "<IPython.core.display.HTML object>"
      ]
     },
     "metadata": {},
     "output_type": "display_data"
    },
    {
     "data": {
      "text/html": [],
      "text/plain": [
       "<IPython.core.display.HTML object>"
      ]
     },
     "metadata": {},
     "output_type": "display_data"
    },
    {
     "data": {
      "text/html": [],
      "text/plain": [
       "<IPython.core.display.HTML object>"
      ]
     },
     "metadata": {},
     "output_type": "display_data"
    },
    {
     "data": {
      "text/html": [],
      "text/plain": [
       "<IPython.core.display.HTML object>"
      ]
     },
     "metadata": {},
     "output_type": "display_data"
    },
    {
     "data": {
      "text/html": [],
      "text/plain": [
       "<IPython.core.display.HTML object>"
      ]
     },
     "metadata": {},
     "output_type": "display_data"
    }
   ],
   "source": [
    "for i, mushroom in enumerate(classes):\n",
    "    filename = classes[i]+'.csv'\n",
    "    path = mushroom_images/classes[i]/filename\n",
    "    dest = mushroom_images/classes[i]\n",
    "    download_images(path, dest, max_pics=2500)"
   ]
  },
  {
   "cell_type": "code",
   "execution_count": 62,
   "metadata": {
    "scrolled": true
   },
   "outputs": [
    {
     "data": {
      "text/html": [],
      "text/plain": [
       "<IPython.core.display.HTML object>"
      ]
     },
     "metadata": {},
     "output_type": "display_data"
    },
    {
     "data": {
      "text/html": [],
      "text/plain": [
       "<IPython.core.display.HTML object>"
      ]
     },
     "metadata": {},
     "output_type": "display_data"
    },
    {
     "data": {
      "text/html": [],
      "text/plain": [
       "<IPython.core.display.HTML object>"
      ]
     },
     "metadata": {},
     "output_type": "display_data"
    },
    {
     "data": {
      "text/html": [],
      "text/plain": [
       "<IPython.core.display.HTML object>"
      ]
     },
     "metadata": {},
     "output_type": "display_data"
    },
    {
     "data": {
      "text/html": [],
      "text/plain": [
       "<IPython.core.display.HTML object>"
      ]
     },
     "metadata": {},
     "output_type": "display_data"
    },
    {
     "data": {
      "text/html": [],
      "text/plain": [
       "<IPython.core.display.HTML object>"
      ]
     },
     "metadata": {},
     "output_type": "display_data"
    },
    {
     "data": {
      "text/html": [],
      "text/plain": [
       "<IPython.core.display.HTML object>"
      ]
     },
     "metadata": {},
     "output_type": "display_data"
    },
    {
     "data": {
      "text/html": [],
      "text/plain": [
       "<IPython.core.display.HTML object>"
      ]
     },
     "metadata": {},
     "output_type": "display_data"
    },
    {
     "data": {
      "text/html": [],
      "text/plain": [
       "<IPython.core.display.HTML object>"
      ]
     },
     "metadata": {},
     "output_type": "display_data"
    },
    {
     "data": {
      "text/html": [],
      "text/plain": [
       "<IPython.core.display.HTML object>"
      ]
     },
     "metadata": {},
     "output_type": "display_data"
    },
    {
     "data": {
      "text/html": [],
      "text/plain": [
       "<IPython.core.display.HTML object>"
      ]
     },
     "metadata": {},
     "output_type": "display_data"
    },
    {
     "data": {
      "text/html": [],
      "text/plain": [
       "<IPython.core.display.HTML object>"
      ]
     },
     "metadata": {},
     "output_type": "display_data"
    },
    {
     "data": {
      "text/html": [],
      "text/plain": [
       "<IPython.core.display.HTML object>"
      ]
     },
     "metadata": {},
     "output_type": "display_data"
    },
    {
     "data": {
      "text/html": [],
      "text/plain": [
       "<IPython.core.display.HTML object>"
      ]
     },
     "metadata": {},
     "output_type": "display_data"
    },
    {
     "data": {
      "text/html": [],
      "text/plain": [
       "<IPython.core.display.HTML object>"
      ]
     },
     "metadata": {},
     "output_type": "display_data"
    },
    {
     "data": {
      "text/html": [],
      "text/plain": [
       "<IPython.core.display.HTML object>"
      ]
     },
     "metadata": {},
     "output_type": "display_data"
    },
    {
     "data": {
      "text/html": [],
      "text/plain": [
       "<IPython.core.display.HTML object>"
      ]
     },
     "metadata": {},
     "output_type": "display_data"
    },
    {
     "data": {
      "text/html": [],
      "text/plain": [
       "<IPython.core.display.HTML object>"
      ]
     },
     "metadata": {},
     "output_type": "display_data"
    },
    {
     "name": "stdout",
     "output_type": "stream",
     "text": [
      "cannot identify image file <_io.BufferedReader name='/notebooks/course-v3/nbs/dl1/data/mushroom-images-conf/Mycena-haematopus/00000342.jpg'>\n",
      "cannot identify image file <_io.BufferedReader name='/notebooks/course-v3/nbs/dl1/data/mushroom-images-conf/Mycena-haematopus/00000341.jpg'>\n"
     ]
    },
    {
     "data": {
      "text/html": [],
      "text/plain": [
       "<IPython.core.display.HTML object>"
      ]
     },
     "metadata": {},
     "output_type": "display_data"
    },
    {
     "data": {
      "text/html": [],
      "text/plain": [
       "<IPython.core.display.HTML object>"
      ]
     },
     "metadata": {},
     "output_type": "display_data"
    },
    {
     "data": {
      "text/html": [],
      "text/plain": [
       "<IPython.core.display.HTML object>"
      ]
     },
     "metadata": {},
     "output_type": "display_data"
    },
    {
     "data": {
      "text/html": [],
      "text/plain": [
       "<IPython.core.display.HTML object>"
      ]
     },
     "metadata": {},
     "output_type": "display_data"
    },
    {
     "data": {
      "text/html": [],
      "text/plain": [
       "<IPython.core.display.HTML object>"
      ]
     },
     "metadata": {},
     "output_type": "display_data"
    },
    {
     "data": {
      "text/html": [],
      "text/plain": [
       "<IPython.core.display.HTML object>"
      ]
     },
     "metadata": {},
     "output_type": "display_data"
    },
    {
     "data": {
      "text/html": [],
      "text/plain": [
       "<IPython.core.display.HTML object>"
      ]
     },
     "metadata": {},
     "output_type": "display_data"
    },
    {
     "data": {
      "text/html": [],
      "text/plain": [
       "<IPython.core.display.HTML object>"
      ]
     },
     "metadata": {},
     "output_type": "display_data"
    },
    {
     "data": {
      "text/html": [],
      "text/plain": [
       "<IPython.core.display.HTML object>"
      ]
     },
     "metadata": {},
     "output_type": "display_data"
    },
    {
     "data": {
      "text/html": [],
      "text/plain": [
       "<IPython.core.display.HTML object>"
      ]
     },
     "metadata": {},
     "output_type": "display_data"
    },
    {
     "data": {
      "text/html": [],
      "text/plain": [
       "<IPython.core.display.HTML object>"
      ]
     },
     "metadata": {},
     "output_type": "display_data"
    },
    {
     "data": {
      "text/html": [],
      "text/plain": [
       "<IPython.core.display.HTML object>"
      ]
     },
     "metadata": {},
     "output_type": "display_data"
    },
    {
     "data": {
      "text/html": [],
      "text/plain": [
       "<IPython.core.display.HTML object>"
      ]
     },
     "metadata": {},
     "output_type": "display_data"
    },
    {
     "data": {
      "text/html": [],
      "text/plain": [
       "<IPython.core.display.HTML object>"
      ]
     },
     "metadata": {},
     "output_type": "display_data"
    },
    {
     "data": {
      "text/html": [],
      "text/plain": [
       "<IPython.core.display.HTML object>"
      ]
     },
     "metadata": {},
     "output_type": "display_data"
    },
    {
     "data": {
      "text/html": [],
      "text/plain": [
       "<IPython.core.display.HTML object>"
      ]
     },
     "metadata": {},
     "output_type": "display_data"
    },
    {
     "data": {
      "text/html": [],
      "text/plain": [
       "<IPython.core.display.HTML object>"
      ]
     },
     "metadata": {},
     "output_type": "display_data"
    },
    {
     "data": {
      "text/html": [],
      "text/plain": [
       "<IPython.core.display.HTML object>"
      ]
     },
     "metadata": {},
     "output_type": "display_data"
    },
    {
     "data": {
      "text/html": [],
      "text/plain": [
       "<IPython.core.display.HTML object>"
      ]
     },
     "metadata": {},
     "output_type": "display_data"
    },
    {
     "data": {
      "text/html": [],
      "text/plain": [
       "<IPython.core.display.HTML object>"
      ]
     },
     "metadata": {},
     "output_type": "display_data"
    },
    {
     "data": {
      "text/html": [],
      "text/plain": [
       "<IPython.core.display.HTML object>"
      ]
     },
     "metadata": {},
     "output_type": "display_data"
    },
    {
     "data": {
      "text/html": [],
      "text/plain": [
       "<IPython.core.display.HTML object>"
      ]
     },
     "metadata": {},
     "output_type": "display_data"
    },
    {
     "data": {
      "text/html": [],
      "text/plain": [
       "<IPython.core.display.HTML object>"
      ]
     },
     "metadata": {},
     "output_type": "display_data"
    },
    {
     "data": {
      "text/html": [],
      "text/plain": [
       "<IPython.core.display.HTML object>"
      ]
     },
     "metadata": {},
     "output_type": "display_data"
    },
    {
     "data": {
      "text/html": [],
      "text/plain": [
       "<IPython.core.display.HTML object>"
      ]
     },
     "metadata": {},
     "output_type": "display_data"
    },
    {
     "data": {
      "text/html": [],
      "text/plain": [
       "<IPython.core.display.HTML object>"
      ]
     },
     "metadata": {},
     "output_type": "display_data"
    },
    {
     "data": {
      "text/html": [],
      "text/plain": [
       "<IPython.core.display.HTML object>"
      ]
     },
     "metadata": {},
     "output_type": "display_data"
    },
    {
     "data": {
      "text/html": [],
      "text/plain": [
       "<IPython.core.display.HTML object>"
      ]
     },
     "metadata": {},
     "output_type": "display_data"
    },
    {
     "data": {
      "text/html": [],
      "text/plain": [
       "<IPython.core.display.HTML object>"
      ]
     },
     "metadata": {},
     "output_type": "display_data"
    },
    {
     "data": {
      "text/html": [],
      "text/plain": [
       "<IPython.core.display.HTML object>"
      ]
     },
     "metadata": {},
     "output_type": "display_data"
    },
    {
     "data": {
      "text/html": [],
      "text/plain": [
       "<IPython.core.display.HTML object>"
      ]
     },
     "metadata": {},
     "output_type": "display_data"
    },
    {
     "name": "stdout",
     "output_type": "stream",
     "text": [
      "cannot identify image file <_io.BufferedReader name='/notebooks/course-v3/nbs/dl1/data/mushroom-images-conf/Hypholoma-lateritium/00000311.jpg'>\n"
     ]
    },
    {
     "data": {
      "text/html": [],
      "text/plain": [
       "<IPython.core.display.HTML object>"
      ]
     },
     "metadata": {},
     "output_type": "display_data"
    },
    {
     "name": "stdout",
     "output_type": "stream",
     "text": [
      "cannot identify image file <_io.BufferedReader name='/notebooks/course-v3/nbs/dl1/data/mushroom-images-conf/Artomyces-pyxidatus/00000171.jpg'>\n"
     ]
    },
    {
     "data": {
      "text/html": [],
      "text/plain": [
       "<IPython.core.display.HTML object>"
      ]
     },
     "metadata": {},
     "output_type": "display_data"
    },
    {
     "data": {
      "text/html": [],
      "text/plain": [
       "<IPython.core.display.HTML object>"
      ]
     },
     "metadata": {},
     "output_type": "display_data"
    },
    {
     "data": {
      "text/html": [],
      "text/plain": [
       "<IPython.core.display.HTML object>"
      ]
     },
     "metadata": {},
     "output_type": "display_data"
    },
    {
     "data": {
      "text/html": [],
      "text/plain": [
       "<IPython.core.display.HTML object>"
      ]
     },
     "metadata": {},
     "output_type": "display_data"
    },
    {
     "data": {
      "text/html": [],
      "text/plain": [
       "<IPython.core.display.HTML object>"
      ]
     },
     "metadata": {},
     "output_type": "display_data"
    },
    {
     "data": {
      "text/html": [],
      "text/plain": [
       "<IPython.core.display.HTML object>"
      ]
     },
     "metadata": {},
     "output_type": "display_data"
    },
    {
     "data": {
      "text/html": [],
      "text/plain": [
       "<IPython.core.display.HTML object>"
      ]
     },
     "metadata": {},
     "output_type": "display_data"
    },
    {
     "data": {
      "text/html": [],
      "text/plain": [
       "<IPython.core.display.HTML object>"
      ]
     },
     "metadata": {},
     "output_type": "display_data"
    },
    {
     "data": {
      "text/html": [],
      "text/plain": [
       "<IPython.core.display.HTML object>"
      ]
     },
     "metadata": {},
     "output_type": "display_data"
    },
    {
     "name": "stdout",
     "output_type": "stream",
     "text": [
      "cannot identify image file <_io.BufferedReader name='/notebooks/course-v3/nbs/dl1/data/mushroom-images-conf/Retiboletus-ornatipes/00000289.jpg'>\n"
     ]
    },
    {
     "data": {
      "text/html": [],
      "text/plain": [
       "<IPython.core.display.HTML object>"
      ]
     },
     "metadata": {},
     "output_type": "display_data"
    },
    {
     "data": {
      "text/html": [],
      "text/plain": [
       "<IPython.core.display.HTML object>"
      ]
     },
     "metadata": {},
     "output_type": "display_data"
    },
    {
     "data": {
      "text/html": [],
      "text/plain": [
       "<IPython.core.display.HTML object>"
      ]
     },
     "metadata": {},
     "output_type": "display_data"
    },
    {
     "data": {
      "text/html": [],
      "text/plain": [
       "<IPython.core.display.HTML object>"
      ]
     },
     "metadata": {},
     "output_type": "display_data"
    },
    {
     "data": {
      "text/html": [],
      "text/plain": [
       "<IPython.core.display.HTML object>"
      ]
     },
     "metadata": {},
     "output_type": "display_data"
    },
    {
     "data": {
      "text/html": [],
      "text/plain": [
       "<IPython.core.display.HTML object>"
      ]
     },
     "metadata": {},
     "output_type": "display_data"
    },
    {
     "data": {
      "text/html": [],
      "text/plain": [
       "<IPython.core.display.HTML object>"
      ]
     },
     "metadata": {},
     "output_type": "display_data"
    },
    {
     "data": {
      "text/html": [],
      "text/plain": [
       "<IPython.core.display.HTML object>"
      ]
     },
     "metadata": {},
     "output_type": "display_data"
    },
    {
     "data": {
      "text/html": [],
      "text/plain": [
       "<IPython.core.display.HTML object>"
      ]
     },
     "metadata": {},
     "output_type": "display_data"
    },
    {
     "data": {
      "text/html": [],
      "text/plain": [
       "<IPython.core.display.HTML object>"
      ]
     },
     "metadata": {},
     "output_type": "display_data"
    },
    {
     "data": {
      "text/html": [],
      "text/plain": [
       "<IPython.core.display.HTML object>"
      ]
     },
     "metadata": {},
     "output_type": "display_data"
    },
    {
     "data": {
      "text/html": [],
      "text/plain": [
       "<IPython.core.display.HTML object>"
      ]
     },
     "metadata": {},
     "output_type": "display_data"
    },
    {
     "data": {
      "text/html": [],
      "text/plain": [
       "<IPython.core.display.HTML object>"
      ]
     },
     "metadata": {},
     "output_type": "display_data"
    },
    {
     "data": {
      "text/html": [],
      "text/plain": [
       "<IPython.core.display.HTML object>"
      ]
     },
     "metadata": {},
     "output_type": "display_data"
    },
    {
     "data": {
      "text/html": [],
      "text/plain": [
       "<IPython.core.display.HTML object>"
      ]
     },
     "metadata": {},
     "output_type": "display_data"
    },
    {
     "data": {
      "text/html": [],
      "text/plain": [
       "<IPython.core.display.HTML object>"
      ]
     },
     "metadata": {},
     "output_type": "display_data"
    },
    {
     "data": {
      "text/html": [],
      "text/plain": [
       "<IPython.core.display.HTML object>"
      ]
     },
     "metadata": {},
     "output_type": "display_data"
    },
    {
     "data": {
      "text/html": [],
      "text/plain": [
       "<IPython.core.display.HTML object>"
      ]
     },
     "metadata": {},
     "output_type": "display_data"
    },
    {
     "data": {
      "text/html": [],
      "text/plain": [
       "<IPython.core.display.HTML object>"
      ]
     },
     "metadata": {},
     "output_type": "display_data"
    },
    {
     "name": "stdout",
     "output_type": "stream",
     "text": [
      "cannot identify image file <_io.BufferedReader name='/notebooks/course-v3/nbs/dl1/data/mushroom-images-conf/Xanthoconium-separans/00000252.jpg'>\n",
      "cannot identify image file <_io.BufferedReader name='/notebooks/course-v3/nbs/dl1/data/mushroom-images-conf/Xanthoconium-separans/00000250.jpg'>\n",
      "cannot identify image file <_io.BufferedReader name='/notebooks/course-v3/nbs/dl1/data/mushroom-images-conf/Xanthoconium-separans/00000251.jpg'>\n",
      "cannot identify image file <_io.BufferedReader name='/notebooks/course-v3/nbs/dl1/data/mushroom-images-conf/Xanthoconium-separans/00000249.jpg'>\n"
     ]
    },
    {
     "data": {
      "text/html": [],
      "text/plain": [
       "<IPython.core.display.HTML object>"
      ]
     },
     "metadata": {},
     "output_type": "display_data"
    },
    {
     "data": {
      "text/html": [],
      "text/plain": [
       "<IPython.core.display.HTML object>"
      ]
     },
     "metadata": {},
     "output_type": "display_data"
    },
    {
     "data": {
      "text/html": [],
      "text/plain": [
       "<IPython.core.display.HTML object>"
      ]
     },
     "metadata": {},
     "output_type": "display_data"
    },
    {
     "data": {
      "text/html": [],
      "text/plain": [
       "<IPython.core.display.HTML object>"
      ]
     },
     "metadata": {},
     "output_type": "display_data"
    },
    {
     "data": {
      "text/html": [],
      "text/plain": [
       "<IPython.core.display.HTML object>"
      ]
     },
     "metadata": {},
     "output_type": "display_data"
    },
    {
     "data": {
      "text/html": [],
      "text/plain": [
       "<IPython.core.display.HTML object>"
      ]
     },
     "metadata": {},
     "output_type": "display_data"
    },
    {
     "data": {
      "text/html": [],
      "text/plain": [
       "<IPython.core.display.HTML object>"
      ]
     },
     "metadata": {},
     "output_type": "display_data"
    },
    {
     "data": {
      "text/html": [],
      "text/plain": [
       "<IPython.core.display.HTML object>"
      ]
     },
     "metadata": {},
     "output_type": "display_data"
    },
    {
     "data": {
      "text/html": [],
      "text/plain": [
       "<IPython.core.display.HTML object>"
      ]
     },
     "metadata": {},
     "output_type": "display_data"
    },
    {
     "data": {
      "text/html": [],
      "text/plain": [
       "<IPython.core.display.HTML object>"
      ]
     },
     "metadata": {},
     "output_type": "display_data"
    },
    {
     "data": {
      "text/html": [],
      "text/plain": [
       "<IPython.core.display.HTML object>"
      ]
     },
     "metadata": {},
     "output_type": "display_data"
    },
    {
     "data": {
      "text/html": [],
      "text/plain": [
       "<IPython.core.display.HTML object>"
      ]
     },
     "metadata": {},
     "output_type": "display_data"
    },
    {
     "data": {
      "text/html": [],
      "text/plain": [
       "<IPython.core.display.HTML object>"
      ]
     },
     "metadata": {},
     "output_type": "display_data"
    },
    {
     "data": {
      "text/html": [],
      "text/plain": [
       "<IPython.core.display.HTML object>"
      ]
     },
     "metadata": {},
     "output_type": "display_data"
    },
    {
     "data": {
      "text/html": [],
      "text/plain": [
       "<IPython.core.display.HTML object>"
      ]
     },
     "metadata": {},
     "output_type": "display_data"
    },
    {
     "data": {
      "text/html": [],
      "text/plain": [
       "<IPython.core.display.HTML object>"
      ]
     },
     "metadata": {},
     "output_type": "display_data"
    },
    {
     "data": {
      "text/html": [],
      "text/plain": [
       "<IPython.core.display.HTML object>"
      ]
     },
     "metadata": {},
     "output_type": "display_data"
    },
    {
     "data": {
      "text/html": [],
      "text/plain": [
       "<IPython.core.display.HTML object>"
      ]
     },
     "metadata": {},
     "output_type": "display_data"
    },
    {
     "data": {
      "text/html": [],
      "text/plain": [
       "<IPython.core.display.HTML object>"
      ]
     },
     "metadata": {},
     "output_type": "display_data"
    },
    {
     "data": {
      "text/html": [],
      "text/plain": [
       "<IPython.core.display.HTML object>"
      ]
     },
     "metadata": {},
     "output_type": "display_data"
    },
    {
     "data": {
      "text/html": [],
      "text/plain": [
       "<IPython.core.display.HTML object>"
      ]
     },
     "metadata": {},
     "output_type": "display_data"
    },
    {
     "data": {
      "text/html": [],
      "text/plain": [
       "<IPython.core.display.HTML object>"
      ]
     },
     "metadata": {},
     "output_type": "display_data"
    }
   ],
   "source": [
    "for i, mushroom in enumerate(classes):\n",
    "    path = mushroom_images/classes[i]\n",
    "    verify_images(path, delete=True) "
   ]
  },
  {
   "cell_type": "markdown",
   "metadata": {},
   "source": [
    "I noticed whilst visualising the data batch below that one of the top 100 taxon-id's collected was linked to a species called 'mixed-collection'. I'm going to remove this folder before continuing as it will likely contribute to error in the model. "
   ]
  },
  {
   "cell_type": "code",
   "execution_count": 63,
   "metadata": {},
   "outputs": [],
   "source": [
    "rm = Path('Mixed-collection')\n",
    "shutil.rmtree(mushroom_images/rm)"
   ]
  },
  {
   "cell_type": "markdown",
   "metadata": {},
   "source": [
    "Image size of 320 as the images retrieved are already square at 320x320, no need to resize for databunch:"
   ]
  },
  {
   "cell_type": "code",
   "execution_count": 64,
   "metadata": {},
   "outputs": [],
   "source": [
    "np.random.seed(42)\n",
    "data = ImageDataBunch.from_folder(mushroom_images, train=\".\", valid_pct=0.2,\n",
    "        ds_tfms=get_transforms(), size=320, num_workers=4).normalize(imagenet_stats)"
   ]
  },
  {
   "cell_type": "code",
   "execution_count": 65,
   "metadata": {
    "scrolled": false
   },
   "outputs": [
    {
     "name": "stdout",
     "output_type": "stream",
     "text": [
      "['Agaricus-augustus', 'Agaricus-xanthodermus', 'Aleuria-aurantia', 'Amanita-augusta', 'Amanita-brunnescens', 'Amanita-calyptroderma', 'Amanita-flavoconia', 'Amanita-muscaria', 'Amanita-phalloides', 'Amanita-velosa', 'Armillaria-mellea', 'Armillaria-tabescens', 'Artomyces-pyxidatus', 'Auriscalpium-vulgare', 'Bolbitius-vitellinus', 'Boletus-edulis', 'Boletus-frostii', 'Cantharellus-cinnabarinus', 'Cantharellus-formosus', 'Cantharellus-lateritius', 'Ceratiomyxa-fruticulosa', 'Chlorophyllum-molybdites', 'Coprinellus-micaceus', 'Coprinus-comatus', 'Craterellus-fallax', 'Cryptoporus-volvatus', 'Entoloma-abortivum', 'Flammulina-velutipes', 'Flavoparmelia-caperata', 'Fomitopsis-mounceae', 'Fomitopsis-pinicola', 'Fuligo-septica', 'Galerina-autumnalis', 'Ganoderma-applanatum', 'Ganoderma-oregonense', 'Ganoderma-tsugae', 'Gliophorus-psittacinus', 'Gloeophyllum-saepiarium', 'Gomphus-floccosus', 'Grifola-frondosa', 'Gyroporus-castaneus', 'Hericium-erinaceus', 'Hygrophoropsis-aurantiaca', 'Hypholoma-capnoides', 'Hypholoma-fasciculare', 'Hypholoma-lateritium', 'Hypomyces-lactifluorum', 'Ischnoderma-resinosum', 'Laccaria-amethysteo-occidentalis', 'Laccaria-ochropurpurea', 'Lactarius-indigo', 'Lactarius-rubidus', 'Lactarius-volemus', 'Laetiporus-sulphureus', 'Lenzites-betulina', 'Leotia-viscosa', 'Lepista-nuda', 'Leratiomyces-ceres', 'Lycogala-epidendrum', 'Lycoperdon-perlatum', 'Lycoperdon-pyriforme', 'Megacollybia-rodmani', 'Mycena-haematopus', 'Mycena-leaiana', 'Mycena-pura', 'Omphalotus-illudens', 'Omphalotus-olivascens', 'Panellus-serotinus', 'Panellus-stipticus', 'Phaeolus-schweinitzii', 'Phellinus-gilvus', 'Phyllotopsis-nidulans', 'Pleurotus-ostreatus', 'Pleurotus-pulmonarius', 'Pluteus-cervinus', 'Polyporus-alveolaris', 'Polyporus-badius', 'Polyporus-squamosus', 'Psathyrella-candolleana', 'Pseudohydnum-gelatinosum', 'Psilocybe-cubensis', 'Psilocybe-cyanescens', 'Psilocybe-ovoideocystidiata', 'Retiboletus-ornatipes', 'Schizophyllum-commune', 'Scleroderma-citrinum', 'Stereum-hirsutum', 'Stereum-ostrea', 'Stropharia-ambigua', 'Suillus-luteus', 'Suillus-spraguei', 'Tapinella-atrotomentosa', 'Trametes-versicolor', 'Tremella-aurantia', 'Trichaptum-biforme', 'Tricholoma-murrillianum', 'Tubaria-furfuracea', 'Tylopilus-felleus', 'Xanthoconium-separans']\n"
     ]
    }
   ],
   "source": [
    "print(data.classes)"
   ]
  },
  {
   "cell_type": "code",
   "execution_count": 66,
   "metadata": {},
   "outputs": [
    {
     "data": {
      "image/png": "[encoded data removed]",
      "text/plain": [
       "<Figure size 504x576 with 9 Axes>"
      ]
     },
     "metadata": {
      "needs_background": "light"
     },
     "output_type": "display_data"
    }
   ],
   "source": [
    "data.show_batch(rows=3, figsize=(7,8))"
   ]
  },
  {
   "cell_type": "code",
   "execution_count": 67,
   "metadata": {},
   "outputs": [
    {
     "data": {
      "text/plain": [
       "(32892, 8222)"
      ]
     },
     "execution_count": 67,
     "metadata": {},
     "output_type": "execute_result"
    }
   ],
   "source": [
    "len(data.train_ds), len(data.valid_ds)"
   ]
  },
  {
   "cell_type": "markdown",
   "metadata": {},
   "source": [
    "### Training the Model"
   ]
  },
  {
   "cell_type": "markdown",
   "metadata": {},
   "source": [
    "Using Resnet34:"
   ]
  },
  {
   "cell_type": "code",
   "execution_count": 68,
   "metadata": {},
   "outputs": [],
   "source": [
    "learn = cnn_learner(data, models.resnet34, metrics=error_rate)"
   ]
  },
  {
   "cell_type": "code",
   "execution_count": 69,
   "metadata": {},
   "outputs": [
    {
     "data": {
      "text/html": [
       "<table border=\"1\" class=\"dataframe\">\n",
       "  <thead>\n",
       "    <tr style=\"text-align: left;\">\n",
       "      <th>epoch</th>\n",
       "      <th>train_loss</th>\n",
       "      <th>valid_loss</th>\n",
       "      <th>error_rate</th>\n",
       "      <th>time</th>\n",
       "    </tr>\n",
       "  </thead>\n",
       "  <tbody>\n",
       "    <tr>\n",
       "      <td>0</td>\n",
       "      <td>2.482826</td>\n",
       "      <td>1.778454</td>\n",
       "      <td>0.462661</td>\n",
       "      <td>07:26</td>\n",
       "    </tr>\n",
       "    <tr>\n",
       "      <td>1</td>\n",
       "      <td>1.878352</td>\n",
       "      <td>1.400698</td>\n",
       "      <td>0.376794</td>\n",
       "      <td>07:25</td>\n",
       "    </tr>\n",
       "    <tr>\n",
       "      <td>2</td>\n",
       "      <td>1.550997</td>\n",
       "      <td>1.213976</td>\n",
       "      <td>0.327657</td>\n",
       "      <td>07:23</td>\n",
       "    </tr>\n",
       "    <tr>\n",
       "      <td>3</td>\n",
       "      <td>1.359692</td>\n",
       "      <td>1.159657</td>\n",
       "      <td>0.315738</td>\n",
       "      <td>07:23</td>\n",
       "    </tr>\n",
       "  </tbody>\n",
       "</table>"
      ],
      "text/plain": [
       "<IPython.core.display.HTML object>"
      ]
     },
     "metadata": {},
     "output_type": "display_data"
    }
   ],
   "source": [
    "learn.fit_one_cycle(4)"
   ]
  },
  {
   "cell_type": "code",
   "execution_count": 70,
   "metadata": {},
   "outputs": [],
   "source": [
    "learn.save('stage-1')"
   ]
  },
  {
   "cell_type": "code",
   "execution_count": 71,
   "metadata": {},
   "outputs": [],
   "source": [
    "learn.unfreeze()"
   ]
  },
  {
   "cell_type": "code",
   "execution_count": 72,
   "metadata": {},
   "outputs": [
    {
     "data": {
      "text/html": [
       "\n",
       "    <div>\n",
       "        <style>\n",
       "            /* Turns off some styling */\n",
       "            progress {\n",
       "                /* gets rid of default border in Firefox and Opera. */\n",
       "                border: none;\n",
       "                /* Needs to be in here for Safari polyfill so background images work as expected. */\n",
       "                background-size: auto;\n",
       "            }\n",
       "            .progress-bar-interrupted, .progress-bar-interrupted::-webkit-progress-bar {\n",
       "                background: #F44336;\n",
       "            }\n",
       "        </style>\n",
       "      <progress value='0' class='' max='1', style='width:300px; height:20px; vertical-align: middle;'></progress>\n",
       "      0.00% [0/1 00:00<00:00]\n",
       "    </div>\n",
       "    \n",
       "<table border=\"1\" class=\"dataframe\">\n",
       "  <thead>\n",
       "    <tr style=\"text-align: left;\">\n",
       "      <th>epoch</th>\n",
       "      <th>train_loss</th>\n",
       "      <th>valid_loss</th>\n",
       "      <th>error_rate</th>\n",
       "      <th>time</th>\n",
       "    </tr>\n",
       "  </thead>\n",
       "  <tbody>\n",
       "  </tbody>\n",
       "</table><p>\n",
       "\n",
       "    <div>\n",
       "        <style>\n",
       "            /* Turns off some styling */\n",
       "            progress {\n",
       "                /* gets rid of default border in Firefox and Opera. */\n",
       "                border: none;\n",
       "                /* Needs to be in here for Safari polyfill so background images work as expected. */\n",
       "                background-size: auto;\n",
       "            }\n",
       "            .progress-bar-interrupted, .progress-bar-interrupted::-webkit-progress-bar {\n",
       "                background: #F44336;\n",
       "            }\n",
       "        </style>\n",
       "      <progress value='84' class='' max='513', style='width:300px; height:20px; vertical-align: middle;'></progress>\n",
       "      16.37% [84/513 01:35<08:08 4.6922]\n",
       "    </div>\n",
       "    "
      ],
      "text/plain": [
       "<IPython.core.display.HTML object>"
      ]
     },
     "metadata": {},
     "output_type": "display_data"
    },
    {
     "name": "stdout",
     "output_type": "stream",
     "text": [
      "LR Finder is complete, type {learner_name}.recorder.plot() to see the graph.\n"
     ]
    }
   ],
   "source": [
    "learn.lr_find()"
   ]
  },
  {
   "cell_type": "code",
   "execution_count": 73,
   "metadata": {},
   "outputs": [
    {
     "data": {
      "image/png": "[encoded data removed]",
      "text/plain": [
       "<Figure size 432x288 with 1 Axes>"
      ]
     },
     "metadata": {
      "needs_background": "light"
     },
     "output_type": "display_data"
    }
   ],
   "source": [
    "learn.recorder.plot()"
   ]
  },
  {
   "cell_type": "code",
   "execution_count": 74,
   "metadata": {},
   "outputs": [
    {
     "data": {
      "text/html": [
       "<table border=\"1\" class=\"dataframe\">\n",
       "  <thead>\n",
       "    <tr style=\"text-align: left;\">\n",
       "      <th>epoch</th>\n",
       "      <th>train_loss</th>\n",
       "      <th>valid_loss</th>\n",
       "      <th>error_rate</th>\n",
       "      <th>time</th>\n",
       "    </tr>\n",
       "  </thead>\n",
       "  <tbody>\n",
       "    <tr>\n",
       "      <td>0</td>\n",
       "      <td>1.234584</td>\n",
       "      <td>1.032709</td>\n",
       "      <td>0.280710</td>\n",
       "      <td>10:15</td>\n",
       "    </tr>\n",
       "    <tr>\n",
       "      <td>1</td>\n",
       "      <td>1.073168</td>\n",
       "      <td>0.963856</td>\n",
       "      <td>0.263926</td>\n",
       "      <td>10:13</td>\n",
       "    </tr>\n",
       "  </tbody>\n",
       "</table>"
      ],
      "text/plain": [
       "<IPython.core.display.HTML object>"
      ]
     },
     "metadata": {},
     "output_type": "display_data"
    }
   ],
   "source": [
    "learn.fit_one_cycle(2, max_lr=slice(3e-6, 3e-4))"
   ]
  },
  {
   "cell_type": "code",
   "execution_count": 75,
   "metadata": {},
   "outputs": [],
   "source": [
    "learn.save('stage-2')"
   ]
  },
  {
   "cell_type": "code",
   "execution_count": 76,
   "metadata": {},
   "outputs": [],
   "source": [
    "learn.load('stage-2');"
   ]
  },
  {
   "cell_type": "code",
   "execution_count": 77,
   "metadata": {},
   "outputs": [
    {
     "data": {
      "text/html": [],
      "text/plain": [
       "<IPython.core.display.HTML object>"
      ]
     },
     "metadata": {},
     "output_type": "display_data"
    }
   ],
   "source": [
    "interp = ClassificationInterpretation.from_learner(learn)"
   ]
  },
  {
   "cell_type": "code",
   "execution_count": 78,
   "metadata": {},
   "outputs": [
    {
     "data": {
      "text/plain": [
       "True"
      ]
     },
     "execution_count": 78,
     "metadata": {},
     "output_type": "execute_result"
    }
   ],
   "source": [
    "losses,idxs = interp.top_losses()\n",
    "\n",
    "len(data.valid_ds)==len(losses)==len(idxs)"
   ]
  },
  {
   "cell_type": "markdown",
   "metadata": {},
   "source": [
    "Now we can see which species were most frequently mistaken:"
   ]
  },
  {
   "cell_type": "code",
   "execution_count": 79,
   "metadata": {},
   "outputs": [
    {
     "data": {
      "text/plain": [
       "[('Psilocybe-ovoideocystidiata', 'Psilocybe-cyanescens', 21),\n",
       " ('Pleurotus-ostreatus', 'Pleurotus-pulmonarius', 20),\n",
       " ('Psilocybe-cyanescens', 'Psilocybe-ovoideocystidiata', 16),\n",
       " ('Lenzites-betulina', 'Trametes-versicolor', 13),\n",
       " ('Fomitopsis-pinicola', 'Fomitopsis-mounceae', 11),\n",
       " ('Ganoderma-tsugae', 'Ganoderma-oregonense', 11),\n",
       " ('Pleurotus-pulmonarius', 'Pleurotus-ostreatus', 10),\n",
       " ('Stereum-ostrea', 'Trametes-versicolor', 10),\n",
       " ('Fomitopsis-mounceae', 'Ganoderma-applanatum', 9),\n",
       " ('Armillaria-mellea', 'Armillaria-tabescens', 8),\n",
       " ('Galerina-autumnalis', 'Psilocybe-cyanescens', 8),\n",
       " ('Hypholoma-capnoides', 'Hypholoma-fasciculare', 8),\n",
       " ('Trametes-versicolor', 'Trichaptum-biforme', 8),\n",
       " ('Trichaptum-biforme', 'Lenzites-betulina', 8),\n",
       " ('Trichaptum-biforme', 'Trametes-versicolor', 8),\n",
       " ('Coprinellus-micaceus', 'Psilocybe-ovoideocystidiata', 7),\n",
       " ('Galerina-autumnalis', 'Psilocybe-ovoideocystidiata', 7),\n",
       " ('Pluteus-cervinus', 'Megacollybia-rodmani', 7),\n",
       " ('Psilocybe-ovoideocystidiata', 'Galerina-autumnalis', 7),\n",
       " ('Tubaria-furfuracea', 'Galerina-autumnalis', 7),\n",
       " ('Amanita-augusta', 'Amanita-phalloides', 6),\n",
       " ('Amanita-brunnescens', 'Amanita-phalloides', 6),\n",
       " ('Amanita-flavoconia', 'Amanita-muscaria', 6),\n",
       " ('Galerina-autumnalis', 'Flammulina-velutipes', 6),\n",
       " ('Ganoderma-oregonense', 'Ganoderma-applanatum', 6),\n",
       " ('Lenzites-betulina', 'Schizophyllum-commune', 6),\n",
       " ('Lenzites-betulina', 'Trichaptum-biforme', 6),\n",
       " ('Lycoperdon-perlatum', 'Lycoperdon-pyriforme', 6),\n",
       " ('Panellus-serotinus', 'Pleurotus-ostreatus', 6),\n",
       " ('Panellus-serotinus', 'Tapinella-atrotomentosa', 6),\n",
       " ('Phaeolus-schweinitzii', 'Trametes-versicolor', 6),\n",
       " ('Phellinus-gilvus', 'Phaeolus-schweinitzii', 6),\n",
       " ('Psilocybe-ovoideocystidiata', 'Psathyrella-candolleana', 6),\n",
       " ('Agaricus-augustus', 'Tricholoma-murrillianum', 5),\n",
       " ('Amanita-calyptroderma', 'Amanita-phalloides', 5),\n",
       " ('Armillaria-mellea', 'Hypholoma-fasciculare', 5),\n",
       " ('Armillaria-mellea', 'Tapinella-atrotomentosa', 5),\n",
       " ('Coprinus-comatus', 'Chlorophyllum-molybdites', 5),\n",
       " ('Fomitopsis-mounceae', 'Fomitopsis-pinicola', 5),\n",
       " ('Fomitopsis-pinicola', 'Ganoderma-applanatum', 5),\n",
       " ('Galerina-autumnalis', 'Tubaria-furfuracea', 5),\n",
       " ('Ganoderma-oregonense', 'Ganoderma-tsugae', 5),\n",
       " ('Hypholoma-fasciculare', 'Armillaria-mellea', 5),\n",
       " ('Hypomyces-lactifluorum', 'Amanita-muscaria', 5),\n",
       " ('Ischnoderma-resinosum', 'Trametes-versicolor', 5),\n",
       " ('Leratiomyces-ceres', 'Galerina-autumnalis', 5),\n",
       " ('Lycoperdon-pyriforme', 'Lycoperdon-perlatum', 5),\n",
       " ('Panellus-stipticus', 'Trichaptum-biforme', 5),\n",
       " ('Psathyrella-candolleana', 'Amanita-brunnescens', 5),\n",
       " ('Psilocybe-cubensis', 'Psilocybe-ovoideocystidiata', 5),\n",
       " ('Psilocybe-cyanescens', 'Galerina-autumnalis', 5),\n",
       " ('Stereum-hirsutum', 'Trametes-versicolor', 5),\n",
       " ('Tapinella-atrotomentosa', 'Panellus-serotinus', 5),\n",
       " ('Trametes-versicolor', 'Lenzites-betulina', 5),\n",
       " ('Tremella-aurantia', 'Stereum-hirsutum', 5),\n",
       " ('Tubaria-furfuracea', 'Psilocybe-cyanescens', 5),\n",
       " ('Xanthoconium-separans', 'Tylopilus-felleus', 5),\n",
       " ('Agaricus-augustus', 'Amanita-muscaria', 4),\n",
       " ('Agaricus-xanthodermus', 'Chlorophyllum-molybdites', 4),\n",
       " ('Amanita-augusta', 'Amanita-muscaria', 4),\n",
       " ('Amanita-calyptroderma', 'Amanita-augusta', 4),\n",
       " ('Amanita-phalloides', 'Amanita-brunnescens', 4),\n",
       " ('Amanita-phalloides', 'Amanita-velosa', 4),\n",
       " ('Amanita-phalloides', 'Tricholoma-murrillianum', 4),\n",
       " ('Boletus-edulis', 'Tricholoma-murrillianum', 4),\n",
       " ('Ceratiomyxa-fruticulosa', 'Flavoparmelia-caperata', 4),\n",
       " ('Flammulina-velutipes', 'Galerina-autumnalis', 4),\n",
       " ('Galerina-autumnalis', 'Panellus-serotinus', 4),\n",
       " ('Grifola-frondosa', 'Trametes-versicolor', 4),\n",
       " ('Hypholoma-fasciculare', 'Psilocybe-ovoideocystidiata', 4),\n",
       " ('Hypholoma-lateritium', 'Psilocybe-ovoideocystidiata', 4),\n",
       " ('Ischnoderma-resinosum', 'Ganoderma-applanatum', 4),\n",
       " ('Laccaria-ochropurpurea', 'Laccaria-amethysteo-occidentalis', 4),\n",
       " ('Laccaria-ochropurpurea', 'Lepista-nuda', 4),\n",
       " ('Lepista-nuda', 'Pleurotus-ostreatus', 4),\n",
       " ('Panellus-stipticus', 'Lenzites-betulina', 4),\n",
       " ('Panellus-stipticus', 'Schizophyllum-commune', 4),\n",
       " ('Phaeolus-schweinitzii', 'Phellinus-gilvus', 4),\n",
       " ('Pleurotus-pulmonarius', 'Panellus-stipticus', 4),\n",
       " ('Pluteus-cervinus', 'Psathyrella-candolleana', 4),\n",
       " ('Polyporus-alveolaris', 'Polyporus-squamosus', 4),\n",
       " ('Polyporus-squamosus', 'Agaricus-augustus', 4),\n",
       " ('Psilocybe-ovoideocystidiata', 'Pluteus-cervinus', 4),\n",
       " ('Psilocybe-ovoideocystidiata', 'Tubaria-furfuracea', 4),\n",
       " ('Schizophyllum-commune', 'Ceratiomyxa-fruticulosa', 4),\n",
       " ('Stropharia-ambigua', 'Amanita-muscaria', 4),\n",
       " ('Suillus-luteus', 'Boletus-edulis', 4),\n",
       " ('Tapinella-atrotomentosa', 'Gyroporus-castaneus', 4),\n",
       " ('Trametes-versicolor', 'Schizophyllum-commune', 4),\n",
       " ('Trametes-versicolor', 'Stereum-ostrea', 4),\n",
       " ('Tubaria-furfuracea', 'Mycena-haematopus', 4),\n",
       " ('Tylopilus-felleus', 'Boletus-edulis', 4),\n",
       " ('Agaricus-xanthodermus', 'Amanita-phalloides', 3),\n",
       " ('Agaricus-xanthodermus', 'Pluteus-cervinus', 3),\n",
       " ('Amanita-brunnescens', 'Megacollybia-rodmani', 3),\n",
       " ('Amanita-calyptroderma', 'Amanita-velosa', 3),\n",
       " ('Amanita-muscaria', 'Amanita-augusta', 3),\n",
       " ('Amanita-muscaria', 'Amanita-flavoconia', 3),\n",
       " ('Amanita-muscaria', 'Amanita-phalloides', 3),\n",
       " ('Amanita-muscaria', 'Amanita-velosa', 3),\n",
       " ('Amanita-phalloides', 'Chlorophyllum-molybdites', 3),\n",
       " ('Armillaria-tabescens', 'Galerina-autumnalis', 3),\n",
       " ('Boletus-edulis', 'Agaricus-augustus', 3),\n",
       " ('Boletus-edulis', 'Amanita-phalloides', 3),\n",
       " ('Boletus-edulis', 'Phaeolus-schweinitzii', 3),\n",
       " ('Boletus-edulis', 'Tylopilus-felleus', 3),\n",
       " ('Boletus-edulis', 'Xanthoconium-separans', 3),\n",
       " ('Cantharellus-cinnabarinus', 'Aleuria-aurantia', 3),\n",
       " ('Cantharellus-formosus', 'Cantharellus-lateritius', 3),\n",
       " ('Cantharellus-formosus', 'Omphalotus-illudens', 3),\n",
       " ('Ceratiomyxa-fruticulosa', 'Schizophyllum-commune', 3),\n",
       " ('Chlorophyllum-molybdites', 'Amanita-brunnescens', 3),\n",
       " ('Entoloma-abortivum', 'Psilocybe-ovoideocystidiata', 3),\n",
       " ('Flammulina-velutipes', 'Armillaria-tabescens', 3),\n",
       " ('Flammulina-velutipes', 'Phyllotopsis-nidulans', 3),\n",
       " ('Fomitopsis-mounceae', 'Boletus-edulis', 3),\n",
       " ('Fomitopsis-mounceae', 'Ganoderma-oregonense', 3),\n",
       " ('Fuligo-septica', 'Lycogala-epidendrum', 3),\n",
       " ('Ganoderma-applanatum', 'Fomitopsis-mounceae', 3),\n",
       " ('Ganoderma-tsugae', 'Cryptoporus-volvatus', 3),\n",
       " ('Gloeophyllum-saepiarium', 'Lenzites-betulina', 3),\n",
       " ('Hypholoma-capnoides', 'Psilocybe-cubensis', 3),\n",
       " ('Hypholoma-capnoides', 'Stropharia-ambigua', 3),\n",
       " ('Hypholoma-fasciculare', 'Hypholoma-capnoides', 3),\n",
       " ('Hypholoma-fasciculare', 'Hypholoma-lateritium', 3),\n",
       " ('Hypholoma-lateritium', 'Hypholoma-fasciculare', 3),\n",
       " ('Hypholoma-lateritium', 'Psilocybe-cyanescens', 3),\n",
       " ('Laccaria-amethysteo-occidentalis', 'Lepista-nuda', 3),\n",
       " ('Laccaria-amethysteo-occidentalis', 'Tubaria-furfuracea', 3),\n",
       " ('Lactarius-rubidus', 'Cantharellus-cinnabarinus', 3),\n",
       " ('Lactarius-rubidus', 'Galerina-autumnalis', 3),\n",
       " ('Lactarius-volemus', 'Omphalotus-illudens', 3),\n",
       " ('Lenzites-betulina', 'Stereum-ostrea', 3),\n",
       " ('Lepista-nuda', 'Chlorophyllum-molybdites', 3),\n",
       " ('Leratiomyces-ceres', 'Psathyrella-candolleana', 3),\n",
       " ('Leratiomyces-ceres', 'Psilocybe-cyanescens', 3),\n",
       " ('Lycoperdon-pyriforme', 'Lycogala-epidendrum', 3),\n",
       " ('Megacollybia-rodmani', 'Amanita-brunnescens', 3),\n",
       " ('Megacollybia-rodmani', 'Pleurotus-ostreatus', 3),\n",
       " ('Megacollybia-rodmani', 'Pleurotus-pulmonarius', 3),\n",
       " ('Megacollybia-rodmani', 'Pluteus-cervinus', 3),\n",
       " ('Mycena-pura', 'Mycena-haematopus', 3),\n",
       " ('Panellus-stipticus', 'Phyllotopsis-nidulans', 3),\n",
       " ('Panellus-stipticus', 'Trametes-versicolor', 3),\n",
       " ('Pleurotus-ostreatus', 'Panellus-serotinus', 3),\n",
       " ('Pleurotus-ostreatus', 'Phyllotopsis-nidulans', 3),\n",
       " ('Pleurotus-ostreatus', 'Tapinella-atrotomentosa', 3),\n",
       " ('Pleurotus-pulmonarius', 'Laetiporus-sulphureus', 3),\n",
       " ('Pluteus-cervinus', 'Amanita-brunnescens', 3),\n",
       " ('Pluteus-cervinus', 'Lepista-nuda', 3),\n",
       " ('Polyporus-alveolaris', 'Phyllotopsis-nidulans', 3),\n",
       " ('Polyporus-badius', 'Polyporus-squamosus', 3),\n",
       " ('Psathyrella-candolleana', 'Coprinellus-micaceus', 3),\n",
       " ('Psathyrella-candolleana', 'Psilocybe-ovoideocystidiata', 3),\n",
       " ('Psilocybe-cubensis', 'Coprinus-comatus', 3),\n",
       " ('Psilocybe-cyanescens', 'Psathyrella-candolleana', 3),\n",
       " ('Retiboletus-ornatipes', 'Tylopilus-felleus', 3),\n",
       " ('Schizophyllum-commune', 'Flavoparmelia-caperata', 3),\n",
       " ('Schizophyllum-commune', 'Trametes-versicolor', 3),\n",
       " ('Stereum-hirsutum', 'Panellus-stipticus', 3),\n",
       " ('Stropharia-ambigua', 'Amanita-phalloides', 3),\n",
       " ('Stropharia-ambigua', 'Psathyrella-candolleana', 3),\n",
       " ('Suillus-spraguei', 'Polyporus-squamosus', 3),\n",
       " ('Tapinella-atrotomentosa', 'Pleurotus-ostreatus', 3),\n",
       " ('Tylopilus-felleus', 'Ganoderma-oregonense', 3),\n",
       " ('Agaricus-augustus', 'Agaricus-xanthodermus', 2),\n",
       " ('Agaricus-augustus', 'Amanita-augusta', 2),\n",
       " ('Agaricus-augustus', 'Amanita-phalloides', 2),\n",
       " ('Agaricus-augustus', 'Lepista-nuda', 2),\n",
       " ('Agaricus-xanthodermus', 'Agaricus-augustus', 2),\n",
       " ('Agaricus-xanthodermus', 'Lepista-nuda', 2),\n",
       " ('Agaricus-xanthodermus', 'Psilocybe-ovoideocystidiata', 2),\n",
       " ('Aleuria-aurantia', 'Lycogala-epidendrum', 2),\n",
       " ('Amanita-augusta', 'Agaricus-augustus', 2),\n",
       " ('Amanita-augusta', 'Boletus-edulis', 2),\n",
       " ('Amanita-augusta', 'Megacollybia-rodmani', 2),\n",
       " ('Amanita-brunnescens', 'Agaricus-xanthodermus', 2),\n",
       " ('Amanita-brunnescens', 'Tricholoma-murrillianum', 2),\n",
       " ('Amanita-calyptroderma', 'Amanita-muscaria', 2),\n",
       " ('Amanita-calyptroderma', 'Tricholoma-murrillianum', 2),\n",
       " ('Amanita-flavoconia', 'Amanita-brunnescens', 2),\n",
       " ('Amanita-muscaria', 'Amanita-brunnescens', 2),\n",
       " ('Amanita-muscaria', 'Chlorophyllum-molybdites', 2),\n",
       " ('Amanita-muscaria', 'Leratiomyces-ceres', 2),\n",
       " ('Amanita-muscaria', 'Psilocybe-ovoideocystidiata', 2),\n",
       " ('Amanita-phalloides', 'Agaricus-xanthodermus', 2),\n",
       " ('Amanita-phalloides', 'Coprinus-comatus', 2),\n",
       " ('Amanita-phalloides', 'Pluteus-cervinus', 2),\n",
       " ('Amanita-phalloides', 'Polyporus-badius', 2),\n",
       " ('Amanita-velosa', 'Amanita-brunnescens', 2),\n",
       " ('Amanita-velosa', 'Amanita-phalloides', 2),\n",
       " ('Amanita-velosa', 'Ganoderma-applanatum', 2),\n",
       " ('Amanita-velosa', 'Psilocybe-ovoideocystidiata', 2),\n",
       " ('Amanita-velosa', 'Tricholoma-murrillianum', 2),\n",
       " ('Armillaria-mellea', 'Agaricus-xanthodermus', 2),\n",
       " ('Armillaria-mellea', 'Amanita-brunnescens', 2),\n",
       " ('Armillaria-mellea', 'Amanita-phalloides', 2),\n",
       " ('Armillaria-mellea', 'Bolbitius-vitellinus', 2),\n",
       " ('Armillaria-mellea', 'Leotia-viscosa', 2),\n",
       " ('Armillaria-mellea', 'Pleurotus-ostreatus', 2),\n",
       " ('Armillaria-mellea', 'Pluteus-cervinus', 2),\n",
       " ('Armillaria-mellea', 'Retiboletus-ornatipes', 2),\n",
       " ('Armillaria-mellea', 'Tubaria-furfuracea', 2),\n",
       " ('Armillaria-tabescens', 'Armillaria-mellea', 2),\n",
       " ('Armillaria-tabescens', 'Grifola-frondosa', 2),\n",
       " ('Armillaria-tabescens', 'Pleurotus-ostreatus', 2),\n",
       " ('Armillaria-tabescens', 'Pluteus-cervinus', 2),\n",
       " ('Auriscalpium-vulgare', 'Coprinellus-micaceus', 2),\n",
       " ('Auriscalpium-vulgare', 'Coprinus-comatus', 2),\n",
       " ('Bolbitius-vitellinus', 'Psilocybe-cyanescens', 2),\n",
       " ('Boletus-edulis', 'Ganoderma-applanatum', 2),\n",
       " ('Cantharellus-formosus', 'Gyroporus-castaneus', 2),\n",
       " ('Cantharellus-formosus', 'Lepista-nuda', 2),\n",
       " ('Cantharellus-formosus', 'Tricholoma-murrillianum', 2),\n",
       " ('Cantharellus-lateritius', 'Armillaria-mellea', 2),\n",
       " ('Cantharellus-lateritius', 'Cantharellus-formosus', 2),\n",
       " ('Cantharellus-lateritius', 'Laetiporus-sulphureus', 2),\n",
       " ('Cantharellus-lateritius', 'Omphalotus-illudens', 2),\n",
       " ('Chlorophyllum-molybdites', 'Ganoderma-applanatum', 2),\n",
       " ('Chlorophyllum-molybdites', 'Psathyrella-candolleana', 2),\n",
       " ('Coprinellus-micaceus', 'Armillaria-tabescens', 2),\n",
       " ('Coprinellus-micaceus', 'Galerina-autumnalis', 2),\n",
       " ('Coprinellus-micaceus', 'Psilocybe-cyanescens', 2),\n",
       " ('Entoloma-abortivum', 'Fomitopsis-mounceae', 2),\n",
       " ('Entoloma-abortivum', 'Lepista-nuda', 2),\n",
       " ('Entoloma-abortivum', 'Megacollybia-rodmani', 2),\n",
       " ('Entoloma-abortivum', 'Pleurotus-ostreatus', 2),\n",
       " ('Entoloma-abortivum', 'Pleurotus-pulmonarius', 2),\n",
       " ('Entoloma-abortivum', 'Pluteus-cervinus', 2),\n",
       " ('Entoloma-abortivum', 'Tricholoma-murrillianum', 2),\n",
       " ('Flammulina-velutipes', 'Hypholoma-lateritium', 2),\n",
       " ('Flammulina-velutipes', 'Pluteus-cervinus', 2),\n",
       " ('Fomitopsis-mounceae', 'Ganoderma-tsugae', 2),\n",
       " ('Fomitopsis-pinicola', 'Ganoderma-tsugae', 2),\n",
       " ('Fomitopsis-pinicola', 'Lenzites-betulina', 2),\n",
       " ('Fomitopsis-pinicola', 'Stereum-ostrea', 2),\n",
       " ('Fuligo-septica', 'Amanita-muscaria', 2),\n",
       " ('Fuligo-septica', 'Phellinus-gilvus', 2),\n",
       " ('Galerina-autumnalis', 'Armillaria-tabescens', 2),\n",
       " ('Galerina-autumnalis', 'Hypholoma-lateritium', 2),\n",
       " ('Galerina-autumnalis', 'Lactarius-rubidus', 2),\n",
       " ('Galerina-autumnalis', 'Lycogala-epidendrum', 2),\n",
       " ('Galerina-autumnalis', 'Mycena-leaiana', 2),\n",
       " ('Galerina-autumnalis', 'Phaeolus-schweinitzii', 2),\n",
       " ('Galerina-autumnalis', 'Phyllotopsis-nidulans', 2),\n",
       " ('Galerina-autumnalis', 'Pleurotus-ostreatus', 2),\n",
       " ('Galerina-autumnalis', 'Pluteus-cervinus', 2),\n",
       " ('Ganoderma-applanatum', 'Ganoderma-oregonense', 2),\n",
       " ('Ganoderma-applanatum', 'Psilocybe-ovoideocystidiata', 2),\n",
       " ('Ganoderma-applanatum', 'Schizophyllum-commune', 2),\n",
       " ('Ganoderma-applanatum', 'Trametes-versicolor', 2),\n",
       " ('Ganoderma-oregonense', 'Lepista-nuda', 2),\n",
       " ('Ganoderma-oregonense', 'Panellus-stipticus', 2),\n",
       " ('Ganoderma-tsugae', 'Entoloma-abortivum', 2),\n",
       " ('Ganoderma-tsugae', 'Galerina-autumnalis', 2),\n",
       " ('Ganoderma-tsugae', 'Ganoderma-applanatum', 2),\n",
       " ('Ganoderma-tsugae', 'Pleurotus-ostreatus', 2),\n",
       " ('Ganoderma-tsugae', 'Polyporus-squamosus', 2),\n",
       " ('Ganoderma-tsugae', 'Pseudohydnum-gelatinosum', 2),\n",
       " ('Ganoderma-tsugae', 'Trametes-versicolor', 2),\n",
       " ('Gliophorus-psittacinus', 'Galerina-autumnalis', 2),\n",
       " ('Gloeophyllum-saepiarium', 'Phaeolus-schweinitzii', 2),\n",
       " ('Gloeophyllum-saepiarium', 'Phellinus-gilvus', 2),\n",
       " ('Gloeophyllum-saepiarium', 'Trametes-versicolor', 2),\n",
       " ('Gloeophyllum-saepiarium', 'Trichaptum-biforme', 2),\n",
       " ('Gomphus-floccosus', 'Cantharellus-formosus', 2),\n",
       " ('Grifola-frondosa', 'Craterellus-fallax', 2),\n",
       " ('Gyroporus-castaneus', 'Tapinella-atrotomentosa', 2),\n",
       " ('Hygrophoropsis-aurantiaca', 'Cantharellus-cinnabarinus', 2),\n",
       " ('Hygrophoropsis-aurantiaca', 'Psilocybe-cyanescens', 2),\n",
       " ('Hypholoma-capnoides', 'Gliophorus-psittacinus', 2),\n",
       " ('Hypholoma-capnoides', 'Hypholoma-lateritium', 2),\n",
       " ('Hypholoma-fasciculare', 'Omphalotus-olivascens', 2),\n",
       " ('Hypholoma-lateritium', 'Chlorophyllum-molybdites', 2),\n",
       " ('Hypholoma-lateritium', 'Flammulina-velutipes', 2),\n",
       " ('Hypholoma-lateritium', 'Galerina-autumnalis', 2),\n",
       " ('Hypholoma-lateritium', 'Lactarius-rubidus', 2),\n",
       " ('Hypholoma-lateritium', 'Pluteus-cervinus', 2),\n",
       " ('Hypholoma-lateritium', 'Tubaria-furfuracea', 2),\n",
       " ('Hypomyces-lactifluorum', 'Omphalotus-olivascens', 2),\n",
       " ('Hypomyces-lactifluorum', 'Psilocybe-ovoideocystidiata', 2),\n",
       " ('Ischnoderma-resinosum', 'Cryptoporus-volvatus', 2),\n",
       " ('Ischnoderma-resinosum', 'Ganoderma-oregonense', 2),\n",
       " ('Ischnoderma-resinosum', 'Ganoderma-tsugae', 2),\n",
       " ('Ischnoderma-resinosum', 'Phellinus-gilvus', 2),\n",
       " ('Laccaria-amethysteo-occidentalis', 'Coprinus-comatus', 2),\n",
       " ('Laccaria-amethysteo-occidentalis', 'Mycena-haematopus', 2),\n",
       " ('Laccaria-amethysteo-occidentalis', 'Mycena-pura', 2),\n",
       " ('Lactarius-rubidus', 'Psilocybe-cyanescens', 2),\n",
       " ('Lactarius-rubidus', 'Tubaria-furfuracea', 2),\n",
       " ('Lactarius-volemus', 'Amanita-velosa', 2),\n",
       " ('Lactarius-volemus', 'Gyroporus-castaneus', 2),\n",
       " ('Lactarius-volemus', 'Hygrophoropsis-aurantiaca', 2),\n",
       " ('Lactarius-volemus', 'Hypholoma-lateritium', 2),\n",
       " ('Lactarius-volemus', 'Hypomyces-lactifluorum', 2),\n",
       " ('Lactarius-volemus', 'Lepista-nuda', 2),\n",
       " ('Lactarius-volemus', 'Polyporus-squamosus', 2),\n",
       " ('Laetiporus-sulphureus', 'Ceratiomyxa-fruticulosa', 2),\n",
       " ('Laetiporus-sulphureus', 'Omphalotus-illudens', 2),\n",
       " ('Lenzites-betulina', 'Laetiporus-sulphureus', 2),\n",
       " ('Lenzites-betulina', 'Panellus-stipticus', 2),\n",
       " ('Lenzites-betulina', 'Pleurotus-pulmonarius', 2),\n",
       " ('Leotia-viscosa', 'Psilocybe-ovoideocystidiata', 2),\n",
       " ('Lepista-nuda', 'Polyporus-badius', 2),\n",
       " ('Lepista-nuda', 'Suillus-luteus', 2),\n",
       " ('Lepista-nuda', 'Tylopilus-felleus', 2),\n",
       " ('Leratiomyces-ceres', 'Lactarius-rubidus', 2),\n",
       " ('Leratiomyces-ceres', 'Phaeolus-schweinitzii', 2),\n",
       " ('Lycogala-epidendrum', 'Flammulina-velutipes', 2),\n",
       " ('Lycoperdon-perlatum', 'Pseudohydnum-gelatinosum', 2),\n",
       " ('Lycoperdon-pyriforme', 'Cryptoporus-volvatus', 2),\n",
       " ('Lycoperdon-pyriforme', 'Psilocybe-ovoideocystidiata', 2),\n",
       " ('Megacollybia-rodmani', 'Entoloma-abortivum', 2),\n",
       " ('Mycena-haematopus', 'Amanita-muscaria', 2),\n",
       " ('Mycena-haematopus', 'Mycena-pura', 2),\n",
       " ('Mycena-haematopus', 'Psilocybe-cyanescens', 2),\n",
       " ('Mycena-leaiana', 'Galerina-autumnalis', 2),\n",
       " ('Mycena-leaiana', 'Hypholoma-fasciculare', 2),\n",
       " ('Omphalotus-illudens', 'Armillaria-tabescens', 2),\n",
       " ('Omphalotus-illudens', 'Mycena-leaiana', 2),\n",
       " ('Omphalotus-olivascens', 'Armillaria-tabescens', 2),\n",
       " ('Omphalotus-olivascens', 'Panellus-stipticus', 2),\n",
       " ('Omphalotus-olivascens', 'Pluteus-cervinus', 2),\n",
       " ('Panellus-serotinus', 'Trametes-versicolor', 2),\n",
       " ('Phaeolus-schweinitzii', 'Boletus-edulis', 2),\n",
       " ('Phaeolus-schweinitzii', 'Fuligo-septica', 2),\n",
       " ('Phaeolus-schweinitzii', 'Gloeophyllum-saepiarium', 2),\n",
       " ('Phaeolus-schweinitzii', 'Trichaptum-biforme', 2),\n",
       " ('Phellinus-gilvus', 'Trichaptum-biforme', 2),\n",
       " ('Phyllotopsis-nidulans', 'Flammulina-velutipes', 2),\n",
       " ('Pleurotus-ostreatus', 'Armillaria-tabescens', 2),\n",
       " ('Pleurotus-ostreatus', 'Grifola-frondosa', 2),\n",
       " ('Pleurotus-ostreatus', 'Lepista-nuda', 2),\n",
       " ('Pleurotus-ostreatus', 'Pluteus-cervinus', 2),\n",
       " ('Pleurotus-ostreatus', 'Psathyrella-candolleana', 2),\n",
       " ('Pleurotus-ostreatus', 'Psilocybe-ovoideocystidiata', 2),\n",
       " ('Pleurotus-pulmonarius', 'Panellus-serotinus', 2),\n",
       " ('Pleurotus-pulmonarius', 'Trametes-versicolor', 2),\n",
       " ('Pluteus-cervinus', 'Psilocybe-ovoideocystidiata', 2),\n",
       " ('Polyporus-alveolaris', 'Trichaptum-biforme', 2),\n",
       " ('Polyporus-badius', 'Ganoderma-tsugae', 2),\n",
       " ('Polyporus-badius', 'Gyroporus-castaneus', 2),\n",
       " ('Polyporus-badius', 'Tapinella-atrotomentosa', 2),\n",
       " ('Polyporus-badius', 'Trametes-versicolor', 2),\n",
       " ('Polyporus-squamosus', 'Boletus-edulis', 2),\n",
       " ('Polyporus-squamosus', 'Coprinus-comatus', 2),\n",
       " ('Polyporus-squamosus', 'Polyporus-badius', 2),\n",
       " ('Polyporus-squamosus', 'Pseudohydnum-gelatinosum', 2),\n",
       " ('Psathyrella-candolleana', 'Hypholoma-capnoides', 2),\n",
       " ('Psathyrella-candolleana', 'Hypholoma-lateritium', 2),\n",
       " ('Psathyrella-candolleana', 'Pluteus-cervinus', 2),\n",
       " ('Pseudohydnum-gelatinosum', 'Lycoperdon-perlatum', 2),\n",
       " ('Pseudohydnum-gelatinosum', 'Trametes-versicolor', 2),\n",
       " ('Psilocybe-cubensis', 'Coprinellus-micaceus', 2),\n",
       " ('Psilocybe-cubensis', 'Psilocybe-cyanescens', 2),\n",
       " ('Psilocybe-cyanescens', 'Amanita-muscaria', 2),\n",
       " ('Psilocybe-cyanescens', 'Leratiomyces-ceres', 2),\n",
       " ('Psilocybe-cyanescens', 'Psilocybe-cubensis', 2),\n",
       " ('Psilocybe-ovoideocystidiata', 'Craterellus-fallax', 2),\n",
       " ('Psilocybe-ovoideocystidiata', 'Polyporus-badius', 2),\n",
       " ('Psilocybe-ovoideocystidiata', 'Psilocybe-cubensis', 2),\n",
       " ('Retiboletus-ornatipes', 'Trametes-versicolor', 2),\n",
       " ('Schizophyllum-commune', 'Ganoderma-applanatum', 2),\n",
       " ('Schizophyllum-commune', 'Ganoderma-tsugae', 2),\n",
       " ('Schizophyllum-commune', 'Panellus-stipticus', 2),\n",
       " ('Scleroderma-citrinum', 'Fuligo-septica', 2),\n",
       " ('Scleroderma-citrinum', 'Phaeolus-schweinitzii', 2),\n",
       " ('Stereum-hirsutum', 'Phaeolus-schweinitzii', 2),\n",
       " ('Stereum-hirsutum', 'Phyllotopsis-nidulans', 2),\n",
       " ('Stereum-hirsutum', 'Stereum-ostrea', 2),\n",
       " ('Stereum-hirsutum', 'Trichaptum-biforme', 2),\n",
       " ('Stereum-ostrea', 'Gloeophyllum-saepiarium', 2),\n",
       " ('Stereum-ostrea', 'Phaeolus-schweinitzii', 2),\n",
       " ('Stropharia-ambigua', 'Amanita-velosa', 2),\n",
       " ('Stropharia-ambigua', 'Coprinus-comatus', 2),\n",
       " ('Stropharia-ambigua', 'Lepista-nuda', 2),\n",
       " ('Suillus-luteus', 'Ganoderma-oregonense', 2),\n",
       " ('Suillus-spraguei', 'Retiboletus-ornatipes', 2),\n",
       " ('Tapinella-atrotomentosa', 'Gomphus-floccosus', 2),\n",
       " ('Tapinella-atrotomentosa', 'Hypholoma-lateritium', 2),\n",
       " ('Tapinella-atrotomentosa', 'Lactarius-volemus', 2),\n",
       " ('Tapinella-atrotomentosa', 'Polyporus-badius', 2),\n",
       " ('Tapinella-atrotomentosa', 'Polyporus-squamosus', 2),\n",
       " ('Trametes-versicolor', 'Ganoderma-applanatum', 2),\n",
       " ('Trametes-versicolor', 'Gloeophyllum-saepiarium', 2),\n",
       " ('Trametes-versicolor', 'Phaeolus-schweinitzii', 2),\n",
       " ('Trametes-versicolor', 'Phellinus-gilvus', 2),\n",
       " ('Trametes-versicolor', 'Pluteus-cervinus', 2),\n",
       " ('Tremella-aurantia', 'Hypomyces-lactifluorum', 2),\n",
       " ('Tremella-aurantia', 'Stereum-ostrea', 2),\n",
       " ('Trichaptum-biforme', 'Panellus-stipticus', 2),\n",
       " ('Trichaptum-biforme', 'Phellinus-gilvus', 2),\n",
       " ('Trichaptum-biforme', 'Pluteus-cervinus', 2),\n",
       " ('Trichaptum-biforme', 'Polyporus-squamosus', 2),\n",
       " ('Trichaptum-biforme', 'Schizophyllum-commune', 2),\n",
       " ('Trichaptum-biforme', 'Stereum-ostrea', 2),\n",
       " ('Tricholoma-murrillianum', 'Megacollybia-rodmani', 2),\n",
       " ('Tubaria-furfuracea', 'Auriscalpium-vulgare', 2),\n",
       " ('Tubaria-furfuracea', 'Laccaria-amethysteo-occidentalis', 2),\n",
       " ('Tubaria-furfuracea', 'Psilocybe-ovoideocystidiata', 2),\n",
       " ('Tylopilus-felleus', 'Entoloma-abortivum', 2),\n",
       " ('Xanthoconium-separans', 'Agaricus-xanthodermus', 2),\n",
       " ('Xanthoconium-separans', 'Amanita-brunnescens', 2),\n",
       " ('Xanthoconium-separans', 'Boletus-edulis', 2),\n",
       " ('Xanthoconium-separans', 'Retiboletus-ornatipes', 2)]"
      ]
     },
     "execution_count": 79,
     "metadata": {},
     "output_type": "execute_result"
    }
   ],
   "source": [
    "interp.most_confused(min_val=2)"
   ]
  },
  {
   "cell_type": "markdown",
   "metadata": {},
   "source": [
    "Now this is where it would help to be a mushroom expert in order to know which of these mistakes can be grouped without really impairing the usefullness of the classifier.\n",
    "\n",
    "I do know for example that the psilocybe species look quite similar, have similar edibility properties and can therefore be grouped without too much harm. Similarly for the amanita species I know that they are mostly poisonous, and foragers are discouraged from even trying to attempt to identity whether an amanita is poisonous or edible, so these can also be grouped. "
   ]
  },
  {
   "cell_type": "markdown",
   "metadata": {},
   "source": [
    "### Removing Junk Images\n"
   ]
  },
  {
   "cell_type": "markdown",
   "metadata": {},
   "source": [
    "First I am going to remove images that are not actually of mushrooms from the dataset. These might be microscopy images, or extremely close up such that features can not be determined, or very far away (e.g. photo of a tree with a mushroom on it), or people holding mushrooms.\n",
    "\n",
    "I DO NOT expect this to dramatically improve the accuracy of the model, as I am quite confident that the noisy images are distributed randomly throughout the dataset. However once removed, I can train any subsequent iterations on this new cleaned dataset, so it is worth doing imo.  "
   ]
  },
  {
   "cell_type": "code",
   "execution_count": 8,
   "metadata": {},
   "outputs": [],
   "source": [
    "from fastai.widgets import *"
   ]
  },
  {
   "cell_type": "code",
   "execution_count": 9,
   "metadata": {},
   "outputs": [],
   "source": [
    "db = (ImageList.from_folder(mushroom_images)\n",
    "                   .split_none()\n",
    "                   .label_from_folder()\n",
    "                   .transform(get_transforms(), size=320)\n",
    "                   .databunch()\n",
    "     )"
   ]
  },
  {
   "cell_type": "code",
   "execution_count": 10,
   "metadata": {},
   "outputs": [],
   "source": [
    "learn_cln = cnn_learner(db, models.resnet34, metrics=error_rate)\n",
    "\n",
    "learn_cln.load('stage-2');"
   ]
  },
  {
   "cell_type": "code",
   "execution_count": 11,
   "metadata": {},
   "outputs": [
    {
     "data": {
      "text/html": [],
      "text/plain": [
       "<IPython.core.display.HTML object>"
      ]
     },
     "metadata": {},
     "output_type": "display_data"
    }
   ],
   "source": [
    "ds, idxs = DatasetFormatter().from_toplosses(learn_cln)"
   ]
  },
  {
   "cell_type": "code",
   "execution_count": 12,
   "metadata": {},
   "outputs": [
    {
     "data": {
      "application/vnd.jupyter.widget-view+json": {
       "model_id": "9f60ce84f35340a49f92a30adbebc07a",
       "version_major": 2,
       "version_minor": 0
      },
      "text/plain": [
       "HBox(children=(VBox(children=(Image(value=b'\\xff\\xd8\\xff\\xe0\\x00\\x10JFIF\\x00\\x01\\x01\\x01\\x00d\\x00d\\x00\\x00\\xff…"
      ]
     },
     "metadata": {},
     "output_type": "display_data"
    },
    {
     "data": {
      "application/vnd.jupyter.widget-view+json": {
       "model_id": "96cb3f13f18f4cd2b146d3fc2b77eead",
       "version_major": 2,
       "version_minor": 0
      },
      "text/plain": [
       "Button(button_style='primary', description='Next Batch', layout=Layout(width='auto'), style=ButtonStyle())"
      ]
     },
     "metadata": {},
     "output_type": "display_data"
    }
   ],
   "source": [
    "ImageCleaner(ds, idxs, mushroom_images)"
   ]
  },
  {
   "cell_type": "markdown",
   "metadata": {},
   "source": [
    "Now we can recreate the databunch with the cleaned images:"
   ]
  },
  {
   "cell_type": "code",
   "execution_count": 20,
   "metadata": {},
   "outputs": [],
   "source": [
    "np.random.seed(42)\n",
    "\n",
    "db_clean = ImageDataBunch.from_csv(mushroom_images, folder=\".\", valid_pct=0.2, csv_labels='cleaned.csv',\n",
    "ds_tfms=get_transforms(), size=320, num_workers=4).normalize(imagenet_stats)"
   ]
  },
  {
   "cell_type": "code",
   "execution_count": 21,
   "metadata": {},
   "outputs": [],
   "source": [
    "learn_cln = cnn_learner(db_clean, models.resnet34, metrics=error_rate)"
   ]
  },
  {
   "cell_type": "code",
   "execution_count": 22,
   "metadata": {},
   "outputs": [
    {
     "data": {
      "text/html": [
       "<table border=\"1\" class=\"dataframe\">\n",
       "  <thead>\n",
       "    <tr style=\"text-align: left;\">\n",
       "      <th>epoch</th>\n",
       "      <th>train_loss</th>\n",
       "      <th>valid_loss</th>\n",
       "      <th>error_rate</th>\n",
       "      <th>time</th>\n",
       "    </tr>\n",
       "  </thead>\n",
       "  <tbody>\n",
       "    <tr>\n",
       "      <td>0</td>\n",
       "      <td>2.500551</td>\n",
       "      <td>1.773913</td>\n",
       "      <td>0.467668</td>\n",
       "      <td>03:57</td>\n",
       "    </tr>\n",
       "    <tr>\n",
       "      <td>1</td>\n",
       "      <td>1.891172</td>\n",
       "      <td>1.369233</td>\n",
       "      <td>0.370119</td>\n",
       "      <td>03:58</td>\n",
       "    </tr>\n",
       "    <tr>\n",
       "      <td>2</td>\n",
       "      <td>1.543231</td>\n",
       "      <td>1.181639</td>\n",
       "      <td>0.318266</td>\n",
       "      <td>03:57</td>\n",
       "    </tr>\n",
       "    <tr>\n",
       "      <td>3</td>\n",
       "      <td>1.351879</td>\n",
       "      <td>1.128324</td>\n",
       "      <td>0.308659</td>\n",
       "      <td>03:59</td>\n",
       "    </tr>\n",
       "  </tbody>\n",
       "</table>"
      ],
      "text/plain": [
       "<IPython.core.display.HTML object>"
      ]
     },
     "metadata": {},
     "output_type": "display_data"
    }
   ],
   "source": [
    "learn_cln.fit_one_cycle(4)"
   ]
  },
  {
   "cell_type": "code",
   "execution_count": 23,
   "metadata": {},
   "outputs": [],
   "source": [
    "learn_cln.save('c-r34-224-c2+-4e')"
   ]
  },
  {
   "cell_type": "code",
   "execution_count": 24,
   "metadata": {},
   "outputs": [],
   "source": [
    "learn_cln.unfreeze()"
   ]
  },
  {
   "cell_type": "code",
   "execution_count": 25,
   "metadata": {},
   "outputs": [
    {
     "data": {
      "text/html": [
       "\n",
       "    <div>\n",
       "        <style>\n",
       "            /* Turns off some styling */\n",
       "            progress {\n",
       "                /* gets rid of default border in Firefox and Opera. */\n",
       "                border: none;\n",
       "                /* Needs to be in here for Safari polyfill so background images work as expected. */\n",
       "                background-size: auto;\n",
       "            }\n",
       "            .progress-bar-interrupted, .progress-bar-interrupted::-webkit-progress-bar {\n",
       "                background: #F44336;\n",
       "            }\n",
       "        </style>\n",
       "      <progress value='0' class='' max='1', style='width:300px; height:20px; vertical-align: middle;'></progress>\n",
       "      0.00% [0/1 00:00<00:00]\n",
       "    </div>\n",
       "    \n",
       "<table border=\"1\" class=\"dataframe\">\n",
       "  <thead>\n",
       "    <tr style=\"text-align: left;\">\n",
       "      <th>epoch</th>\n",
       "      <th>train_loss</th>\n",
       "      <th>valid_loss</th>\n",
       "      <th>error_rate</th>\n",
       "      <th>time</th>\n",
       "    </tr>\n",
       "  </thead>\n",
       "  <tbody>\n",
       "  </tbody>\n",
       "</table><p>\n",
       "\n",
       "    <div>\n",
       "        <style>\n",
       "            /* Turns off some styling */\n",
       "            progress {\n",
       "                /* gets rid of default border in Firefox and Opera. */\n",
       "                border: none;\n",
       "                /* Needs to be in here for Safari polyfill so background images work as expected. */\n",
       "                background-size: auto;\n",
       "            }\n",
       "            .progress-bar-interrupted, .progress-bar-interrupted::-webkit-progress-bar {\n",
       "                background: #F44336;\n",
       "            }\n",
       "        </style>\n",
       "      <progress value='84' class='' max='507', style='width:300px; height:20px; vertical-align: middle;'></progress>\n",
       "      16.57% [84/507 00:38<03:15 4.3861]\n",
       "    </div>\n",
       "    "
      ],
      "text/plain": [
       "<IPython.core.display.HTML object>"
      ]
     },
     "metadata": {},
     "output_type": "display_data"
    },
    {
     "name": "stdout",
     "output_type": "stream",
     "text": [
      "LR Finder is complete, type {learner_name}.recorder.plot() to see the graph.\n"
     ]
    }
   ],
   "source": [
    "learn_cln.lr_find()"
   ]
  },
  {
   "cell_type": "code",
   "execution_count": 26,
   "metadata": {},
   "outputs": [
    {
     "data": {
      "image/png": "[encoded data removed]",
      "text/plain": [
       "<Figure size 432x288 with 1 Axes>"
      ]
     },
     "metadata": {
      "needs_background": "light"
     },
     "output_type": "display_data"
    }
   ],
   "source": [
    "learn_cln.recorder.plot()"
   ]
  },
  {
   "cell_type": "code",
   "execution_count": 27,
   "metadata": {},
   "outputs": [
    {
     "data": {
      "text/html": [
       "<table border=\"1\" class=\"dataframe\">\n",
       "  <thead>\n",
       "    <tr style=\"text-align: left;\">\n",
       "      <th>epoch</th>\n",
       "      <th>train_loss</th>\n",
       "      <th>valid_loss</th>\n",
       "      <th>error_rate</th>\n",
       "      <th>time</th>\n",
       "    </tr>\n",
       "  </thead>\n",
       "  <tbody>\n",
       "    <tr>\n",
       "      <td>0</td>\n",
       "      <td>1.263712</td>\n",
       "      <td>1.049358</td>\n",
       "      <td>0.287474</td>\n",
       "      <td>04:11</td>\n",
       "    </tr>\n",
       "    <tr>\n",
       "      <td>1</td>\n",
       "      <td>1.106399</td>\n",
       "      <td>0.923671</td>\n",
       "      <td>0.252371</td>\n",
       "      <td>04:14</td>\n",
       "    </tr>\n",
       "    <tr>\n",
       "      <td>2</td>\n",
       "      <td>0.915156</td>\n",
       "      <td>0.854681</td>\n",
       "      <td>0.235004</td>\n",
       "      <td>04:12</td>\n",
       "    </tr>\n",
       "    <tr>\n",
       "      <td>3</td>\n",
       "      <td>0.809052</td>\n",
       "      <td>0.843200</td>\n",
       "      <td>0.226998</td>\n",
       "      <td>04:13</td>\n",
       "    </tr>\n",
       "  </tbody>\n",
       "</table>"
      ],
      "text/plain": [
       "<IPython.core.display.HTML object>"
      ]
     },
     "metadata": {},
     "output_type": "display_data"
    }
   ],
   "source": [
    "learn_cln.fit_one_cycle(4, max_lr=slice(3e-6, 3e-4))"
   ]
  },
  {
   "cell_type": "code",
   "execution_count": 28,
   "metadata": {},
   "outputs": [],
   "source": [
    "learn_cln.save('c-r34-224-c2+-8e')"
   ]
  },
  {
   "cell_type": "code",
   "execution_count": 29,
   "metadata": {},
   "outputs": [],
   "source": [
    "learn_cln.unfreeze()"
   ]
  },
  {
   "cell_type": "code",
   "execution_count": 30,
   "metadata": {},
   "outputs": [
    {
     "data": {
      "text/html": [
       "\n",
       "    <div>\n",
       "        <style>\n",
       "            /* Turns off some styling */\n",
       "            progress {\n",
       "                /* gets rid of default border in Firefox and Opera. */\n",
       "                border: none;\n",
       "                /* Needs to be in here for Safari polyfill so background images work as expected. */\n",
       "                background-size: auto;\n",
       "            }\n",
       "            .progress-bar-interrupted, .progress-bar-interrupted::-webkit-progress-bar {\n",
       "                background: #F44336;\n",
       "            }\n",
       "        </style>\n",
       "      <progress value='0' class='' max='1', style='width:300px; height:20px; vertical-align: middle;'></progress>\n",
       "      0.00% [0/1 00:00<00:00]\n",
       "    </div>\n",
       "    \n",
       "<table border=\"1\" class=\"dataframe\">\n",
       "  <thead>\n",
       "    <tr style=\"text-align: left;\">\n",
       "      <th>epoch</th>\n",
       "      <th>train_loss</th>\n",
       "      <th>valid_loss</th>\n",
       "      <th>error_rate</th>\n",
       "      <th>time</th>\n",
       "    </tr>\n",
       "  </thead>\n",
       "  <tbody>\n",
       "  </tbody>\n",
       "</table><p>\n",
       "\n",
       "    <div>\n",
       "        <style>\n",
       "            /* Turns off some styling */\n",
       "            progress {\n",
       "                /* gets rid of default border in Firefox and Opera. */\n",
       "                border: none;\n",
       "                /* Needs to be in here for Safari polyfill so background images work as expected. */\n",
       "                background-size: auto;\n",
       "            }\n",
       "            .progress-bar-interrupted, .progress-bar-interrupted::-webkit-progress-bar {\n",
       "                background: #F44336;\n",
       "            }\n",
       "        </style>\n",
       "      <progress value='73' class='' max='507', style='width:300px; height:20px; vertical-align: middle;'></progress>\n",
       "      14.40% [73/507 00:33<03:20 2.9800]\n",
       "    </div>\n",
       "    "
      ],
      "text/plain": [
       "<IPython.core.display.HTML object>"
      ]
     },
     "metadata": {},
     "output_type": "display_data"
    },
    {
     "name": "stdout",
     "output_type": "stream",
     "text": [
      "LR Finder is complete, type {learner_name}.recorder.plot() to see the graph.\n"
     ]
    }
   ],
   "source": [
    "learn_cln.lr_find()"
   ]
  },
  {
   "cell_type": "code",
   "execution_count": 31,
   "metadata": {},
   "outputs": [
    {
     "data": {
      "image/png": "[encoded data removed]",
      "text/plain": [
       "<Figure size 432x288 with 1 Axes>"
      ]
     },
     "metadata": {
      "needs_background": "light"
     },
     "output_type": "display_data"
    }
   ],
   "source": [
    "learn_cln.recorder.plot()"
   ]
  },
  {
   "cell_type": "code",
   "execution_count": 32,
   "metadata": {},
   "outputs": [
    {
     "data": {
      "text/html": [
       "<table border=\"1\" class=\"dataframe\">\n",
       "  <thead>\n",
       "    <tr style=\"text-align: left;\">\n",
       "      <th>epoch</th>\n",
       "      <th>train_loss</th>\n",
       "      <th>valid_loss</th>\n",
       "      <th>error_rate</th>\n",
       "      <th>time</th>\n",
       "    </tr>\n",
       "  </thead>\n",
       "  <tbody>\n",
       "    <tr>\n",
       "      <td>0</td>\n",
       "      <td>0.828399</td>\n",
       "      <td>0.847176</td>\n",
       "      <td>0.232171</td>\n",
       "      <td>04:11</td>\n",
       "    </tr>\n",
       "    <tr>\n",
       "      <td>1</td>\n",
       "      <td>0.761146</td>\n",
       "      <td>0.797441</td>\n",
       "      <td>0.220963</td>\n",
       "      <td>04:18</td>\n",
       "    </tr>\n",
       "    <tr>\n",
       "      <td>2</td>\n",
       "      <td>0.624900</td>\n",
       "      <td>0.758802</td>\n",
       "      <td>0.208893</td>\n",
       "      <td>04:13</td>\n",
       "    </tr>\n",
       "    <tr>\n",
       "      <td>3</td>\n",
       "      <td>0.553258</td>\n",
       "      <td>0.747895</td>\n",
       "      <td>0.205567</td>\n",
       "      <td>04:14</td>\n",
       "    </tr>\n",
       "  </tbody>\n",
       "</table>"
      ],
      "text/plain": [
       "<IPython.core.display.HTML object>"
      ]
     },
     "metadata": {},
     "output_type": "display_data"
    }
   ],
   "source": [
    "learn_cln.fit_one_cycle(4, max_lr=slice(3e-6, 3e-4))"
   ]
  },
  {
   "cell_type": "code",
   "execution_count": 33,
   "metadata": {},
   "outputs": [],
   "source": [
    "learn_cln.save('c-r34-320-c2.5+-12e')"
   ]
  },
  {
   "cell_type": "markdown",
   "metadata": {},
   "source": [
    "### So a model based on observations of confidence 2.5 or greater results in the same accuracy as a model based on observations of confidence 2 or higher - See mush-obs-filtering-100tax notebook"
   ]
  },
  {
   "cell_type": "code",
   "execution_count": null,
   "metadata": {},
   "outputs": [],
   "source": []
  }
 ],
 "metadata": {
  "kernelspec": {
   "display_name": "Python 3",
   "language": "python",
   "name": "python3"
  },
  "language_info": {
   "codemirror_mode": {
    "name": "ipython",
    "version": 3
   },
   "file_extension": ".py",
   "mimetype": "text/x-python",
   "name": "python",
   "nbconvert_exporter": "python",
   "pygments_lexer": "ipython3",
   "version": "3.6.7"
  }
 },
 "nbformat": 4,
 "nbformat_minor": 2
}
