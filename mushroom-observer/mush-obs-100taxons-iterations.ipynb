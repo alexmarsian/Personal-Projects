{
 "cells": [
  {
   "cell_type": "markdown",
   "metadata": {},
   "source": [
    "## Mushroom Pokédex Project\n",
    "Author: Alexander Mars\n",
    "14/04/2020\n",
    "\n",
    "The goal of this project is to build a CNN capable of predicting a mushroom's species from its photo. \n",
    "I have built simpler iterations based on images scraped from google images. \n",
    "For this iteration, I have kindly been given access to the mushroomobserver.org database (thank you Jason!), which contains over 1 million images of various fungi. Note that the database does not consist solely of mushrooms but may contain slimes, molds, and microscopic features of fungi. \n",
    "\n",
    "This database has been built from user-uploaded images that are generally collected whilst foraging. A user who uploads a photo or record of a mushroom creates an 'observation' on the mushroomobserver. At the time of upload a user can postulate what species they think the mushroom is. Over time each observation will have an associated vote of confidence (floating point number from 0-3) which is created by other users voting on what species they think the given observation is. \n",
    "\n",
    "So my goal here is to what level of accuracy can be achieved with a CNN given a large number of high quality images. Obviously mushroom classification is still a fine-grained problem, so this will be interesting!"
   ]
  },
  {
   "cell_type": "code",
   "execution_count": 1,
   "metadata": {},
   "outputs": [],
   "source": [
    "%reload_ext autoreload\n",
    "%autoreload 2\n",
    "%matplotlib inline"
   ]
  },
  {
   "cell_type": "code",
   "execution_count": 2,
   "metadata": {},
   "outputs": [],
   "source": [
    "from fastai.vision import * # for ease of use\n",
    "from fastai.metrics import error_rate\n",
    "import os, math, numpy, pandas as pd\n"
   ]
  },
  {
   "cell_type": "markdown",
   "metadata": {},
   "source": [
    "### Loading the Data"
   ]
  },
  {
   "cell_type": "markdown",
   "metadata": {},
   "source": [
    "I'm going to try build a model first with the top 100 most commonly observed species on mushroomobserver that have a confidence of at least 2.0"
   ]
  },
  {
   "cell_type": "code",
   "execution_count": 4,
   "metadata": {},
   "outputs": [],
   "source": [
    "datapath = Path('/notebooks/storage/mushroom-obs-data/')\n",
    "datapath"
   ]
  },
  {
   "cell_type": "markdown",
   "metadata": {},
   "source": [
    "The below CSVs were generated with the mush-obs-filtering notebook using data provided by mushroomobserver.org"
   ]
  },
  {
   "cell_type": "code",
   "execution_count": null,
   "metadata": {},
   "outputs": [],
   "source": [
    "species = pd.read_csv(datapath/'species_conf2_taxons1-4.csv')\n",
    "species_obs = pd.read_csv(datapath/'obs_conf2_taxons1-4.csv')\n",
    "images = pd.read_csv(datapath/'images_observations.csv')"
   ]
  },
  {
   "cell_type": "markdown",
   "metadata": {},
   "source": [
    "## Most Commonly Observed Mushrooms"
   ]
  },
  {
   "cell_type": "markdown",
   "metadata": {},
   "source": [
    "Now getting the top 100 frequently observed obs is trivial using pandas"
   ]
  },
  {
   "cell_type": "code",
   "execution_count": 32,
   "metadata": {
    "scrolled": true
   },
   "outputs": [
    {
     "data": {
      "text/plain": [
       "['s8935.0',\n",
       " 's4152.0',\n",
       " 's8882.0',\n",
       " 's2852.0',\n",
       " 's2669.0',\n",
       " 's8924.0',\n",
       " 's253.0',\n",
       " 's2818.0',\n",
       " 's8869.0',\n",
       " 's4157.0',\n",
       " 's7059.0',\n",
       " 's2883.0',\n",
       " 's8908.0',\n",
       " 's2735.0',\n",
       " 's7118.0',\n",
       " 's5848.0',\n",
       " 's3614.0',\n",
       " 's6080.0',\n",
       " 's537.0',\n",
       " 's6024.0',\n",
       " 's2523.0',\n",
       " 's7649.0',\n",
       " 's3868.0',\n",
       " 's6107.0',\n",
       " 'n100',\n",
       " 's2663.0',\n",
       " 's6913.0',\n",
       " 's6768.0',\n",
       " 's174.0',\n",
       " 's2814.0',\n",
       " 's57.0',\n",
       " 's8982.0',\n",
       " 's2681.0',\n",
       " 's508.0',\n",
       " 's132.0',\n",
       " 'n271',\n",
       " 's2536.0',\n",
       " 's496.0',\n",
       " 'n139',\n",
       " 's6563.0',\n",
       " 's8870.0',\n",
       " 's6324.0',\n",
       " 's2591.0',\n",
       " 's2853.0',\n",
       " 's2650.0',\n",
       " 's2854.0',\n",
       " 's5053.0',\n",
       " 's7558.0',\n",
       " 's5575.0',\n",
       " 's4073.0',\n",
       " 'n53',\n",
       " 's2945.0',\n",
       " 's4455.0',\n",
       " 'n330',\n",
       " 's2876.0',\n",
       " 's2994.0',\n",
       " 's2658.0',\n",
       " 's6222.0',\n",
       " 's4709.0',\n",
       " 's8986.0',\n",
       " 's6036.0',\n",
       " 's4176.0',\n",
       " 'n44785',\n",
       " 's6068.0',\n",
       " 's3197.0',\n",
       " 'n958',\n",
       " 's620.0',\n",
       " 's641.0',\n",
       " 's2592.0',\n",
       " 's605.0',\n",
       " 's3205.0',\n",
       " 's2961.0',\n",
       " 's134.0',\n",
       " 's4112.0',\n",
       " 'n2710',\n",
       " 's175.0',\n",
       " 's3883.0',\n",
       " 's3854.0',\n",
       " 's8905.0',\n",
       " 'n362',\n",
       " 's4616.0',\n",
       " 's570.0',\n",
       " 's580.0',\n",
       " 's59.0',\n",
       " 'n383',\n",
       " 's2654.0',\n",
       " 's2510.0',\n",
       " 's3684.0',\n",
       " 's131.0',\n",
       " 's6714.0',\n",
       " 's3086.0',\n",
       " 's3956.0',\n",
       " 's591.0',\n",
       " 's621.0',\n",
       " 's6712.0',\n",
       " 's6648.0',\n",
       " 'n355',\n",
       " 's4772.0',\n",
       " 's365.0',\n",
       " 's515.0']"
      ]
     },
     "execution_count": 32,
     "metadata": {},
     "output_type": "execute_result"
    }
   ],
   "source": [
    "top_100_taxons = species_obs['taxon_id'].value_counts()[:100].index.tolist()\n",
    "top_100_taxons"
   ]
  },
  {
   "cell_type": "code",
   "execution_count": 33,
   "metadata": {},
   "outputs": [
    {
     "data": {
      "text/plain": [
       "907"
      ]
     },
     "execution_count": 33,
     "metadata": {},
     "output_type": "execute_result"
    }
   ],
   "source": [
    "# Most observed\n",
    "len(species_obs[species_obs.taxon_id=='s8935.0'].index)"
   ]
  },
  {
   "cell_type": "code",
   "execution_count": 34,
   "metadata": {},
   "outputs": [
    {
     "data": {
      "text/plain": [
       "'Amanita muscaria'"
      ]
     },
     "execution_count": 34,
     "metadata": {},
     "output_type": "execute_result"
    }
   ],
   "source": [
    "species[species.synonym_id==8935.0].iloc[0]['text_name']"
   ]
  },
  {
   "cell_type": "markdown",
   "metadata": {},
   "source": [
    "No surprises there, the most commonly observed mushroom on mushroom observer (species level and below) is Amanita muscaria! "
   ]
  },
  {
   "cell_type": "code",
   "execution_count": 35,
   "metadata": {
    "scrolled": true
   },
   "outputs": [
    {
     "data": {
      "text/plain": [
       "165"
      ]
     },
     "execution_count": 35,
     "metadata": {},
     "output_type": "execute_result"
    }
   ],
   "source": [
    "# 100th most observed\n",
    "len(species_obs[species_obs.taxon_id=='s3155.0'].index)"
   ]
  },
  {
   "cell_type": "markdown",
   "metadata": {},
   "source": [
    "Now I'm going to see how many images are associated with each taxon_id"
   ]
  },
  {
   "cell_type": "code",
   "execution_count": 36,
   "metadata": {},
   "outputs": [
    {
     "data": {
      "text/html": [
       "<div>\n",
       "<style scoped>\n",
       "    .dataframe tbody tr th:only-of-type {\n",
       "        vertical-align: middle;\n",
       "    }\n",
       "\n",
       "    .dataframe tbody tr th {\n",
       "        vertical-align: top;\n",
       "    }\n",
       "\n",
       "    .dataframe thead th {\n",
       "        text-align: right;\n",
       "    }\n",
       "</style>\n",
       "<table border=\"1\" class=\"dataframe\">\n",
       "  <thead>\n",
       "    <tr style=\"text-align: right;\">\n",
       "      <th></th>\n",
       "      <th>image_id</th>\n",
       "      <th>observation_id</th>\n",
       "    </tr>\n",
       "  </thead>\n",
       "  <tbody>\n",
       "    <tr>\n",
       "      <th>0</th>\n",
       "      <td>1</td>\n",
       "      <td>1</td>\n",
       "    </tr>\n",
       "    <tr>\n",
       "      <th>1</th>\n",
       "      <td>2</td>\n",
       "      <td>2</td>\n",
       "    </tr>\n",
       "    <tr>\n",
       "      <th>2</th>\n",
       "      <td>3</td>\n",
       "      <td>3</td>\n",
       "    </tr>\n",
       "    <tr>\n",
       "      <th>3</th>\n",
       "      <td>4</td>\n",
       "      <td>4</td>\n",
       "    </tr>\n",
       "    <tr>\n",
       "      <th>4</th>\n",
       "      <td>5</td>\n",
       "      <td>5</td>\n",
       "    </tr>\n",
       "    <tr>\n",
       "      <th>5</th>\n",
       "      <td>6</td>\n",
       "      <td>6</td>\n",
       "    </tr>\n",
       "    <tr>\n",
       "      <th>6</th>\n",
       "      <td>7</td>\n",
       "      <td>7</td>\n",
       "    </tr>\n",
       "    <tr>\n",
       "      <th>7</th>\n",
       "      <td>8</td>\n",
       "      <td>8</td>\n",
       "    </tr>\n",
       "    <tr>\n",
       "      <th>8</th>\n",
       "      <td>9</td>\n",
       "      <td>9</td>\n",
       "    </tr>\n",
       "    <tr>\n",
       "      <th>9</th>\n",
       "      <td>10</td>\n",
       "      <td>9</td>\n",
       "    </tr>\n",
       "  </tbody>\n",
       "</table>\n",
       "</div>"
      ],
      "text/plain": [
       "   image_id  observation_id\n",
       "0         1               1\n",
       "1         2               2\n",
       "2         3               3\n",
       "3         4               4\n",
       "4         5               5\n",
       "5         6               6\n",
       "6         7               7\n",
       "7         8               8\n",
       "8         9               9\n",
       "9        10               9"
      ]
     },
     "execution_count": 36,
     "metadata": {},
     "output_type": "execute_result"
    }
   ],
   "source": [
    "images.head(10)"
   ]
  },
  {
   "cell_type": "markdown",
   "metadata": {},
   "source": [
    "Each image is associated with an observation, and we can see that multiple images may be linked to an observation"
   ]
  },
  {
   "cell_type": "code",
   "execution_count": 37,
   "metadata": {},
   "outputs": [],
   "source": [
    "species_obs[species_obs.taxon_id=='s515.0']\n",
    "taxon_images = {}\n",
    "images_per_taxon = {}\n",
    "for t_id in top_100_taxons:\n",
    "    t_obs = list(species_obs.loc[species_obs.taxon_id==t_id,'id'])\n",
    "    taxon_images[t_id] = list(images.loc[images.observation_id.isin(t_obs),'image_id'])\n",
    "    images_per_taxon[t_id] = len(images.loc[images.observation_id.isin(t_obs)].index)"
   ]
  },
  {
   "cell_type": "code",
   "execution_count": 38,
   "metadata": {
    "scrolled": true
   },
   "outputs": [
    {
     "data": {
      "text/plain": [
       "{'s8935.0': 2568,\n",
       " 's4152.0': 1666,\n",
       " 's8882.0': 1393,\n",
       " 's2852.0': 1212,\n",
       " 's2669.0': 1186,\n",
       " 's8924.0': 1147,\n",
       " 's253.0': 815,\n",
       " 's2818.0': 1112,\n",
       " 's8869.0': 981,\n",
       " 's4157.0': 1735,\n",
       " 's7059.0': 1032,\n",
       " 's2883.0': 995,\n",
       " 's8908.0': 882,\n",
       " 's2735.0': 1139,\n",
       " 's7118.0': 1485,\n",
       " 's5848.0': 851,\n",
       " 's3614.0': 816,\n",
       " 's6080.0': 840,\n",
       " 's537.0': 686,\n",
       " 's6024.0': 741,\n",
       " 's2523.0': 839,\n",
       " 's7649.0': 696,\n",
       " 's3868.0': 580,\n",
       " 's6107.0': 618,\n",
       " 'n100': 556,\n",
       " 's2663.0': 645,\n",
       " 's6913.0': 1349,\n",
       " 's6768.0': 625,\n",
       " 's174.0': 488,\n",
       " 's2814.0': 624,\n",
       " 's57.0': 841,\n",
       " 's8982.0': 645,\n",
       " 's2681.0': 616,\n",
       " 's508.0': 610,\n",
       " 's132.0': 476,\n",
       " 'n271': 666,\n",
       " 's2536.0': 633,\n",
       " 's496.0': 422,\n",
       " 'n139': 571,\n",
       " 's6563.0': 637,\n",
       " 's8870.0': 544,\n",
       " 's6324.0': 541,\n",
       " 's2591.0': 435,\n",
       " 's2853.0': 479,\n",
       " 's2650.0': 671,\n",
       " 's2854.0': 618,\n",
       " 's5053.0': 485,\n",
       " 's7558.0': 529,\n",
       " 's5575.0': 426,\n",
       " 's4073.0': 555,\n",
       " 'n53': 575,\n",
       " 's2945.0': 647,\n",
       " 's4455.0': 476,\n",
       " 'n330': 486,\n",
       " 's2876.0': 503,\n",
       " 's2994.0': 665,\n",
       " 's2658.0': 493,\n",
       " 's6222.0': 450,\n",
       " 's4709.0': 563,\n",
       " 's8986.0': 754,\n",
       " 's6036.0': 589,\n",
       " 's4176.0': 551,\n",
       " 'n44785': 553,\n",
       " 's6068.0': 570,\n",
       " 's3197.0': 476,\n",
       " 'n958': 371,\n",
       " 's620.0': 728,\n",
       " 's641.0': 557,\n",
       " 's2592.0': 492,\n",
       " 's605.0': 619,\n",
       " 's3205.0': 406,\n",
       " 's2961.0': 557,\n",
       " 's134.0': 414,\n",
       " 's4112.0': 500,\n",
       " 'n2710': 460,\n",
       " 's175.0': 425,\n",
       " 's3883.0': 480,\n",
       " 's3854.0': 509,\n",
       " 's8905.0': 505,\n",
       " 'n362': 552,\n",
       " 's4616.0': 361,\n",
       " 's570.0': 337,\n",
       " 's580.0': 376,\n",
       " 's59.0': 352,\n",
       " 'n383': 380,\n",
       " 's2654.0': 472,\n",
       " 's2510.0': 374,\n",
       " 's3684.0': 455,\n",
       " 's131.0': 466,\n",
       " 's6714.0': 464,\n",
       " 's3086.0': 476,\n",
       " 's3956.0': 768,\n",
       " 's591.0': 367,\n",
       " 's621.0': 459,\n",
       " 's6712.0': 274,\n",
       " 's6648.0': 410,\n",
       " 'n355': 353,\n",
       " 's4772.0': 404,\n",
       " 's365.0': 367,\n",
       " 's515.0': 503}"
      ]
     },
     "execution_count": 38,
     "metadata": {},
     "output_type": "execute_result"
    }
   ],
   "source": [
    "images_per_taxon"
   ]
  },
  {
   "cell_type": "code",
   "execution_count": 39,
   "metadata": {},
   "outputs": [
    {
     "data": {
      "text/plain": [
       "66046"
      ]
     },
     "execution_count": 39,
     "metadata": {},
     "output_type": "execute_result"
    }
   ],
   "source": [
    "sum(images_per_taxon.values())"
   ]
  },
  {
   "cell_type": "markdown",
   "metadata": {},
   "source": [
    "Ok so we have 66,046 images of mushrooms across the top 100 most commonly observed taxons."
   ]
  },
  {
   "cell_type": "markdown",
   "metadata": {},
   "source": [
    "## Downloading Images"
   ]
  },
  {
   "cell_type": "markdown",
   "metadata": {},
   "source": [
    "#### Create an image directory"
   ]
  },
  {
   "cell_type": "code",
   "execution_count": 34,
   "metadata": {},
   "outputs": [],
   "source": [
    "mushroom_images = Path(datapath/'mushroom-images')"
   ]
  },
  {
   "cell_type": "code",
   "execution_count": 67,
   "metadata": {},
   "outputs": [],
   "source": [
    "os.mkdir(mushroom_images)"
   ]
  },
  {
   "cell_type": "markdown",
   "metadata": {},
   "source": [
    "#### Creating classes"
   ]
  },
  {
   "cell_type": "markdown",
   "metadata": {},
   "source": [
    "Now I'm to create classes that will be used to train the model, these classes will serve as folder and file names for their respective images too."
   ]
  },
  {
   "cell_type": "code",
   "execution_count": 43,
   "metadata": {},
   "outputs": [
    {
     "data": {
      "text/html": [
       "<div>\n",
       "<style scoped>\n",
       "    .dataframe tbody tr th:only-of-type {\n",
       "        vertical-align: middle;\n",
       "    }\n",
       "\n",
       "    .dataframe tbody tr th {\n",
       "        vertical-align: top;\n",
       "    }\n",
       "\n",
       "    .dataframe thead th {\n",
       "        text-align: right;\n",
       "    }\n",
       "</style>\n",
       "<table border=\"1\" class=\"dataframe\">\n",
       "  <thead>\n",
       "    <tr style=\"text-align: right;\">\n",
       "      <th></th>\n",
       "      <th>id</th>\n",
       "      <th>text_name</th>\n",
       "      <th>deprecated</th>\n",
       "      <th>correct_spelling_id</th>\n",
       "      <th>synonym_id</th>\n",
       "      <th>rank</th>\n",
       "    </tr>\n",
       "  </thead>\n",
       "  <tbody>\n",
       "    <tr>\n",
       "      <th>2</th>\n",
       "      <td>3</td>\n",
       "      <td>Xylaria magnoliae</td>\n",
       "      <td>0</td>\n",
       "      <td>NaN</td>\n",
       "      <td>NaN</td>\n",
       "      <td>4</td>\n",
       "    </tr>\n",
       "    <tr>\n",
       "      <th>5</th>\n",
       "      <td>6</td>\n",
       "      <td>Xerocomus zelleri</td>\n",
       "      <td>1</td>\n",
       "      <td>NaN</td>\n",
       "      <td>505.0</td>\n",
       "      <td>4</td>\n",
       "    </tr>\n",
       "    <tr>\n",
       "      <th>6</th>\n",
       "      <td>7</td>\n",
       "      <td>Xerocomus subtomentosus</td>\n",
       "      <td>0</td>\n",
       "      <td>NaN</td>\n",
       "      <td>645.0</td>\n",
       "      <td>4</td>\n",
       "    </tr>\n",
       "    <tr>\n",
       "      <th>8</th>\n",
       "      <td>9</td>\n",
       "      <td>Xerocomus chrysenteron</td>\n",
       "      <td>1</td>\n",
       "      <td>NaN</td>\n",
       "      <td>504.0</td>\n",
       "      <td>4</td>\n",
       "    </tr>\n",
       "    <tr>\n",
       "      <th>11</th>\n",
       "      <td>12</td>\n",
       "      <td>Verpa bohemica</td>\n",
       "      <td>0</td>\n",
       "      <td>NaN</td>\n",
       "      <td>2545.0</td>\n",
       "      <td>4</td>\n",
       "    </tr>\n",
       "  </tbody>\n",
       "</table>\n",
       "</div>"
      ],
      "text/plain": [
       "    id                text_name  deprecated  correct_spelling_id  synonym_id  \\\n",
       "2    3        Xylaria magnoliae           0                  NaN         NaN   \n",
       "5    6        Xerocomus zelleri           1                  NaN       505.0   \n",
       "6    7  Xerocomus subtomentosus           0                  NaN       645.0   \n",
       "8    9   Xerocomus chrysenteron           1                  NaN       504.0   \n",
       "11  12           Verpa bohemica           0                  NaN      2545.0   \n",
       "\n",
       "    rank  \n",
       "2      4  \n",
       "5      4  \n",
       "6      4  \n",
       "8      4  \n",
       "11     4  "
      ]
     },
     "execution_count": 43,
     "metadata": {},
     "output_type": "execute_result"
    }
   ],
   "source": [
    "species.head(5)"
   ]
  },
  {
   "cell_type": "code",
   "execution_count": 44,
   "metadata": {},
   "outputs": [
    {
     "data": {
      "text/plain": [
       "'Amanita-muscaria'"
      ]
     },
     "execution_count": 44,
     "metadata": {},
     "output_type": "execute_result"
    }
   ],
   "source": [
    "t_id = 's8935.0'\n",
    "s_id = float(t_id[1:])\n",
    "c = species[(species.synonym_id==s_id) & (species['rank']==4)].iloc[0]['text_name'].replace(' ', '-')\n",
    "c"
   ]
  },
  {
   "cell_type": "code",
   "execution_count": 45,
   "metadata": {},
   "outputs": [
    {
     "data": {
      "text/plain": [
       "'Amanita-muscaria'"
      ]
     },
     "execution_count": 45,
     "metadata": {},
     "output_type": "execute_result"
    }
   ],
   "source": [
    "c = '-'.join(species[(species.synonym_id==s_id) & (species['rank']==1)].iloc[0]['text_name'].split()[:2])\n",
    "c"
   ]
  },
  {
   "cell_type": "code",
   "execution_count": 52,
   "metadata": {},
   "outputs": [],
   "source": [
    "# Synonym_id Rank -> String\n",
    "# Get all the class names for the most commonly observed taxons\n",
    "def get_class_name(tax_id, r):\n",
    "    \n",
    "    def get_class_subf(condition, id_val, r):\n",
    "        return species[(species[condition]==float(id_val)) & (species['rank']==r)]\n",
    "    \n",
    "    if tax_id[0] == 's':\n",
    "        c = get_class_subf('synonym_id', tax_id[1:], r)\n",
    "        if not c.empty:\n",
    "            return c.iloc[0]['text_name'].replace(' ', '-')\n",
    "        else:\n",
    "            '-'.join(get_class_name(tax_id,r-1).split()[:2])\n",
    "    else:\n",
    "        c = get_class_subf('id', tax_id[1:], r)\n",
    "        if not c.empty:\n",
    "            return c.iloc[0]['text_name'].replace(' ', '-')\n",
    "        else:\n",
    "            '-'.join(get_class_name(tax_id,r-1).split()[:2])\n",
    "\n",
    "classes = []\n",
    "for t_id in top_100_taxons:\n",
    "    c = get_class_name(t_id, 4)\n",
    "    classes.append(c)"
   ]
  },
  {
   "cell_type": "code",
   "execution_count": 55,
   "metadata": {},
   "outputs": [
    {
     "data": {
      "text/plain": [
       "True"
      ]
     },
     "execution_count": 55,
     "metadata": {},
     "output_type": "execute_result"
    }
   ],
   "source": [
    "# Sanity check that there are no duplicates in this list\n",
    "# there should not be if the assimilate taxon_ids algorithm worked properly\n",
    "len(classes) == len(set(classes))"
   ]
  },
  {
   "cell_type": "code",
   "execution_count": 56,
   "metadata": {
    "scrolled": true
   },
   "outputs": [
    {
     "data": {
      "text/plain": [
       "['Amanita-muscaria',\n",
       " 'Trametes-versicolor',\n",
       " 'Lepista-nuda',\n",
       " 'Schizophyllum-commune',\n",
       " 'Coprinus-comatus',\n",
       " 'Pleurotus-ostreatus',\n",
       " 'Lycoperdon-perlatum',\n",
       " 'Galerina-autumnalis',\n",
       " 'Boletus-edulis',\n",
       " 'Mixed-collection',\n",
       " 'Polyporus-squamosus',\n",
       " 'Phaeolus-schweinitzii',\n",
       " 'Hypholoma-fasciculare',\n",
       " 'Amanita-phalloides',\n",
       " 'Psilocybe-cyanescens',\n",
       " 'Laetiporus-sulphureus',\n",
       " 'Lenzites-betulina',\n",
       " 'Ganoderma-applanatum',\n",
       " 'Lycoperdon-pyriforme',\n",
       " 'Mycena-haematopus',\n",
       " 'Trichaptum-biforme',\n",
       " 'Hypomyces-lactifluorum',\n",
       " 'Lycogala-epidendrum',\n",
       " 'Mycena-leaiana',\n",
       " 'Pseudohydnum-gelatinosum',\n",
       " 'Panellus-stipticus',\n",
       " 'Psilocybe-ovoideocystidiata',\n",
       " 'Bolbitius-vitellinus',\n",
       " 'Hericium-erinaceus',\n",
       " 'Phyllotopsis-nidulans',\n",
       " 'Chlorophyllum-molybdites',\n",
       " 'Leratiomyces-ceres',\n",
       " 'Fuligo-septica',\n",
       " 'Tapinella-atrotomentosa',\n",
       " 'Gomphus-floccosus',\n",
       " 'Flammulina-velutipes',\n",
       " 'Armillaria-tabescens',\n",
       " 'Clavicorona-pyxidata',\n",
       " 'Omphalotus-illudens',\n",
       " 'Armillaria-mellea',\n",
       " 'Ceratiomyxa-fruticulosa',\n",
       " 'Coprinellus-micaceus',\n",
       " 'Leotia-viscosa',\n",
       " 'Amanita-augusta',\n",
       " 'Psilocybe-cubensis',\n",
       " 'Panellus-serotinus',\n",
       " 'Stereum-ostrea',\n",
       " 'Hygrocybe-psittacina',\n",
       " 'Hygrophoropsis-aurantiaca',\n",
       " 'Lactarius-volemus',\n",
       " 'Stropharia-ambigua',\n",
       " 'Ganoderma-tsugae',\n",
       " 'Polyporus-alveolaris',\n",
       " 'Cantharellus-cinnabarinus',\n",
       " 'Polyporus-badius',\n",
       " 'Hypholoma-lateritium',\n",
       " 'Amanita-flavoconia',\n",
       " 'Fomitopsis-mounceae',\n",
       " 'Ischnoderma-resinosum',\n",
       " 'Ganoderma-oregonense',\n",
       " 'Agaricus-augustus',\n",
       " 'Lactarius-indigo',\n",
       " 'Tricholoma-murrillianum',\n",
       " 'Pluteus-cervinus',\n",
       " 'Cryptoporus-volvatus',\n",
       " 'Omphalotus-olivascens',\n",
       " 'Lacrymaria-lacrymabunda',\n",
       " 'Boletus-ornatipes',\n",
       " 'Suillus-pictus',\n",
       " 'Panaeolus-foenisecii',\n",
       " 'Amanita-calyptroderma',\n",
       " 'Psathyrella-candolleana',\n",
       " 'Grifola-frondosa',\n",
       " 'Megacollybia-rodmani',\n",
       " 'Laccaria-ochropurpurea',\n",
       " 'Hericium-ramosum',\n",
       " 'Amanita-amerirubescens',\n",
       " 'Agaricus-xanthodermus',\n",
       " 'Amanita-brunnescens',\n",
       " 'Amanita-velosa',\n",
       " 'Fomitopsis-pinicola',\n",
       " 'Mycena-pura',\n",
       " 'Lactarius-rubidus',\n",
       " 'Cantharellus-lateritius',\n",
       " 'Aleuria-aurantia',\n",
       " 'Tylopilus-felleus',\n",
       " 'Laccaria-amethysteo-occidentalis',\n",
       " 'Suillus-luteus',\n",
       " 'Gloeophyllum-saepiarium',\n",
       " 'Daedaleopsis-confragosa',\n",
       " 'Entoloma-abortivum',\n",
       " 'Psilocybe-allenii',\n",
       " 'Cantharellus-formosus',\n",
       " 'Phlebia-tremellosa',\n",
       " 'Stereum-hirsutum',\n",
       " 'Crucibulum-laeve',\n",
       " 'Auriscalpium-vulgare',\n",
       " 'Tricholomopsis-rutilans',\n",
       " 'Scleroderma-citrinum',\n",
       " 'Tubaria-furfuracea']"
      ]
     },
     "execution_count": 56,
     "metadata": {},
     "output_type": "execute_result"
    }
   ],
   "source": [
    "classes"
   ]
  },
  {
   "cell_type": "markdown",
   "metadata": {},
   "source": [
    "#### Fetching Image URLs\n"
   ]
  },
  {
   "cell_type": "markdown",
   "metadata": {},
   "source": [
    "For each class, I'm going to create a CSV file containing all the image URLs available through mushroomobserver.org"
   ]
  },
  {
   "cell_type": "code",
   "execution_count": 69,
   "metadata": {},
   "outputs": [
    {
     "data": {
      "text/plain": [
       "100"
      ]
     },
     "execution_count": 69,
     "metadata": {},
     "output_type": "execute_result"
    }
   ],
   "source": [
    "len(taxon_images)"
   ]
  },
  {
   "cell_type": "code",
   "execution_count": 68,
   "metadata": {},
   "outputs": [
    {
     "data": {
      "text/plain": [
       "100"
      ]
     },
     "execution_count": 68,
     "metadata": {},
     "output_type": "execute_result"
    }
   ],
   "source": [
    "len(classes)"
   ]
  },
  {
   "cell_type": "code",
   "execution_count": 44,
   "metadata": {},
   "outputs": [],
   "source": [
    "# Run this if you want to remove the mushroom-images folder, maybe because you want more images!\n",
    "import shutil\n",
    "shutil.rmtree(mushroom_images)"
   ]
  },
  {
   "cell_type": "markdown",
   "metadata": {},
   "source": [
    "Note the below URL bypasses the servers at mushroom observer."
   ]
  },
  {
   "cell_type": "code",
   "execution_count": 70,
   "metadata": {},
   "outputs": [],
   "source": [
    "base_URL = 'https://images.mushroomobserver.org/320/img_id.jpg'\n",
    "for i, (t_id, img_ids) in enumerate(taxon_images.items()):\n",
    "    os.mkdir(mushroom_images/classes[i])\n",
    "    filename = classes[i]+'.csv'\n",
    "    with open(mushroom_images/classes[i]/filename, 'w') as f:\n",
    "        for img_id in img_ids:\n",
    "            f.write(base_URL.replace('img_id', str(img_id)))\n",
    "            f.write('\\n')"
   ]
  },
  {
   "cell_type": "markdown",
   "metadata": {},
   "source": [
    "At this point I checked the folder containing all the class folders and noticed a folder called 'Mixed-collection'. This must be one of the 100 most popular identifiers under which observations are uploaded, however I am going to exclude it because it will contribute to error. "
   ]
  },
  {
   "cell_type": "markdown",
   "metadata": {},
   "source": [
    "#### Downloading Images"
   ]
  },
  {
   "cell_type": "code",
   "execution_count": 71,
   "metadata": {
    "scrolled": true
   },
   "outputs": [
    {
     "data": {
      "text/html": [],
      "text/plain": [
       "<IPython.core.display.HTML object>"
      ]
     },
     "metadata": {},
     "output_type": "display_data"
    },
    {
     "data": {
      "text/html": [],
      "text/plain": [
       "<IPython.core.display.HTML object>"
      ]
     },
     "metadata": {},
     "output_type": "display_data"
    },
    {
     "data": {
      "text/html": [],
      "text/plain": [
       "<IPython.core.display.HTML object>"
      ]
     },
     "metadata": {},
     "output_type": "display_data"
    },
    {
     "data": {
      "text/html": [],
      "text/plain": [
       "<IPython.core.display.HTML object>"
      ]
     },
     "metadata": {},
     "output_type": "display_data"
    },
    {
     "data": {
      "text/html": [],
      "text/plain": [
       "<IPython.core.display.HTML object>"
      ]
     },
     "metadata": {},
     "output_type": "display_data"
    },
    {
     "data": {
      "text/html": [],
      "text/plain": [
       "<IPython.core.display.HTML object>"
      ]
     },
     "metadata": {},
     "output_type": "display_data"
    },
    {
     "data": {
      "text/html": [],
      "text/plain": [
       "<IPython.core.display.HTML object>"
      ]
     },
     "metadata": {},
     "output_type": "display_data"
    },
    {
     "data": {
      "text/html": [],
      "text/plain": [
       "<IPython.core.display.HTML object>"
      ]
     },
     "metadata": {},
     "output_type": "display_data"
    },
    {
     "data": {
      "text/html": [],
      "text/plain": [
       "<IPython.core.display.HTML object>"
      ]
     },
     "metadata": {},
     "output_type": "display_data"
    },
    {
     "data": {
      "text/html": [],
      "text/plain": [
       "<IPython.core.display.HTML object>"
      ]
     },
     "metadata": {},
     "output_type": "display_data"
    },
    {
     "data": {
      "text/html": [],
      "text/plain": [
       "<IPython.core.display.HTML object>"
      ]
     },
     "metadata": {},
     "output_type": "display_data"
    },
    {
     "data": {
      "text/html": [],
      "text/plain": [
       "<IPython.core.display.HTML object>"
      ]
     },
     "metadata": {},
     "output_type": "display_data"
    },
    {
     "data": {
      "text/html": [],
      "text/plain": [
       "<IPython.core.display.HTML object>"
      ]
     },
     "metadata": {},
     "output_type": "display_data"
    },
    {
     "data": {
      "text/html": [],
      "text/plain": [
       "<IPython.core.display.HTML object>"
      ]
     },
     "metadata": {},
     "output_type": "display_data"
    },
    {
     "data": {
      "text/html": [],
      "text/plain": [
       "<IPython.core.display.HTML object>"
      ]
     },
     "metadata": {},
     "output_type": "display_data"
    },
    {
     "data": {
      "text/html": [],
      "text/plain": [
       "<IPython.core.display.HTML object>"
      ]
     },
     "metadata": {},
     "output_type": "display_data"
    },
    {
     "data": {
      "text/html": [],
      "text/plain": [
       "<IPython.core.display.HTML object>"
      ]
     },
     "metadata": {},
     "output_type": "display_data"
    },
    {
     "data": {
      "text/html": [],
      "text/plain": [
       "<IPython.core.display.HTML object>"
      ]
     },
     "metadata": {},
     "output_type": "display_data"
    },
    {
     "data": {
      "text/html": [],
      "text/plain": [
       "<IPython.core.display.HTML object>"
      ]
     },
     "metadata": {},
     "output_type": "display_data"
    },
    {
     "data": {
      "text/html": [],
      "text/plain": [
       "<IPython.core.display.HTML object>"
      ]
     },
     "metadata": {},
     "output_type": "display_data"
    },
    {
     "data": {
      "text/html": [],
      "text/plain": [
       "<IPython.core.display.HTML object>"
      ]
     },
     "metadata": {},
     "output_type": "display_data"
    },
    {
     "data": {
      "text/html": [],
      "text/plain": [
       "<IPython.core.display.HTML object>"
      ]
     },
     "metadata": {},
     "output_type": "display_data"
    },
    {
     "data": {
      "text/html": [],
      "text/plain": [
       "<IPython.core.display.HTML object>"
      ]
     },
     "metadata": {},
     "output_type": "display_data"
    },
    {
     "data": {
      "text/html": [],
      "text/plain": [
       "<IPython.core.display.HTML object>"
      ]
     },
     "metadata": {},
     "output_type": "display_data"
    },
    {
     "data": {
      "text/html": [],
      "text/plain": [
       "<IPython.core.display.HTML object>"
      ]
     },
     "metadata": {},
     "output_type": "display_data"
    },
    {
     "data": {
      "text/html": [],
      "text/plain": [
       "<IPython.core.display.HTML object>"
      ]
     },
     "metadata": {},
     "output_type": "display_data"
    },
    {
     "data": {
      "text/html": [],
      "text/plain": [
       "<IPython.core.display.HTML object>"
      ]
     },
     "metadata": {},
     "output_type": "display_data"
    },
    {
     "data": {
      "text/html": [],
      "text/plain": [
       "<IPython.core.display.HTML object>"
      ]
     },
     "metadata": {},
     "output_type": "display_data"
    },
    {
     "data": {
      "text/html": [],
      "text/plain": [
       "<IPython.core.display.HTML object>"
      ]
     },
     "metadata": {},
     "output_type": "display_data"
    },
    {
     "data": {
      "text/html": [],
      "text/plain": [
       "<IPython.core.display.HTML object>"
      ]
     },
     "metadata": {},
     "output_type": "display_data"
    },
    {
     "data": {
      "text/html": [],
      "text/plain": [
       "<IPython.core.display.HTML object>"
      ]
     },
     "metadata": {},
     "output_type": "display_data"
    },
    {
     "data": {
      "text/html": [],
      "text/plain": [
       "<IPython.core.display.HTML object>"
      ]
     },
     "metadata": {},
     "output_type": "display_data"
    },
    {
     "data": {
      "text/html": [],
      "text/plain": [
       "<IPython.core.display.HTML object>"
      ]
     },
     "metadata": {},
     "output_type": "display_data"
    },
    {
     "data": {
      "text/html": [],
      "text/plain": [
       "<IPython.core.display.HTML object>"
      ]
     },
     "metadata": {},
     "output_type": "display_data"
    },
    {
     "data": {
      "text/html": [],
      "text/plain": [
       "<IPython.core.display.HTML object>"
      ]
     },
     "metadata": {},
     "output_type": "display_data"
    },
    {
     "data": {
      "text/html": [],
      "text/plain": [
       "<IPython.core.display.HTML object>"
      ]
     },
     "metadata": {},
     "output_type": "display_data"
    },
    {
     "data": {
      "text/html": [],
      "text/plain": [
       "<IPython.core.display.HTML object>"
      ]
     },
     "metadata": {},
     "output_type": "display_data"
    },
    {
     "data": {
      "text/html": [],
      "text/plain": [
       "<IPython.core.display.HTML object>"
      ]
     },
     "metadata": {},
     "output_type": "display_data"
    },
    {
     "data": {
      "text/html": [],
      "text/plain": [
       "<IPython.core.display.HTML object>"
      ]
     },
     "metadata": {},
     "output_type": "display_data"
    },
    {
     "data": {
      "text/html": [],
      "text/plain": [
       "<IPython.core.display.HTML object>"
      ]
     },
     "metadata": {},
     "output_type": "display_data"
    },
    {
     "data": {
      "text/html": [],
      "text/plain": [
       "<IPython.core.display.HTML object>"
      ]
     },
     "metadata": {},
     "output_type": "display_data"
    },
    {
     "data": {
      "text/html": [],
      "text/plain": [
       "<IPython.core.display.HTML object>"
      ]
     },
     "metadata": {},
     "output_type": "display_data"
    },
    {
     "data": {
      "text/html": [],
      "text/plain": [
       "<IPython.core.display.HTML object>"
      ]
     },
     "metadata": {},
     "output_type": "display_data"
    },
    {
     "data": {
      "text/html": [],
      "text/plain": [
       "<IPython.core.display.HTML object>"
      ]
     },
     "metadata": {},
     "output_type": "display_data"
    },
    {
     "data": {
      "text/html": [],
      "text/plain": [
       "<IPython.core.display.HTML object>"
      ]
     },
     "metadata": {},
     "output_type": "display_data"
    },
    {
     "data": {
      "text/html": [],
      "text/plain": [
       "<IPython.core.display.HTML object>"
      ]
     },
     "metadata": {},
     "output_type": "display_data"
    },
    {
     "data": {
      "text/html": [],
      "text/plain": [
       "<IPython.core.display.HTML object>"
      ]
     },
     "metadata": {},
     "output_type": "display_data"
    },
    {
     "data": {
      "text/html": [],
      "text/plain": [
       "<IPython.core.display.HTML object>"
      ]
     },
     "metadata": {},
     "output_type": "display_data"
    },
    {
     "data": {
      "text/html": [],
      "text/plain": [
       "<IPython.core.display.HTML object>"
      ]
     },
     "metadata": {},
     "output_type": "display_data"
    },
    {
     "data": {
      "text/html": [],
      "text/plain": [
       "<IPython.core.display.HTML object>"
      ]
     },
     "metadata": {},
     "output_type": "display_data"
    },
    {
     "data": {
      "text/html": [],
      "text/plain": [
       "<IPython.core.display.HTML object>"
      ]
     },
     "metadata": {},
     "output_type": "display_data"
    },
    {
     "data": {
      "text/html": [],
      "text/plain": [
       "<IPython.core.display.HTML object>"
      ]
     },
     "metadata": {},
     "output_type": "display_data"
    },
    {
     "data": {
      "text/html": [],
      "text/plain": [
       "<IPython.core.display.HTML object>"
      ]
     },
     "metadata": {},
     "output_type": "display_data"
    },
    {
     "data": {
      "text/html": [],
      "text/plain": [
       "<IPython.core.display.HTML object>"
      ]
     },
     "metadata": {},
     "output_type": "display_data"
    },
    {
     "data": {
      "text/html": [],
      "text/plain": [
       "<IPython.core.display.HTML object>"
      ]
     },
     "metadata": {},
     "output_type": "display_data"
    },
    {
     "data": {
      "text/html": [],
      "text/plain": [
       "<IPython.core.display.HTML object>"
      ]
     },
     "metadata": {},
     "output_type": "display_data"
    },
    {
     "data": {
      "text/html": [],
      "text/plain": [
       "<IPython.core.display.HTML object>"
      ]
     },
     "metadata": {},
     "output_type": "display_data"
    },
    {
     "data": {
      "text/html": [],
      "text/plain": [
       "<IPython.core.display.HTML object>"
      ]
     },
     "metadata": {},
     "output_type": "display_data"
    },
    {
     "data": {
      "text/html": [],
      "text/plain": [
       "<IPython.core.display.HTML object>"
      ]
     },
     "metadata": {},
     "output_type": "display_data"
    },
    {
     "data": {
      "text/html": [],
      "text/plain": [
       "<IPython.core.display.HTML object>"
      ]
     },
     "metadata": {},
     "output_type": "display_data"
    },
    {
     "data": {
      "text/html": [],
      "text/plain": [
       "<IPython.core.display.HTML object>"
      ]
     },
     "metadata": {},
     "output_type": "display_data"
    },
    {
     "data": {
      "text/html": [],
      "text/plain": [
       "<IPython.core.display.HTML object>"
      ]
     },
     "metadata": {},
     "output_type": "display_data"
    },
    {
     "data": {
      "text/html": [],
      "text/plain": [
       "<IPython.core.display.HTML object>"
      ]
     },
     "metadata": {},
     "output_type": "display_data"
    },
    {
     "data": {
      "text/html": [],
      "text/plain": [
       "<IPython.core.display.HTML object>"
      ]
     },
     "metadata": {},
     "output_type": "display_data"
    },
    {
     "data": {
      "text/html": [],
      "text/plain": [
       "<IPython.core.display.HTML object>"
      ]
     },
     "metadata": {},
     "output_type": "display_data"
    },
    {
     "data": {
      "text/html": [],
      "text/plain": [
       "<IPython.core.display.HTML object>"
      ]
     },
     "metadata": {},
     "output_type": "display_data"
    },
    {
     "data": {
      "text/html": [],
      "text/plain": [
       "<IPython.core.display.HTML object>"
      ]
     },
     "metadata": {},
     "output_type": "display_data"
    },
    {
     "data": {
      "text/html": [],
      "text/plain": [
       "<IPython.core.display.HTML object>"
      ]
     },
     "metadata": {},
     "output_type": "display_data"
    },
    {
     "data": {
      "text/html": [],
      "text/plain": [
       "<IPython.core.display.HTML object>"
      ]
     },
     "metadata": {},
     "output_type": "display_data"
    },
    {
     "data": {
      "text/html": [],
      "text/plain": [
       "<IPython.core.display.HTML object>"
      ]
     },
     "metadata": {},
     "output_type": "display_data"
    },
    {
     "data": {
      "text/html": [],
      "text/plain": [
       "<IPython.core.display.HTML object>"
      ]
     },
     "metadata": {},
     "output_type": "display_data"
    },
    {
     "data": {
      "text/html": [],
      "text/plain": [
       "<IPython.core.display.HTML object>"
      ]
     },
     "metadata": {},
     "output_type": "display_data"
    },
    {
     "data": {
      "text/html": [],
      "text/plain": [
       "<IPython.core.display.HTML object>"
      ]
     },
     "metadata": {},
     "output_type": "display_data"
    },
    {
     "data": {
      "text/html": [],
      "text/plain": [
       "<IPython.core.display.HTML object>"
      ]
     },
     "metadata": {},
     "output_type": "display_data"
    },
    {
     "data": {
      "text/html": [],
      "text/plain": [
       "<IPython.core.display.HTML object>"
      ]
     },
     "metadata": {},
     "output_type": "display_data"
    },
    {
     "data": {
      "text/html": [],
      "text/plain": [
       "<IPython.core.display.HTML object>"
      ]
     },
     "metadata": {},
     "output_type": "display_data"
    },
    {
     "data": {
      "text/html": [],
      "text/plain": [
       "<IPython.core.display.HTML object>"
      ]
     },
     "metadata": {},
     "output_type": "display_data"
    },
    {
     "data": {
      "text/html": [],
      "text/plain": [
       "<IPython.core.display.HTML object>"
      ]
     },
     "metadata": {},
     "output_type": "display_data"
    },
    {
     "data": {
      "text/html": [],
      "text/plain": [
       "<IPython.core.display.HTML object>"
      ]
     },
     "metadata": {},
     "output_type": "display_data"
    },
    {
     "data": {
      "text/html": [],
      "text/plain": [
       "<IPython.core.display.HTML object>"
      ]
     },
     "metadata": {},
     "output_type": "display_data"
    },
    {
     "data": {
      "text/html": [],
      "text/plain": [
       "<IPython.core.display.HTML object>"
      ]
     },
     "metadata": {},
     "output_type": "display_data"
    },
    {
     "data": {
      "text/html": [],
      "text/plain": [
       "<IPython.core.display.HTML object>"
      ]
     },
     "metadata": {},
     "output_type": "display_data"
    },
    {
     "data": {
      "text/html": [],
      "text/plain": [
       "<IPython.core.display.HTML object>"
      ]
     },
     "metadata": {},
     "output_type": "display_data"
    },
    {
     "data": {
      "text/html": [],
      "text/plain": [
       "<IPython.core.display.HTML object>"
      ]
     },
     "metadata": {},
     "output_type": "display_data"
    },
    {
     "data": {
      "text/html": [],
      "text/plain": [
       "<IPython.core.display.HTML object>"
      ]
     },
     "metadata": {},
     "output_type": "display_data"
    },
    {
     "data": {
      "text/html": [],
      "text/plain": [
       "<IPython.core.display.HTML object>"
      ]
     },
     "metadata": {},
     "output_type": "display_data"
    },
    {
     "data": {
      "text/html": [],
      "text/plain": [
       "<IPython.core.display.HTML object>"
      ]
     },
     "metadata": {},
     "output_type": "display_data"
    },
    {
     "data": {
      "text/html": [],
      "text/plain": [
       "<IPython.core.display.HTML object>"
      ]
     },
     "metadata": {},
     "output_type": "display_data"
    },
    {
     "data": {
      "text/html": [],
      "text/plain": [
       "<IPython.core.display.HTML object>"
      ]
     },
     "metadata": {},
     "output_type": "display_data"
    },
    {
     "data": {
      "text/html": [],
      "text/plain": [
       "<IPython.core.display.HTML object>"
      ]
     },
     "metadata": {},
     "output_type": "display_data"
    },
    {
     "data": {
      "text/html": [],
      "text/plain": [
       "<IPython.core.display.HTML object>"
      ]
     },
     "metadata": {},
     "output_type": "display_data"
    },
    {
     "data": {
      "text/html": [],
      "text/plain": [
       "<IPython.core.display.HTML object>"
      ]
     },
     "metadata": {},
     "output_type": "display_data"
    },
    {
     "data": {
      "text/html": [],
      "text/plain": [
       "<IPython.core.display.HTML object>"
      ]
     },
     "metadata": {},
     "output_type": "display_data"
    },
    {
     "data": {
      "text/html": [],
      "text/plain": [
       "<IPython.core.display.HTML object>"
      ]
     },
     "metadata": {},
     "output_type": "display_data"
    },
    {
     "data": {
      "text/html": [],
      "text/plain": [
       "<IPython.core.display.HTML object>"
      ]
     },
     "metadata": {},
     "output_type": "display_data"
    },
    {
     "data": {
      "text/html": [],
      "text/plain": [
       "<IPython.core.display.HTML object>"
      ]
     },
     "metadata": {},
     "output_type": "display_data"
    },
    {
     "data": {
      "text/html": [],
      "text/plain": [
       "<IPython.core.display.HTML object>"
      ]
     },
     "metadata": {},
     "output_type": "display_data"
    },
    {
     "data": {
      "text/html": [],
      "text/plain": [
       "<IPython.core.display.HTML object>"
      ]
     },
     "metadata": {},
     "output_type": "display_data"
    },
    {
     "data": {
      "text/html": [],
      "text/plain": [
       "<IPython.core.display.HTML object>"
      ]
     },
     "metadata": {},
     "output_type": "display_data"
    },
    {
     "data": {
      "text/html": [],
      "text/plain": [
       "<IPython.core.display.HTML object>"
      ]
     },
     "metadata": {},
     "output_type": "display_data"
    }
   ],
   "source": [
    "for i, mushroom in enumerate(classes):\n",
    "    filename = classes[i]+'.csv'\n",
    "    path = mushroom_images/classes[i]/filename\n",
    "    dest = mushroom_images/classes[i]\n",
    "    download_images(path, dest, max_pics=2500)"
   ]
  },
  {
   "cell_type": "code",
   "execution_count": 72,
   "metadata": {
    "scrolled": true
   },
   "outputs": [
    {
     "data": {
      "text/html": [],
      "text/plain": [
       "<IPython.core.display.HTML object>"
      ]
     },
     "metadata": {},
     "output_type": "display_data"
    },
    {
     "name": "stdout",
     "output_type": "stream",
     "text": [
      "cannot identify image file <_io.BufferedReader name='/notebooks/course-v3/nbs/dl1/data/mushroom-images/Amanita-muscaria/00002064.jpg'>\n",
      "cannot identify image file <_io.BufferedReader name='/notebooks/course-v3/nbs/dl1/data/mushroom-images/Amanita-muscaria/00002034.jpg'>\n"
     ]
    },
    {
     "data": {
      "text/html": [],
      "text/plain": [
       "<IPython.core.display.HTML object>"
      ]
     },
     "metadata": {},
     "output_type": "display_data"
    },
    {
     "data": {
      "text/html": [],
      "text/plain": [
       "<IPython.core.display.HTML object>"
      ]
     },
     "metadata": {},
     "output_type": "display_data"
    },
    {
     "data": {
      "text/html": [],
      "text/plain": [
       "<IPython.core.display.HTML object>"
      ]
     },
     "metadata": {},
     "output_type": "display_data"
    },
    {
     "data": {
      "text/html": [],
      "text/plain": [
       "<IPython.core.display.HTML object>"
      ]
     },
     "metadata": {},
     "output_type": "display_data"
    },
    {
     "name": "stdout",
     "output_type": "stream",
     "text": [
      "cannot identify image file <_io.BufferedReader name='/notebooks/course-v3/nbs/dl1/data/mushroom-images/Coprinus-comatus/00000933.jpg'>\n"
     ]
    },
    {
     "data": {
      "text/html": [],
      "text/plain": [
       "<IPython.core.display.HTML object>"
      ]
     },
     "metadata": {},
     "output_type": "display_data"
    },
    {
     "data": {
      "text/html": [],
      "text/plain": [
       "<IPython.core.display.HTML object>"
      ]
     },
     "metadata": {},
     "output_type": "display_data"
    },
    {
     "data": {
      "text/html": [],
      "text/plain": [
       "<IPython.core.display.HTML object>"
      ]
     },
     "metadata": {},
     "output_type": "display_data"
    },
    {
     "name": "stdout",
     "output_type": "stream",
     "text": [
      "cannot identify image file <_io.BufferedReader name='/notebooks/course-v3/nbs/dl1/data/mushroom-images/Galerina-autumnalis/00001067.jpg'>\n"
     ]
    },
    {
     "data": {
      "text/html": [],
      "text/plain": [
       "<IPython.core.display.HTML object>"
      ]
     },
     "metadata": {},
     "output_type": "display_data"
    },
    {
     "data": {
      "text/html": [],
      "text/plain": [
       "<IPython.core.display.HTML object>"
      ]
     },
     "metadata": {},
     "output_type": "display_data"
    },
    {
     "data": {
      "text/html": [],
      "text/plain": [
       "<IPython.core.display.HTML object>"
      ]
     },
     "metadata": {},
     "output_type": "display_data"
    },
    {
     "data": {
      "text/html": [],
      "text/plain": [
       "<IPython.core.display.HTML object>"
      ]
     },
     "metadata": {},
     "output_type": "display_data"
    },
    {
     "data": {
      "text/html": [],
      "text/plain": [
       "<IPython.core.display.HTML object>"
      ]
     },
     "metadata": {},
     "output_type": "display_data"
    },
    {
     "data": {
      "text/html": [],
      "text/plain": [
       "<IPython.core.display.HTML object>"
      ]
     },
     "metadata": {},
     "output_type": "display_data"
    },
    {
     "data": {
      "text/html": [],
      "text/plain": [
       "<IPython.core.display.HTML object>"
      ]
     },
     "metadata": {},
     "output_type": "display_data"
    },
    {
     "data": {
      "text/html": [],
      "text/plain": [
       "<IPython.core.display.HTML object>"
      ]
     },
     "metadata": {},
     "output_type": "display_data"
    },
    {
     "data": {
      "text/html": [],
      "text/plain": [
       "<IPython.core.display.HTML object>"
      ]
     },
     "metadata": {},
     "output_type": "display_data"
    },
    {
     "data": {
      "text/html": [],
      "text/plain": [
       "<IPython.core.display.HTML object>"
      ]
     },
     "metadata": {},
     "output_type": "display_data"
    },
    {
     "data": {
      "text/html": [],
      "text/plain": [
       "<IPython.core.display.HTML object>"
      ]
     },
     "metadata": {},
     "output_type": "display_data"
    },
    {
     "data": {
      "text/html": [],
      "text/plain": [
       "<IPython.core.display.HTML object>"
      ]
     },
     "metadata": {},
     "output_type": "display_data"
    },
    {
     "name": "stdout",
     "output_type": "stream",
     "text": [
      "cannot identify image file <_io.BufferedReader name='/notebooks/course-v3/nbs/dl1/data/mushroom-images/Mycena-haematopus/00000541.jpg'>\n",
      "cannot identify image file <_io.BufferedReader name='/notebooks/course-v3/nbs/dl1/data/mushroom-images/Mycena-haematopus/00000542.jpg'>\n"
     ]
    },
    {
     "data": {
      "text/html": [],
      "text/plain": [
       "<IPython.core.display.HTML object>"
      ]
     },
     "metadata": {},
     "output_type": "display_data"
    },
    {
     "name": "stdout",
     "output_type": "stream",
     "text": [
      "cannot identify image file <_io.BufferedReader name='/notebooks/course-v3/nbs/dl1/data/mushroom-images/Trichaptum-biforme/00000786.jpg'>\n"
     ]
    },
    {
     "data": {
      "text/html": [],
      "text/plain": [
       "<IPython.core.display.HTML object>"
      ]
     },
     "metadata": {},
     "output_type": "display_data"
    },
    {
     "data": {
      "text/html": [],
      "text/plain": [
       "<IPython.core.display.HTML object>"
      ]
     },
     "metadata": {},
     "output_type": "display_data"
    },
    {
     "data": {
      "text/html": [],
      "text/plain": [
       "<IPython.core.display.HTML object>"
      ]
     },
     "metadata": {},
     "output_type": "display_data"
    },
    {
     "data": {
      "text/html": [],
      "text/plain": [
       "<IPython.core.display.HTML object>"
      ]
     },
     "metadata": {},
     "output_type": "display_data"
    },
    {
     "data": {
      "text/html": [],
      "text/plain": [
       "<IPython.core.display.HTML object>"
      ]
     },
     "metadata": {},
     "output_type": "display_data"
    },
    {
     "data": {
      "text/html": [],
      "text/plain": [
       "<IPython.core.display.HTML object>"
      ]
     },
     "metadata": {},
     "output_type": "display_data"
    },
    {
     "data": {
      "text/html": [],
      "text/plain": [
       "<IPython.core.display.HTML object>"
      ]
     },
     "metadata": {},
     "output_type": "display_data"
    },
    {
     "data": {
      "text/html": [],
      "text/plain": [
       "<IPython.core.display.HTML object>"
      ]
     },
     "metadata": {},
     "output_type": "display_data"
    },
    {
     "data": {
      "text/html": [],
      "text/plain": [
       "<IPython.core.display.HTML object>"
      ]
     },
     "metadata": {},
     "output_type": "display_data"
    },
    {
     "data": {
      "text/html": [],
      "text/plain": [
       "<IPython.core.display.HTML object>"
      ]
     },
     "metadata": {},
     "output_type": "display_data"
    },
    {
     "data": {
      "text/html": [],
      "text/plain": [
       "<IPython.core.display.HTML object>"
      ]
     },
     "metadata": {},
     "output_type": "display_data"
    },
    {
     "data": {
      "text/html": [],
      "text/plain": [
       "<IPython.core.display.HTML object>"
      ]
     },
     "metadata": {},
     "output_type": "display_data"
    },
    {
     "name": "stdout",
     "output_type": "stream",
     "text": [
      "cannot identify image file <_io.BufferedReader name='/notebooks/course-v3/nbs/dl1/data/mushroom-images/Fuligo-septica/00000603.jpg'>\n"
     ]
    },
    {
     "data": {
      "text/html": [],
      "text/plain": [
       "<IPython.core.display.HTML object>"
      ]
     },
     "metadata": {},
     "output_type": "display_data"
    },
    {
     "data": {
      "text/html": [],
      "text/plain": [
       "<IPython.core.display.HTML object>"
      ]
     },
     "metadata": {},
     "output_type": "display_data"
    },
    {
     "data": {
      "text/html": [],
      "text/plain": [
       "<IPython.core.display.HTML object>"
      ]
     },
     "metadata": {},
     "output_type": "display_data"
    },
    {
     "data": {
      "text/html": [],
      "text/plain": [
       "<IPython.core.display.HTML object>"
      ]
     },
     "metadata": {},
     "output_type": "display_data"
    },
    {
     "data": {
      "text/html": [],
      "text/plain": [
       "<IPython.core.display.HTML object>"
      ]
     },
     "metadata": {},
     "output_type": "display_data"
    },
    {
     "name": "stdout",
     "output_type": "stream",
     "text": [
      "cannot identify image file <_io.BufferedReader name='/notebooks/course-v3/nbs/dl1/data/mushroom-images/Clavicorona-pyxidata/00000275.jpg'>\n"
     ]
    },
    {
     "data": {
      "text/html": [],
      "text/plain": [
       "<IPython.core.display.HTML object>"
      ]
     },
     "metadata": {},
     "output_type": "display_data"
    },
    {
     "data": {
      "text/html": [],
      "text/plain": [
       "<IPython.core.display.HTML object>"
      ]
     },
     "metadata": {},
     "output_type": "display_data"
    },
    {
     "name": "stdout",
     "output_type": "stream",
     "text": [
      "cannot identify image file <_io.BufferedReader name='/notebooks/course-v3/nbs/dl1/data/mushroom-images/Armillaria-mellea/00000612.jpg'>\n"
     ]
    },
    {
     "data": {
      "text/html": [],
      "text/plain": [
       "<IPython.core.display.HTML object>"
      ]
     },
     "metadata": {},
     "output_type": "display_data"
    },
    {
     "data": {
      "text/html": [],
      "text/plain": [
       "<IPython.core.display.HTML object>"
      ]
     },
     "metadata": {},
     "output_type": "display_data"
    },
    {
     "data": {
      "text/html": [],
      "text/plain": [
       "<IPython.core.display.HTML object>"
      ]
     },
     "metadata": {},
     "output_type": "display_data"
    },
    {
     "data": {
      "text/html": [],
      "text/plain": [
       "<IPython.core.display.HTML object>"
      ]
     },
     "metadata": {},
     "output_type": "display_data"
    },
    {
     "data": {
      "text/html": [],
      "text/plain": [
       "<IPython.core.display.HTML object>"
      ]
     },
     "metadata": {},
     "output_type": "display_data"
    },
    {
     "data": {
      "text/html": [],
      "text/plain": [
       "<IPython.core.display.HTML object>"
      ]
     },
     "metadata": {},
     "output_type": "display_data"
    },
    {
     "data": {
      "text/html": [],
      "text/plain": [
       "<IPython.core.display.HTML object>"
      ]
     },
     "metadata": {},
     "output_type": "display_data"
    },
    {
     "data": {
      "text/html": [],
      "text/plain": [
       "<IPython.core.display.HTML object>"
      ]
     },
     "metadata": {},
     "output_type": "display_data"
    },
    {
     "data": {
      "text/html": [],
      "text/plain": [
       "<IPython.core.display.HTML object>"
      ]
     },
     "metadata": {},
     "output_type": "display_data"
    },
    {
     "data": {
      "text/html": [],
      "text/plain": [
       "<IPython.core.display.HTML object>"
      ]
     },
     "metadata": {},
     "output_type": "display_data"
    },
    {
     "data": {
      "text/html": [],
      "text/plain": [
       "<IPython.core.display.HTML object>"
      ]
     },
     "metadata": {},
     "output_type": "display_data"
    },
    {
     "data": {
      "text/html": [],
      "text/plain": [
       "<IPython.core.display.HTML object>"
      ]
     },
     "metadata": {},
     "output_type": "display_data"
    },
    {
     "data": {
      "text/html": [],
      "text/plain": [
       "<IPython.core.display.HTML object>"
      ]
     },
     "metadata": {},
     "output_type": "display_data"
    },
    {
     "data": {
      "text/html": [],
      "text/plain": [
       "<IPython.core.display.HTML object>"
      ]
     },
     "metadata": {},
     "output_type": "display_data"
    },
    {
     "data": {
      "text/html": [],
      "text/plain": [
       "<IPython.core.display.HTML object>"
      ]
     },
     "metadata": {},
     "output_type": "display_data"
    },
    {
     "data": {
      "text/html": [],
      "text/plain": [
       "<IPython.core.display.HTML object>"
      ]
     },
     "metadata": {},
     "output_type": "display_data"
    },
    {
     "name": "stdout",
     "output_type": "stream",
     "text": [
      "cannot identify image file <_io.BufferedReader name='/notebooks/course-v3/nbs/dl1/data/mushroom-images/Hypholoma-lateritium/00000447.jpg'>\n"
     ]
    },
    {
     "data": {
      "text/html": [],
      "text/plain": [
       "<IPython.core.display.HTML object>"
      ]
     },
     "metadata": {},
     "output_type": "display_data"
    },
    {
     "data": {
      "text/html": [],
      "text/plain": [
       "<IPython.core.display.HTML object>"
      ]
     },
     "metadata": {},
     "output_type": "display_data"
    },
    {
     "data": {
      "text/html": [],
      "text/plain": [
       "<IPython.core.display.HTML object>"
      ]
     },
     "metadata": {},
     "output_type": "display_data"
    },
    {
     "data": {
      "text/html": [],
      "text/plain": [
       "<IPython.core.display.HTML object>"
      ]
     },
     "metadata": {},
     "output_type": "display_data"
    },
    {
     "data": {
      "text/html": [],
      "text/plain": [
       "<IPython.core.display.HTML object>"
      ]
     },
     "metadata": {},
     "output_type": "display_data"
    },
    {
     "data": {
      "text/html": [],
      "text/plain": [
       "<IPython.core.display.HTML object>"
      ]
     },
     "metadata": {},
     "output_type": "display_data"
    },
    {
     "data": {
      "text/html": [],
      "text/plain": [
       "<IPython.core.display.HTML object>"
      ]
     },
     "metadata": {},
     "output_type": "display_data"
    },
    {
     "data": {
      "text/html": [],
      "text/plain": [
       "<IPython.core.display.HTML object>"
      ]
     },
     "metadata": {},
     "output_type": "display_data"
    },
    {
     "data": {
      "text/html": [],
      "text/plain": [
       "<IPython.core.display.HTML object>"
      ]
     },
     "metadata": {},
     "output_type": "display_data"
    },
    {
     "data": {
      "text/html": [],
      "text/plain": [
       "<IPython.core.display.HTML object>"
      ]
     },
     "metadata": {},
     "output_type": "display_data"
    },
    {
     "data": {
      "text/html": [],
      "text/plain": [
       "<IPython.core.display.HTML object>"
      ]
     },
     "metadata": {},
     "output_type": "display_data"
    },
    {
     "data": {
      "text/html": [],
      "text/plain": [
       "<IPython.core.display.HTML object>"
      ]
     },
     "metadata": {},
     "output_type": "display_data"
    },
    {
     "name": "stdout",
     "output_type": "stream",
     "text": [
      "cannot identify image file <_io.BufferedReader name='/notebooks/course-v3/nbs/dl1/data/mushroom-images/Boletus-ornatipes/00000415.jpg'>\n"
     ]
    },
    {
     "data": {
      "text/html": [],
      "text/plain": [
       "<IPython.core.display.HTML object>"
      ]
     },
     "metadata": {},
     "output_type": "display_data"
    },
    {
     "data": {
      "text/html": [],
      "text/plain": [
       "<IPython.core.display.HTML object>"
      ]
     },
     "metadata": {},
     "output_type": "display_data"
    },
    {
     "data": {
      "text/html": [],
      "text/plain": [
       "<IPython.core.display.HTML object>"
      ]
     },
     "metadata": {},
     "output_type": "display_data"
    },
    {
     "data": {
      "text/html": [],
      "text/plain": [
       "<IPython.core.display.HTML object>"
      ]
     },
     "metadata": {},
     "output_type": "display_data"
    },
    {
     "data": {
      "text/html": [],
      "text/plain": [
       "<IPython.core.display.HTML object>"
      ]
     },
     "metadata": {},
     "output_type": "display_data"
    },
    {
     "data": {
      "text/html": [],
      "text/plain": [
       "<IPython.core.display.HTML object>"
      ]
     },
     "metadata": {},
     "output_type": "display_data"
    },
    {
     "data": {
      "text/html": [],
      "text/plain": [
       "<IPython.core.display.HTML object>"
      ]
     },
     "metadata": {},
     "output_type": "display_data"
    },
    {
     "name": "stdout",
     "output_type": "stream",
     "text": [
      "cannot identify image file <_io.BufferedReader name='/notebooks/course-v3/nbs/dl1/data/mushroom-images/Laccaria-ochropurpurea/00000436.jpg'>\n"
     ]
    },
    {
     "data": {
      "text/html": [],
      "text/plain": [
       "<IPython.core.display.HTML object>"
      ]
     },
     "metadata": {},
     "output_type": "display_data"
    },
    {
     "data": {
      "text/html": [],
      "text/plain": [
       "<IPython.core.display.HTML object>"
      ]
     },
     "metadata": {},
     "output_type": "display_data"
    },
    {
     "data": {
      "text/html": [],
      "text/plain": [
       "<IPython.core.display.HTML object>"
      ]
     },
     "metadata": {},
     "output_type": "display_data"
    },
    {
     "data": {
      "text/html": [],
      "text/plain": [
       "<IPython.core.display.HTML object>"
      ]
     },
     "metadata": {},
     "output_type": "display_data"
    },
    {
     "data": {
      "text/html": [],
      "text/plain": [
       "<IPython.core.display.HTML object>"
      ]
     },
     "metadata": {},
     "output_type": "display_data"
    },
    {
     "data": {
      "text/html": [],
      "text/plain": [
       "<IPython.core.display.HTML object>"
      ]
     },
     "metadata": {},
     "output_type": "display_data"
    },
    {
     "data": {
      "text/html": [],
      "text/plain": [
       "<IPython.core.display.HTML object>"
      ]
     },
     "metadata": {},
     "output_type": "display_data"
    },
    {
     "data": {
      "text/html": [],
      "text/plain": [
       "<IPython.core.display.HTML object>"
      ]
     },
     "metadata": {},
     "output_type": "display_data"
    },
    {
     "data": {
      "text/html": [],
      "text/plain": [
       "<IPython.core.display.HTML object>"
      ]
     },
     "metadata": {},
     "output_type": "display_data"
    },
    {
     "data": {
      "text/html": [],
      "text/plain": [
       "<IPython.core.display.HTML object>"
      ]
     },
     "metadata": {},
     "output_type": "display_data"
    },
    {
     "data": {
      "text/html": [],
      "text/plain": [
       "<IPython.core.display.HTML object>"
      ]
     },
     "metadata": {},
     "output_type": "display_data"
    },
    {
     "data": {
      "text/html": [],
      "text/plain": [
       "<IPython.core.display.HTML object>"
      ]
     },
     "metadata": {},
     "output_type": "display_data"
    },
    {
     "data": {
      "text/html": [],
      "text/plain": [
       "<IPython.core.display.HTML object>"
      ]
     },
     "metadata": {},
     "output_type": "display_data"
    },
    {
     "data": {
      "text/html": [],
      "text/plain": [
       "<IPython.core.display.HTML object>"
      ]
     },
     "metadata": {},
     "output_type": "display_data"
    },
    {
     "data": {
      "text/html": [],
      "text/plain": [
       "<IPython.core.display.HTML object>"
      ]
     },
     "metadata": {},
     "output_type": "display_data"
    },
    {
     "data": {
      "text/html": [],
      "text/plain": [
       "<IPython.core.display.HTML object>"
      ]
     },
     "metadata": {},
     "output_type": "display_data"
    },
    {
     "data": {
      "text/html": [],
      "text/plain": [
       "<IPython.core.display.HTML object>"
      ]
     },
     "metadata": {},
     "output_type": "display_data"
    },
    {
     "data": {
      "text/html": [],
      "text/plain": [
       "<IPython.core.display.HTML object>"
      ]
     },
     "metadata": {},
     "output_type": "display_data"
    },
    {
     "data": {
      "text/html": [],
      "text/plain": [
       "<IPython.core.display.HTML object>"
      ]
     },
     "metadata": {},
     "output_type": "display_data"
    },
    {
     "data": {
      "text/html": [],
      "text/plain": [
       "<IPython.core.display.HTML object>"
      ]
     },
     "metadata": {},
     "output_type": "display_data"
    },
    {
     "data": {
      "text/html": [],
      "text/plain": [
       "<IPython.core.display.HTML object>"
      ]
     },
     "metadata": {},
     "output_type": "display_data"
    },
    {
     "data": {
      "text/html": [],
      "text/plain": [
       "<IPython.core.display.HTML object>"
      ]
     },
     "metadata": {},
     "output_type": "display_data"
    },
    {
     "data": {
      "text/html": [],
      "text/plain": [
       "<IPython.core.display.HTML object>"
      ]
     },
     "metadata": {},
     "output_type": "display_data"
    },
    {
     "data": {
      "text/html": [],
      "text/plain": [
       "<IPython.core.display.HTML object>"
      ]
     },
     "metadata": {},
     "output_type": "display_data"
    },
    {
     "data": {
      "text/html": [],
      "text/plain": [
       "<IPython.core.display.HTML object>"
      ]
     },
     "metadata": {},
     "output_type": "display_data"
    }
   ],
   "source": [
    "for i, mushroom in enumerate(classes):\n",
    "    path = mushroom_images/classes[i]\n",
    "    verify_images(path, delete=True) "
   ]
  },
  {
   "cell_type": "markdown",
   "metadata": {},
   "source": [
    "I noticed whilst visualising the data batch below that one of the top 100 taxon-id's collected was linked to a species called 'mixed-collection'. I'm going to remove this folder before continuing as it will likely contribute to error in the model. "
   ]
  },
  {
   "cell_type": "code",
   "execution_count": 73,
   "metadata": {},
   "outputs": [],
   "source": [
    "rm = Path('Mixed-collection')\n",
    "shutil.rmtree(mushroom_images/rm)"
   ]
  },
  {
   "cell_type": "code",
   "execution_count": 5,
   "metadata": {},
   "outputs": [],
   "source": [
    "np.random.seed(42)\n",
    "data = ImageDataBunch.from_folder(mushroom_images, train=\".\", valid_pct=0.2,\n",
    "        ds_tfms=get_transforms(), size=224, num_workers=4).normalize(imagenet_stats)"
   ]
  },
  {
   "cell_type": "code",
   "execution_count": 6,
   "metadata": {
    "scrolled": false
   },
   "outputs": [
    {
     "name": "stdout",
     "output_type": "stream",
     "text": [
      "['Agaricus-augustus', 'Agaricus-xanthodermus', 'Aleuria-aurantia', 'Amanita-amerirubescens', 'Amanita-augusta', 'Amanita-brunnescens', 'Amanita-calyptroderma', 'Amanita-flavoconia', 'Amanita-muscaria', 'Amanita-phalloides', 'Amanita-velosa', 'Armillaria-mellea', 'Armillaria-tabescens', 'Auriscalpium-vulgare', 'Bolbitius-vitellinus', 'Boletus-edulis', 'Boletus-ornatipes', 'Cantharellus-cinnabarinus', 'Cantharellus-formosus', 'Cantharellus-lateritius', 'Ceratiomyxa-fruticulosa', 'Chlorophyllum-molybdites', 'Clavicorona-pyxidata', 'Coprinellus-micaceus', 'Coprinus-comatus', 'Crucibulum-laeve', 'Cryptoporus-volvatus', 'Daedaleopsis-confragosa', 'Entoloma-abortivum', 'Flammulina-velutipes', 'Fomitopsis-mounceae', 'Fomitopsis-pinicola', 'Fuligo-septica', 'Galerina-autumnalis', 'Ganoderma-applanatum', 'Ganoderma-oregonense', 'Ganoderma-tsugae', 'Gloeophyllum-saepiarium', 'Gomphus-floccosus', 'Grifola-frondosa', 'Hericium-erinaceus', 'Hericium-ramosum', 'Hygrocybe-psittacina', 'Hygrophoropsis-aurantiaca', 'Hypholoma-fasciculare', 'Hypholoma-lateritium', 'Hypomyces-lactifluorum', 'Ischnoderma-resinosum', 'Laccaria-amethysteo-occidentalis', 'Laccaria-ochropurpurea', 'Lacrymaria-lacrymabunda', 'Lactarius-indigo', 'Lactarius-rubidus', 'Lactarius-volemus', 'Laetiporus-sulphureus', 'Lenzites-betulina', 'Leotia-viscosa', 'Lepista-nuda', 'Leratiomyces-ceres', 'Lycogala-epidendrum', 'Lycoperdon-perlatum', 'Lycoperdon-pyriforme', 'Megacollybia-rodmani', 'Mycena-haematopus', 'Mycena-leaiana', 'Mycena-pura', 'Omphalotus-illudens', 'Omphalotus-olivascens', 'Panaeolus-foenisecii', 'Panellus-serotinus', 'Panellus-stipticus', 'Phaeolus-schweinitzii', 'Phlebia-tremellosa', 'Phyllotopsis-nidulans', 'Pleurotus-ostreatus', 'Pluteus-cervinus', 'Polyporus-alveolaris', 'Polyporus-badius', 'Polyporus-squamosus', 'Psathyrella-candolleana', 'Pseudohydnum-gelatinosum', 'Psilocybe-allenii', 'Psilocybe-cubensis', 'Psilocybe-cyanescens', 'Psilocybe-ovoideocystidiata', 'Schizophyllum-commune', 'Scleroderma-citrinum', 'Stereum-hirsutum', 'Stereum-ostrea', 'Stropharia-ambigua', 'Suillus-luteus', 'Suillus-pictus', 'Tapinella-atrotomentosa', 'Trametes-versicolor', 'Trichaptum-biforme', 'Tricholoma-murrillianum', 'Tricholomopsis-rutilans', 'Tubaria-furfuracea', 'Tylopilus-felleus']\n"
     ]
    }
   ],
   "source": [
    "print(data.classes)"
   ]
  },
  {
   "cell_type": "code",
   "execution_count": 7,
   "metadata": {},
   "outputs": [
    {
     "data": {
      "image/png": "[encoded data removed]",
      "text/plain": [
       "<Figure size 504x576 with 9 Axes>"
      ]
     },
     "metadata": {
      "needs_background": "light"
     },
     "output_type": "display_data"
    }
   ],
   "source": [
    "data.show_batch(rows=3, figsize=(7,8))"
   ]
  },
  {
   "cell_type": "code",
   "execution_count": 8,
   "metadata": {},
   "outputs": [
    {
     "data": {
      "text/plain": [
       "(51384, 12846)"
      ]
     },
     "execution_count": 8,
     "metadata": {},
     "output_type": "execute_result"
    }
   ],
   "source": [
    "len(data.train_ds), len(data.valid_ds)"
   ]
  },
  {
   "cell_type": "markdown",
   "metadata": {},
   "source": [
    "## Training the Model"
   ]
  },
  {
   "cell_type": "markdown",
   "metadata": {},
   "source": [
    "Using Resnet34:"
   ]
  },
  {
   "cell_type": "code",
   "execution_count": 9,
   "metadata": {},
   "outputs": [],
   "source": [
    "learn = cnn_learner(data, models.resnet34, metrics=error_rate)"
   ]
  },
  {
   "cell_type": "code",
   "execution_count": 10,
   "metadata": {},
   "outputs": [
    {
     "data": {
      "text/html": [
       "<table border=\"1\" class=\"dataframe\">\n",
       "  <thead>\n",
       "    <tr style=\"text-align: left;\">\n",
       "      <th>epoch</th>\n",
       "      <th>train_loss</th>\n",
       "      <th>valid_loss</th>\n",
       "      <th>error_rate</th>\n",
       "      <th>time</th>\n",
       "    </tr>\n",
       "  </thead>\n",
       "  <tbody>\n",
       "    <tr>\n",
       "      <td>0</td>\n",
       "      <td>2.441111</td>\n",
       "      <td>1.909422</td>\n",
       "      <td>0.503503</td>\n",
       "      <td>03:42</td>\n",
       "    </tr>\n",
       "    <tr>\n",
       "      <td>1</td>\n",
       "      <td>1.988769</td>\n",
       "      <td>1.530492</td>\n",
       "      <td>0.413358</td>\n",
       "      <td>03:20</td>\n",
       "    </tr>\n",
       "    <tr>\n",
       "      <td>2</td>\n",
       "      <td>1.704216</td>\n",
       "      <td>1.353809</td>\n",
       "      <td>0.364471</td>\n",
       "      <td>03:19</td>\n",
       "    </tr>\n",
       "    <tr>\n",
       "      <td>3</td>\n",
       "      <td>1.543957</td>\n",
       "      <td>1.302788</td>\n",
       "      <td>0.350771</td>\n",
       "      <td>03:20</td>\n",
       "    </tr>\n",
       "  </tbody>\n",
       "</table>"
      ],
      "text/plain": [
       "<IPython.core.display.HTML object>"
      ]
     },
     "metadata": {},
     "output_type": "display_data"
    }
   ],
   "source": [
    "learn.fit_one_cycle(4)"
   ]
  },
  {
   "cell_type": "code",
   "execution_count": 11,
   "metadata": {},
   "outputs": [],
   "source": [
    "learn.save('stage-1')"
   ]
  },
  {
   "cell_type": "code",
   "execution_count": 12,
   "metadata": {},
   "outputs": [],
   "source": [
    "learn.unfreeze()"
   ]
  },
  {
   "cell_type": "code",
   "execution_count": 13,
   "metadata": {},
   "outputs": [
    {
     "data": {
      "text/html": [
       "\n",
       "    <div>\n",
       "        <style>\n",
       "            /* Turns off some styling */\n",
       "            progress {\n",
       "                /* gets rid of default border in Firefox and Opera. */\n",
       "                border: none;\n",
       "                /* Needs to be in here for Safari polyfill so background images work as expected. */\n",
       "                background-size: auto;\n",
       "            }\n",
       "            .progress-bar-interrupted, .progress-bar-interrupted::-webkit-progress-bar {\n",
       "                background: #F44336;\n",
       "            }\n",
       "        </style>\n",
       "      <progress value='0' class='' max='1', style='width:300px; height:20px; vertical-align: middle;'></progress>\n",
       "      0.00% [0/1 00:00<00:00]\n",
       "    </div>\n",
       "    \n",
       "<table border=\"1\" class=\"dataframe\">\n",
       "  <thead>\n",
       "    <tr style=\"text-align: left;\">\n",
       "      <th>epoch</th>\n",
       "      <th>train_loss</th>\n",
       "      <th>valid_loss</th>\n",
       "      <th>error_rate</th>\n",
       "      <th>time</th>\n",
       "    </tr>\n",
       "  </thead>\n",
       "  <tbody>\n",
       "  </tbody>\n",
       "</table><p>\n",
       "\n",
       "    <div>\n",
       "        <style>\n",
       "            /* Turns off some styling */\n",
       "            progress {\n",
       "                /* gets rid of default border in Firefox and Opera. */\n",
       "                border: none;\n",
       "                /* Needs to be in here for Safari polyfill so background images work as expected. */\n",
       "                background-size: auto;\n",
       "            }\n",
       "            .progress-bar-interrupted, .progress-bar-interrupted::-webkit-progress-bar {\n",
       "                background: #F44336;\n",
       "            }\n",
       "        </style>\n",
       "      <progress value='85' class='' max='802', style='width:300px; height:20px; vertical-align: middle;'></progress>\n",
       "      10.60% [85/802 00:20<02:56 5.1189]\n",
       "    </div>\n",
       "    "
      ],
      "text/plain": [
       "<IPython.core.display.HTML object>"
      ]
     },
     "metadata": {},
     "output_type": "display_data"
    },
    {
     "name": "stdout",
     "output_type": "stream",
     "text": [
      "LR Finder is complete, type {learner_name}.recorder.plot() to see the graph.\n"
     ]
    }
   ],
   "source": [
    "learn.lr_find()"
   ]
  },
  {
   "cell_type": "code",
   "execution_count": 14,
   "metadata": {},
   "outputs": [
    {
     "data": {
      "image/png": "[encoded data removed]",
      "text/plain": [
       "<Figure size 432x288 with 1 Axes>"
      ]
     },
     "metadata": {
      "needs_background": "light"
     },
     "output_type": "display_data"
    }
   ],
   "source": [
    "learn.recorder.plot()"
   ]
  },
  {
   "cell_type": "code",
   "execution_count": 15,
   "metadata": {},
   "outputs": [
    {
     "data": {
      "text/html": [
       "<table border=\"1\" class=\"dataframe\">\n",
       "  <thead>\n",
       "    <tr style=\"text-align: left;\">\n",
       "      <th>epoch</th>\n",
       "      <th>train_loss</th>\n",
       "      <th>valid_loss</th>\n",
       "      <th>error_rate</th>\n",
       "      <th>time</th>\n",
       "    </tr>\n",
       "  </thead>\n",
       "  <tbody>\n",
       "    <tr>\n",
       "      <td>0</td>\n",
       "      <td>1.437149</td>\n",
       "      <td>1.217010</td>\n",
       "      <td>0.330842</td>\n",
       "      <td>03:35</td>\n",
       "    </tr>\n",
       "    <tr>\n",
       "      <td>1</td>\n",
       "      <td>1.351093</td>\n",
       "      <td>1.182378</td>\n",
       "      <td>0.320489</td>\n",
       "      <td>03:37</td>\n",
       "    </tr>\n",
       "  </tbody>\n",
       "</table>"
      ],
      "text/plain": [
       "<IPython.core.display.HTML object>"
      ]
     },
     "metadata": {},
     "output_type": "display_data"
    }
   ],
   "source": [
    "learn.fit_one_cycle(2, max_lr=slice(3e-6, 3e-5))"
   ]
  },
  {
   "cell_type": "code",
   "execution_count": 16,
   "metadata": {},
   "outputs": [],
   "source": [
    "learn.save('stage-2')"
   ]
  },
  {
   "cell_type": "code",
   "execution_count": 17,
   "metadata": {},
   "outputs": [],
   "source": [
    "learn.load('stage-2');"
   ]
  },
  {
   "cell_type": "code",
   "execution_count": 18,
   "metadata": {},
   "outputs": [
    {
     "data": {
      "text/html": [],
      "text/plain": [
       "<IPython.core.display.HTML object>"
      ]
     },
     "metadata": {},
     "output_type": "display_data"
    }
   ],
   "source": [
    "interp = ClassificationInterpretation.from_learner(learn)"
   ]
  },
  {
   "cell_type": "code",
   "execution_count": 19,
   "metadata": {},
   "outputs": [
    {
     "data": {
      "text/plain": [
       "True"
      ]
     },
     "execution_count": 19,
     "metadata": {},
     "output_type": "execute_result"
    }
   ],
   "source": [
    "losses,idxs = interp.top_losses()\n",
    "\n",
    "len(data.valid_ds)==len(losses)==len(idxs)"
   ]
  },
  {
   "cell_type": "markdown",
   "metadata": {},
   "source": [
    "Now we can see which species were most frequently mistaken:"
   ]
  },
  {
   "cell_type": "code",
   "execution_count": 20,
   "metadata": {},
   "outputs": [
    {
     "data": {
      "text/plain": [
       "[('Psilocybe-ovoideocystidiata', 'Psilocybe-cyanescens', 31),\n",
       " ('Psilocybe-cyanescens', 'Psilocybe-ovoideocystidiata', 30),\n",
       " ('Psilocybe-allenii', 'Psilocybe-ovoideocystidiata', 29),\n",
       " ('Fomitopsis-pinicola', 'Fomitopsis-mounceae', 23),\n",
       " ('Psilocybe-allenii', 'Psilocybe-cyanescens', 21),\n",
       " ('Lenzites-betulina', 'Trametes-versicolor', 20),\n",
       " ('Trichaptum-biforme', 'Trametes-versicolor', 19),\n",
       " ('Psilocybe-cyanescens', 'Psilocybe-allenii', 18),\n",
       " ('Fomitopsis-mounceae', 'Ganoderma-applanatum', 17),\n",
       " ('Amanita-muscaria', 'Chlorophyllum-molybdites', 16),\n",
       " ('Armillaria-mellea', 'Armillaria-tabescens', 15),\n",
       " ('Fomitopsis-mounceae', 'Fomitopsis-pinicola', 15),\n",
       " ('Ganoderma-tsugae', 'Ganoderma-applanatum', 15),\n",
       " ('Lycoperdon-pyriforme', 'Lycoperdon-perlatum', 15),\n",
       " ('Psathyrella-candolleana', 'Psilocybe-ovoideocystidiata', 15),\n",
       " ('Amanita-augusta', 'Amanita-muscaria', 14),\n",
       " ('Ganoderma-oregonense', 'Ganoderma-tsugae', 14),\n",
       " ('Trametes-versicolor', 'Trichaptum-biforme', 14),\n",
       " ('Flammulina-velutipes', 'Galerina-autumnalis', 13),\n",
       " ('Trichaptum-biforme', 'Lenzites-betulina', 13),\n",
       " ('Amanita-calyptroderma', 'Amanita-phalloides', 12),\n",
       " ('Panaeolus-foenisecii', 'Psilocybe-ovoideocystidiata', 12),\n",
       " ('Pleurotus-ostreatus', 'Panellus-serotinus', 12),\n",
       " ('Stereum-ostrea', 'Trametes-versicolor', 12),\n",
       " ('Trametes-versicolor', 'Lenzites-betulina', 12),\n",
       " ('Tubaria-furfuracea', 'Psilocybe-cyanescens', 12),\n",
       " ('Agaricus-xanthodermus', 'Lepista-nuda', 11),\n",
       " ('Boletus-edulis', 'Tylopilus-felleus', 11),\n",
       " ('Galerina-autumnalis', 'Psilocybe-ovoideocystidiata', 11),\n",
       " ('Tubaria-furfuracea', 'Psilocybe-ovoideocystidiata', 11),\n",
       " ('Amanita-flavoconia', 'Amanita-muscaria', 10),\n",
       " ('Chlorophyllum-molybdites', 'Agaricus-xanthodermus', 10),\n",
       " ('Ganoderma-oregonense', 'Ganoderma-applanatum', 10),\n",
       " ('Hypholoma-lateritium', 'Hypholoma-fasciculare', 10),\n",
       " ('Mycena-pura', 'Mycena-haematopus', 10),\n",
       " ('Agaricus-xanthodermus', 'Amanita-phalloides', 9),\n",
       " ('Amanita-amerirubescens', 'Agaricus-augustus', 9),\n",
       " ('Flammulina-velutipes', 'Mycena-leaiana', 9),\n",
       " ('Ganoderma-applanatum', 'Ganoderma-oregonense', 9),\n",
       " ('Ischnoderma-resinosum', 'Trametes-versicolor', 9),\n",
       " ('Megacollybia-rodmani', 'Pluteus-cervinus', 9),\n",
       " ('Psilocybe-ovoideocystidiata', 'Panaeolus-foenisecii', 9),\n",
       " ('Amanita-muscaria', 'Agaricus-augustus', 8),\n",
       " ('Amanita-phalloides', 'Amanita-brunnescens', 8),\n",
       " ('Amanita-phalloides', 'Chlorophyllum-molybdites', 8),\n",
       " ('Coprinus-comatus', 'Chlorophyllum-molybdites', 8),\n",
       " ('Daedaleopsis-confragosa', 'Lenzites-betulina', 8),\n",
       " ('Fomitopsis-pinicola', 'Ganoderma-applanatum', 8),\n",
       " ('Ganoderma-tsugae', 'Ganoderma-oregonense', 8),\n",
       " ('Laccaria-ochropurpurea', 'Lepista-nuda', 8),\n",
       " ('Lacrymaria-lacrymabunda', 'Psilocybe-ovoideocystidiata', 8),\n",
       " ('Panellus-serotinus', 'Pleurotus-ostreatus', 8),\n",
       " ('Phyllotopsis-nidulans', 'Panellus-stipticus', 8),\n",
       " ('Pleurotus-ostreatus', 'Lepista-nuda', 8),\n",
       " ('Pluteus-cervinus', 'Psilocybe-ovoideocystidiata', 8),\n",
       " ('Psilocybe-cubensis', 'Psilocybe-ovoideocystidiata', 8),\n",
       " ('Psilocybe-cyanescens', 'Galerina-autumnalis', 8),\n",
       " ('Schizophyllum-commune', 'Panellus-stipticus', 8),\n",
       " ('Stereum-hirsutum', 'Trametes-versicolor', 8),\n",
       " ('Suillus-luteus', 'Boletus-edulis', 8),\n",
       " ('Amanita-amerirubescens', 'Amanita-brunnescens', 7),\n",
       " ('Amanita-muscaria', 'Amanita-flavoconia', 7),\n",
       " ('Armillaria-tabescens', 'Armillaria-mellea', 7),\n",
       " ('Daedaleopsis-confragosa', 'Trametes-versicolor', 7),\n",
       " ('Fomitopsis-pinicola', 'Ganoderma-tsugae', 7),\n",
       " ('Gloeophyllum-saepiarium', 'Phaeolus-schweinitzii', 7),\n",
       " ('Mycena-pura', 'Lepista-nuda', 7),\n",
       " ('Omphalotus-illudens', 'Cantharellus-lateritius', 7),\n",
       " ('Phaeolus-schweinitzii', 'Trichaptum-biforme', 7),\n",
       " ('Psilocybe-allenii', 'Galerina-autumnalis', 7),\n",
       " ('Psilocybe-cubensis', 'Lacrymaria-lacrymabunda', 7),\n",
       " ('Psilocybe-ovoideocystidiata', 'Psilocybe-cubensis', 7),\n",
       " ('Stereum-hirsutum', 'Trichaptum-biforme', 7),\n",
       " ('Trametes-versicolor', 'Phaeolus-schweinitzii', 7),\n",
       " ('Tubaria-furfuracea', 'Galerina-autumnalis', 7),\n",
       " ('Tylopilus-felleus', 'Boletus-edulis', 7),\n",
       " ('Agaricus-augustus', 'Amanita-muscaria', 6),\n",
       " ('Amanita-augusta', 'Amanita-phalloides', 6),\n",
       " ('Amanita-muscaria', 'Coprinus-comatus', 6),\n",
       " ('Amanita-velosa', 'Amanita-muscaria', 6),\n",
       " ('Amanita-velosa', 'Amanita-phalloides', 6),\n",
       " ('Ceratiomyxa-fruticulosa', 'Schizophyllum-commune', 6),\n",
       " ('Chlorophyllum-molybdites', 'Psilocybe-ovoideocystidiata', 6),\n",
       " ('Coprinellus-micaceus', 'Lacrymaria-lacrymabunda', 6),\n",
       " ('Flammulina-velutipes', 'Psilocybe-ovoideocystidiata', 6),\n",
       " ('Ganoderma-applanatum', 'Phaeolus-schweinitzii', 6),\n",
       " ('Gomphus-floccosus', 'Polyporus-squamosus', 6),\n",
       " ('Hypholoma-fasciculare', 'Armillaria-mellea', 6),\n",
       " ('Hypomyces-lactifluorum', 'Gomphus-floccosus', 6),\n",
       " ('Ischnoderma-resinosum', 'Pleurotus-ostreatus', 6),\n",
       " ('Mycena-pura', 'Panaeolus-foenisecii', 6),\n",
       " ('Omphalotus-illudens', 'Laetiporus-sulphureus', 6),\n",
       " ('Phaeolus-schweinitzii', 'Ganoderma-applanatum', 6),\n",
       " ('Pleurotus-ostreatus', 'Grifola-frondosa', 6),\n",
       " ('Pluteus-cervinus', 'Psilocybe-allenii', 6),\n",
       " ('Psathyrella-candolleana', 'Pluteus-cervinus', 6),\n",
       " ('Psilocybe-ovoideocystidiata', 'Psilocybe-allenii', 6),\n",
       " ('Stereum-hirsutum', 'Phaeolus-schweinitzii', 6),\n",
       " ('Stereum-ostrea', 'Trichaptum-biforme', 6),\n",
       " ('Trichaptum-biforme', 'Daedaleopsis-confragosa', 6),\n",
       " ('Agaricus-xanthodermus', 'Agaricus-augustus', 5),\n",
       " ('Agaricus-xanthodermus', 'Chlorophyllum-molybdites', 5),\n",
       " ('Agaricus-xanthodermus', 'Coprinus-comatus', 5),\n",
       " ('Amanita-brunnescens', 'Amanita-phalloides', 5),\n",
       " ('Amanita-brunnescens', 'Megacollybia-rodmani', 5),\n",
       " ('Amanita-muscaria', 'Amanita-phalloides', 5),\n",
       " ('Armillaria-mellea', 'Pleurotus-ostreatus', 5),\n",
       " ('Bolbitius-vitellinus', 'Panaeolus-foenisecii', 5),\n",
       " ('Boletus-edulis', 'Ganoderma-oregonense', 5),\n",
       " ('Boletus-ornatipes', 'Tylopilus-felleus', 5),\n",
       " ('Cantharellus-formosus', 'Cantharellus-lateritius', 5),\n",
       " ('Cantharellus-lateritius', 'Cantharellus-formosus', 5),\n",
       " ('Coprinus-comatus', 'Tricholoma-murrillianum', 5),\n",
       " ('Flammulina-velutipes', 'Hypholoma-lateritium', 5),\n",
       " ('Galerina-autumnalis', 'Lactarius-rubidus', 5),\n",
       " ('Ganoderma-applanatum', 'Trametes-versicolor', 5),\n",
       " ('Ganoderma-tsugae', 'Hypomyces-lactifluorum', 5),\n",
       " ('Ganoderma-tsugae', 'Polyporus-squamosus', 5),\n",
       " ('Gomphus-floccosus', 'Hypomyces-lactifluorum', 5),\n",
       " ('Hygrophoropsis-aurantiaca', 'Galerina-autumnalis', 5),\n",
       " ('Hypholoma-fasciculare', 'Psathyrella-candolleana', 5),\n",
       " ('Hypholoma-fasciculare', 'Psilocybe-cyanescens', 5),\n",
       " ('Laccaria-amethysteo-occidentalis', 'Laccaria-ochropurpurea', 5),\n",
       " ('Laccaria-ochropurpurea', 'Laccaria-amethysteo-occidentalis', 5),\n",
       " ('Laccaria-ochropurpurea', 'Tylopilus-felleus', 5),\n",
       " ('Lacrymaria-lacrymabunda', 'Panaeolus-foenisecii', 5),\n",
       " ('Lacrymaria-lacrymabunda', 'Tylopilus-felleus', 5),\n",
       " ('Lactarius-volemus', 'Tapinella-atrotomentosa', 5),\n",
       " ('Lenzites-betulina', 'Daedaleopsis-confragosa', 5),\n",
       " ('Lenzites-betulina', 'Panellus-stipticus', 5),\n",
       " ('Lepista-nuda', 'Psilocybe-ovoideocystidiata', 5),\n",
       " ('Leratiomyces-ceres', 'Psilocybe-cyanescens', 5),\n",
       " ('Lycoperdon-perlatum', 'Lycoperdon-pyriforme', 5),\n",
       " ('Lycoperdon-pyriforme', 'Psilocybe-ovoideocystidiata', 5),\n",
       " ('Megacollybia-rodmani', 'Amanita-brunnescens', 5),\n",
       " ('Phyllotopsis-nidulans', 'Polyporus-alveolaris', 5),\n",
       " ('Polyporus-squamosus', 'Phaeolus-schweinitzii', 5),\n",
       " ('Psathyrella-candolleana', 'Coprinellus-micaceus', 5),\n",
       " ('Psathyrella-candolleana', 'Lacrymaria-lacrymabunda', 5),\n",
       " ('Psilocybe-cubensis', 'Amanita-phalloides', 5),\n",
       " ('Psilocybe-ovoideocystidiata', 'Galerina-autumnalis', 5),\n",
       " ('Psilocybe-ovoideocystidiata', 'Lacrymaria-lacrymabunda', 5),\n",
       " ('Scleroderma-citrinum', 'Lacrymaria-lacrymabunda', 5),\n",
       " ('Stereum-hirsutum', 'Panellus-stipticus', 5),\n",
       " ('Stropharia-ambigua', 'Amanita-phalloides', 5),\n",
       " ('Tapinella-atrotomentosa', 'Boletus-edulis', 5),\n",
       " ('Tapinella-atrotomentosa', 'Phaeolus-schweinitzii', 5),\n",
       " ('Tricholoma-murrillianum', 'Amanita-phalloides', 5),\n",
       " ('Tubaria-furfuracea', 'Lactarius-rubidus', 5),\n",
       " ('Agaricus-augustus', 'Amanita-phalloides', 4),\n",
       " ('Agaricus-xanthodermus', 'Tricholoma-murrillianum', 4),\n",
       " ('Amanita-amerirubescens', 'Chlorophyllum-molybdites', 4),\n",
       " ('Amanita-augusta', 'Amanita-amerirubescens', 4),\n",
       " ('Amanita-brunnescens', 'Amanita-amerirubescens', 4),\n",
       " ('Amanita-muscaria', 'Amanita-amerirubescens', 4),\n",
       " ('Amanita-muscaria', 'Tricholoma-murrillianum', 4),\n",
       " ('Amanita-phalloides', 'Amanita-augusta', 4),\n",
       " ('Amanita-velosa', 'Amanita-brunnescens', 4),\n",
       " ('Armillaria-tabescens', 'Lacrymaria-lacrymabunda', 4),\n",
       " ('Bolbitius-vitellinus', 'Psilocybe-ovoideocystidiata', 4),\n",
       " ('Boletus-edulis', 'Suillus-luteus', 4),\n",
       " ('Cantharellus-lateritius', 'Armillaria-mellea', 4),\n",
       " ('Coprinellus-micaceus', 'Psilocybe-ovoideocystidiata', 4),\n",
       " ('Daedaleopsis-confragosa', 'Ischnoderma-resinosum', 4),\n",
       " ('Flammulina-velutipes', 'Phyllotopsis-nidulans', 4),\n",
       " ('Galerina-autumnalis', 'Psilocybe-allenii', 4),\n",
       " ('Galerina-autumnalis', 'Psilocybe-cyanescens', 4),\n",
       " ('Galerina-autumnalis', 'Tubaria-furfuracea', 4),\n",
       " ('Ganoderma-applanatum', 'Lenzites-betulina', 4),\n",
       " ('Gloeophyllum-saepiarium', 'Trametes-versicolor', 4),\n",
       " ('Hericium-erinaceus', 'Entoloma-abortivum', 4),\n",
       " ('Hericium-ramosum', 'Ceratiomyxa-fruticulosa', 4),\n",
       " ('Hygrocybe-psittacina', 'Leotia-viscosa', 4),\n",
       " ('Hygrophoropsis-aurantiaca', 'Cantharellus-formosus', 4),\n",
       " ('Hygrophoropsis-aurantiaca', 'Gomphus-floccosus', 4),\n",
       " ('Hypholoma-fasciculare', 'Hypholoma-lateritium', 4),\n",
       " ('Hypholoma-fasciculare', 'Leotia-viscosa', 4),\n",
       " ('Hypholoma-fasciculare', 'Panellus-serotinus', 4),\n",
       " ('Hypholoma-fasciculare', 'Pleurotus-ostreatus', 4),\n",
       " ('Hypomyces-lactifluorum', 'Boletus-edulis', 4),\n",
       " ('Ischnoderma-resinosum', 'Panellus-serotinus', 4),\n",
       " ('Lacrymaria-lacrymabunda', 'Coprinellus-micaceus', 4),\n",
       " ('Lacrymaria-lacrymabunda', 'Psilocybe-cubensis', 4),\n",
       " ('Lacrymaria-lacrymabunda', 'Psilocybe-cyanescens', 4),\n",
       " ('Lenzites-betulina', 'Ganoderma-applanatum', 4),\n",
       " ('Lenzites-betulina', 'Trichaptum-biforme', 4),\n",
       " ('Leotia-viscosa', 'Psilocybe-ovoideocystidiata', 4),\n",
       " ('Lepista-nuda', 'Agaricus-xanthodermus', 4),\n",
       " ('Lepista-nuda', 'Entoloma-abortivum', 4),\n",
       " ('Lepista-nuda', 'Mycena-pura', 4),\n",
       " ('Leratiomyces-ceres', 'Cantharellus-cinnabarinus', 4),\n",
       " ('Leratiomyces-ceres', 'Lacrymaria-lacrymabunda', 4),\n",
       " ('Leratiomyces-ceres', 'Panaeolus-foenisecii', 4),\n",
       " ('Lycoperdon-perlatum', 'Agaricus-augustus', 4),\n",
       " ('Lycoperdon-perlatum', 'Pseudohydnum-gelatinosum', 4),\n",
       " ('Lycoperdon-perlatum', 'Psilocybe-ovoideocystidiata', 4),\n",
       " ('Lycoperdon-pyriforme', 'Lycogala-epidendrum', 4),\n",
       " ('Megacollybia-rodmani', 'Pleurotus-ostreatus', 4),\n",
       " ('Mycena-haematopus', 'Mycena-pura', 4),\n",
       " ('Omphalotus-illudens', 'Hypholoma-fasciculare', 4),\n",
       " ('Omphalotus-olivascens', 'Hygrophoropsis-aurantiaca', 4),\n",
       " ('Panaeolus-foenisecii', 'Lacrymaria-lacrymabunda', 4),\n",
       " ('Panellus-serotinus', 'Hypholoma-fasciculare', 4),\n",
       " ('Panellus-serotinus', 'Phyllotopsis-nidulans', 4),\n",
       " ('Panellus-stipticus', 'Trichaptum-biforme', 4),\n",
       " ('Phaeolus-schweinitzii', 'Trametes-versicolor', 4),\n",
       " ('Phlebia-tremellosa', 'Trametes-versicolor', 4),\n",
       " ('Pluteus-cervinus', 'Pleurotus-ostreatus', 4),\n",
       " ('Polyporus-alveolaris', 'Polyporus-squamosus', 4),\n",
       " ('Polyporus-badius', 'Panellus-serotinus', 4),\n",
       " ('Psilocybe-ovoideocystidiata', 'Lepista-nuda', 4),\n",
       " ('Scleroderma-citrinum', 'Phaeolus-schweinitzii', 4),\n",
       " ('Stereum-ostrea', 'Ischnoderma-resinosum', 4),\n",
       " ('Suillus-luteus', 'Phaeolus-schweinitzii', 4),\n",
       " ('Tapinella-atrotomentosa', 'Armillaria-mellea', 4),\n",
       " ('Tapinella-atrotomentosa', 'Tylopilus-felleus', 4),\n",
       " ('Trametes-versicolor', 'Ganoderma-applanatum', 4),\n",
       " ('Trametes-versicolor', 'Ischnoderma-resinosum', 4),\n",
       " ('Trametes-versicolor', 'Phlebia-tremellosa', 4),\n",
       " ('Trichaptum-biforme', 'Stereum-ostrea', 4),\n",
       " ('Tylopilus-felleus', 'Agaricus-augustus', 4),\n",
       " ('Agaricus-augustus', 'Boletus-edulis', 3),\n",
       " ('Agaricus-augustus', 'Coprinus-comatus', 3),\n",
       " ('Agaricus-augustus', 'Phaeolus-schweinitzii', 3),\n",
       " ('Agaricus-augustus', 'Polyporus-squamosus', 3),\n",
       " ('Agaricus-augustus', 'Scleroderma-citrinum', 3),\n",
       " ('Aleuria-aurantia', 'Cantharellus-cinnabarinus', 3),\n",
       " ('Aleuria-aurantia', 'Psilocybe-ovoideocystidiata', 3),\n",
       " ('Amanita-amerirubescens', 'Amanita-phalloides', 3),\n",
       " ('Amanita-augusta', 'Amanita-calyptroderma', 3),\n",
       " ('Amanita-augusta', 'Boletus-edulis', 3),\n",
       " ('Amanita-brunnescens', 'Amanita-velosa', 3),\n",
       " ('Amanita-brunnescens', 'Psilocybe-ovoideocystidiata', 3),\n",
       " ('Amanita-calyptroderma', 'Amanita-augusta', 3),\n",
       " ('Amanita-muscaria', 'Amanita-brunnescens', 3),\n",
       " ('Amanita-muscaria', 'Boletus-edulis', 3),\n",
       " ('Amanita-phalloides', 'Amanita-calyptroderma', 3),\n",
       " ('Amanita-phalloides', 'Lepista-nuda', 3),\n",
       " ('Amanita-phalloides', 'Psathyrella-candolleana', 3),\n",
       " ('Amanita-phalloides', 'Psilocybe-ovoideocystidiata', 3),\n",
       " ('Amanita-velosa', 'Amanita-calyptroderma', 3),\n",
       " ('Amanita-velosa', 'Entoloma-abortivum', 3),\n",
       " ('Armillaria-mellea', 'Grifola-frondosa', 3),\n",
       " ('Armillaria-mellea', 'Psilocybe-ovoideocystidiata', 3),\n",
       " ('Armillaria-mellea', 'Tapinella-atrotomentosa', 3),\n",
       " ('Armillaria-tabescens', 'Hypholoma-fasciculare', 3),\n",
       " ('Armillaria-tabescens', 'Psilocybe-ovoideocystidiata', 3),\n",
       " ('Auriscalpium-vulgare', 'Psilocybe-ovoideocystidiata', 3),\n",
       " ('Bolbitius-vitellinus', 'Hygrocybe-psittacina', 3),\n",
       " ('Bolbitius-vitellinus', 'Psilocybe-cubensis', 3),\n",
       " ('Boletus-edulis', 'Amanita-muscaria', 3),\n",
       " ('Boletus-edulis', 'Amanita-phalloides', 3),\n",
       " ('Boletus-edulis', 'Ganoderma-applanatum', 3),\n",
       " ('Boletus-edulis', 'Tapinella-atrotomentosa', 3),\n",
       " ('Cantharellus-formosus', 'Hypomyces-lactifluorum', 3),\n",
       " ('Cantharellus-lateritius', 'Omphalotus-illudens', 3),\n",
       " ('Chlorophyllum-molybdites', 'Psathyrella-candolleana', 3),\n",
       " ('Coprinus-comatus', 'Agaricus-augustus', 3),\n",
       " ('Coprinus-comatus', 'Psilocybe-cubensis', 3),\n",
       " ('Crucibulum-laeve', 'Psilocybe-ovoideocystidiata', 3),\n",
       " ('Cryptoporus-volvatus', 'Ganoderma-applanatum', 3),\n",
       " ('Cryptoporus-volvatus', 'Lycogala-epidendrum', 3),\n",
       " ('Cryptoporus-volvatus', 'Lycoperdon-pyriforme', 3),\n",
       " ('Daedaleopsis-confragosa', 'Gloeophyllum-saepiarium', 3),\n",
       " ('Daedaleopsis-confragosa', 'Phaeolus-schweinitzii', 3),\n",
       " ('Daedaleopsis-confragosa', 'Schizophyllum-commune', 3),\n",
       " ('Entoloma-abortivum', 'Lepista-nuda', 3),\n",
       " ('Flammulina-velutipes', 'Hypholoma-fasciculare', 3),\n",
       " ('Flammulina-velutipes', 'Omphalotus-illudens', 3),\n",
       " ('Flammulina-velutipes', 'Psilocybe-cyanescens', 3),\n",
       " ('Flammulina-velutipes', 'Tubaria-furfuracea', 3),\n",
       " ('Fomitopsis-mounceae', 'Cryptoporus-volvatus', 3),\n",
       " ('Fomitopsis-mounceae', 'Ganoderma-oregonense', 3),\n",
       " ('Fomitopsis-mounceae', 'Ischnoderma-resinosum', 3),\n",
       " ('Galerina-autumnalis', 'Flammulina-velutipes', 3),\n",
       " ('Galerina-autumnalis', 'Hypholoma-fasciculare', 3),\n",
       " ('Galerina-autumnalis', 'Mycena-leaiana', 3),\n",
       " ('Galerina-autumnalis', 'Omphalotus-olivascens', 3),\n",
       " ('Ganoderma-applanatum', 'Schizophyllum-commune', 3),\n",
       " ('Gloeophyllum-saepiarium', 'Fomitopsis-mounceae', 3),\n",
       " ('Gloeophyllum-saepiarium', 'Ischnoderma-resinosum', 3),\n",
       " ('Gomphus-floccosus', 'Cantharellus-formosus', 3),\n",
       " ('Gomphus-floccosus', 'Suillus-pictus', 3),\n",
       " ('Grifola-frondosa', 'Pleurotus-ostreatus', 3),\n",
       " ('Hygrocybe-psittacina', 'Hypholoma-fasciculare', 3),\n",
       " ('Hygrocybe-psittacina', 'Mycena-leaiana', 3),\n",
       " ('Hygrocybe-psittacina', 'Psilocybe-allenii', 3),\n",
       " ('Hygrocybe-psittacina', 'Psilocybe-ovoideocystidiata', 3),\n",
       " ('Hypholoma-fasciculare', 'Chlorophyllum-molybdites', 3),\n",
       " ('Hypholoma-fasciculare', 'Coprinellus-micaceus', 3),\n",
       " ('Hypholoma-fasciculare', 'Lacrymaria-lacrymabunda', 3),\n",
       " ('Hypholoma-fasciculare', 'Psilocybe-ovoideocystidiata', 3),\n",
       " ('Hypholoma-lateritium', 'Lepista-nuda', 3),\n",
       " ('Hypholoma-lateritium', 'Pleurotus-ostreatus', 3),\n",
       " ('Hypomyces-lactifluorum', 'Phaeolus-schweinitzii', 3),\n",
       " ('Ischnoderma-resinosum', 'Lenzites-betulina', 3),\n",
       " ('Ischnoderma-resinosum', 'Polyporus-badius', 3),\n",
       " ('Laccaria-amethysteo-occidentalis', 'Lepista-nuda', 3),\n",
       " ('Laccaria-amethysteo-occidentalis', 'Psilocybe-allenii', 3),\n",
       " ('Laccaria-amethysteo-occidentalis', 'Psilocybe-ovoideocystidiata', 3),\n",
       " ('Laccaria-ochropurpurea', 'Psilocybe-ovoideocystidiata', 3),\n",
       " ('Lacrymaria-lacrymabunda', 'Coprinus-comatus', 3),\n",
       " ('Lacrymaria-lacrymabunda', 'Galerina-autumnalis', 3),\n",
       " ('Lactarius-rubidus', 'Lactarius-volemus', 3),\n",
       " ('Lactarius-volemus', 'Hygrophoropsis-aurantiaca', 3),\n",
       " ('Laetiporus-sulphureus', 'Hypomyces-lactifluorum', 3),\n",
       " ('Lenzites-betulina', 'Pleurotus-ostreatus', 3),\n",
       " ('Lenzites-betulina', 'Schizophyllum-commune', 3),\n",
       " ('Lepista-nuda', 'Amanita-velosa', 3),\n",
       " ('Lepista-nuda', 'Laccaria-ochropurpurea', 3),\n",
       " ('Lepista-nuda', 'Lactarius-indigo', 3),\n",
       " ('Lepista-nuda', 'Pleurotus-ostreatus', 3),\n",
       " ('Lepista-nuda', 'Pluteus-cervinus', 3),\n",
       " ('Lycogala-epidendrum', 'Panellus-serotinus', 3),\n",
       " ('Lycoperdon-perlatum', 'Scleroderma-citrinum', 3),\n",
       " ('Lycoperdon-perlatum', 'Tylopilus-felleus', 3),\n",
       " ('Lycoperdon-pyriforme', 'Cryptoporus-volvatus', 3),\n",
       " ('Lycoperdon-pyriforme', 'Entoloma-abortivum', 3),\n",
       " ('Lycoperdon-pyriforme', 'Scleroderma-citrinum', 3),\n",
       " ('Megacollybia-rodmani', 'Amanita-phalloides', 3),\n",
       " ('Megacollybia-rodmani', 'Entoloma-abortivum', 3),\n",
       " ('Mycena-haematopus', 'Lacrymaria-lacrymabunda', 3),\n",
       " ('Mycena-haematopus', 'Lepista-nuda', 3),\n",
       " ('Mycena-haematopus', 'Lycoperdon-perlatum', 3),\n",
       " ('Mycena-leaiana', 'Galerina-autumnalis', 3),\n",
       " ('Omphalotus-illudens', 'Mycena-leaiana', 3),\n",
       " ('Omphalotus-olivascens', 'Omphalotus-illudens', 3),\n",
       " ('Panaeolus-foenisecii', 'Psilocybe-cyanescens', 3),\n",
       " ('Panellus-serotinus', 'Boletus-edulis', 3),\n",
       " ('Panellus-serotinus', 'Lepista-nuda', 3),\n",
       " ('Panellus-serotinus', 'Tapinella-atrotomentosa', 3),\n",
       " ('Panellus-stipticus', 'Gloeophyllum-saepiarium', 3),\n",
       " ('Panellus-stipticus', 'Phyllotopsis-nidulans', 3),\n",
       " ('Panellus-stipticus', 'Schizophyllum-commune', 3),\n",
       " ('Panellus-stipticus', 'Trametes-versicolor', 3),\n",
       " ('Phaeolus-schweinitzii', 'Hypomyces-lactifluorum', 3),\n",
       " ('Phlebia-tremellosa', 'Pleurotus-ostreatus', 3),\n",
       " ('Phlebia-tremellosa', 'Trichaptum-biforme', 3),\n",
       " ('Phyllotopsis-nidulans', 'Omphalotus-olivascens', 3),\n",
       " ('Phyllotopsis-nidulans', 'Panellus-serotinus', 3),\n",
       " ('Pleurotus-ostreatus', 'Entoloma-abortivum', 3),\n",
       " ('Pleurotus-ostreatus', 'Laetiporus-sulphureus', 3),\n",
       " ('Pluteus-cervinus', 'Amanita-phalloides', 3),\n",
       " ('Pluteus-cervinus', 'Chlorophyllum-molybdites', 3),\n",
       " ('Pluteus-cervinus', 'Hypholoma-lateritium', 3),\n",
       " ('Pluteus-cervinus', 'Lepista-nuda', 3),\n",
       " ('Pluteus-cervinus', 'Megacollybia-rodmani', 3),\n",
       " ('Polyporus-alveolaris', 'Phlebia-tremellosa', 3),\n",
       " ('Polyporus-badius', 'Boletus-edulis', 3),\n",
       " ('Polyporus-badius', 'Polyporus-squamosus', 3),\n",
       " ('Polyporus-badius', 'Psilocybe-cyanescens', 3),\n",
       " ('Polyporus-badius', 'Psilocybe-ovoideocystidiata', 3),\n",
       " ('Polyporus-badius', 'Trametes-versicolor', 3),\n",
       " ('Polyporus-squamosus', 'Ganoderma-applanatum', 3),\n",
       " ('Polyporus-squamosus', 'Polyporus-badius', 3),\n",
       " ('Polyporus-squamosus', 'Pseudohydnum-gelatinosum', 3),\n",
       " ('Psathyrella-candolleana', 'Panaeolus-foenisecii', 3),\n",
       " ('Psathyrella-candolleana', 'Stropharia-ambigua', 3),\n",
       " ('Pseudohydnum-gelatinosum', 'Ganoderma-applanatum', 3),\n",
       " ('Pseudohydnum-gelatinosum', 'Panellus-serotinus', 3),\n",
       " ('Pseudohydnum-gelatinosum', 'Trametes-versicolor', 3),\n",
       " ('Psilocybe-allenii', 'Bolbitius-vitellinus', 3),\n",
       " ('Psilocybe-allenii', 'Hypholoma-fasciculare', 3),\n",
       " ('Psilocybe-allenii', 'Lacrymaria-lacrymabunda', 3),\n",
       " ('Psilocybe-cubensis', 'Amanita-muscaria', 3),\n",
       " ('Psilocybe-cubensis', 'Bolbitius-vitellinus', 3),\n",
       " ('Psilocybe-cubensis', 'Chlorophyllum-molybdites', 3),\n",
       " ('Psilocybe-cubensis', 'Panaeolus-foenisecii', 3),\n",
       " ('Psilocybe-cyanescens', 'Lycogala-epidendrum', 3),\n",
       " ('Psilocybe-cyanescens', 'Psilocybe-cubensis', 3),\n",
       " ('Psilocybe-cyanescens', 'Stropharia-ambigua', 3),\n",
       " ('Psilocybe-ovoideocystidiata', 'Bolbitius-vitellinus', 3),\n",
       " ('Psilocybe-ovoideocystidiata', 'Ganoderma-applanatum', 3),\n",
       " ('Psilocybe-ovoideocystidiata', 'Megacollybia-rodmani', 3),\n",
       " ('Psilocybe-ovoideocystidiata', 'Tubaria-furfuracea', 3),\n",
       " ('Schizophyllum-commune', 'Ganoderma-applanatum', 3),\n",
       " ('Schizophyllum-commune', 'Pleurotus-ostreatus', 3),\n",
       " ('Schizophyllum-commune', 'Trametes-versicolor', 3),\n",
       " ('Scleroderma-citrinum', 'Lycoperdon-pyriforme', 3),\n",
       " ('Stereum-ostrea', 'Lepista-nuda', 3),\n",
       " ('Stereum-ostrea', 'Psilocybe-ovoideocystidiata', 3),\n",
       " ('Suillus-luteus', 'Amanita-phalloides', 3),\n",
       " ('Suillus-luteus', 'Psilocybe-allenii', 3),\n",
       " ('Suillus-luteus', 'Tylopilus-felleus', 3),\n",
       " ('Suillus-pictus', 'Tricholomopsis-rutilans', 3),\n",
       " ('Tapinella-atrotomentosa', 'Gomphus-floccosus', 3),\n",
       " ('Tapinella-atrotomentosa', 'Panellus-serotinus', 3),\n",
       " ('Trametes-versicolor', 'Daedaleopsis-confragosa', 3),\n",
       " ('Trametes-versicolor', 'Grifola-frondosa', 3),\n",
       " ('Trametes-versicolor', 'Pseudohydnum-gelatinosum', 3),\n",
       " ('Trametes-versicolor', 'Stereum-ostrea', 3),\n",
       " ('Trichaptum-biforme', 'Ceratiomyxa-fruticulosa', 3),\n",
       " ('Trichaptum-biforme', 'Gloeophyllum-saepiarium', 3),\n",
       " ('Trichaptum-biforme', 'Grifola-frondosa', 3),\n",
       " ('Tricholoma-murrillianum', 'Agaricus-augustus', 3),\n",
       " ('Tricholoma-murrillianum', 'Ganoderma-oregonense', 3),\n",
       " ('Tricholomopsis-rutilans', 'Galerina-autumnalis', 3),\n",
       " ('Tubaria-furfuracea', 'Lacrymaria-lacrymabunda', 3),\n",
       " ('Tubaria-furfuracea', 'Leratiomyces-ceres', 3),\n",
       " ('Tubaria-furfuracea', 'Panaeolus-foenisecii', 3),\n",
       " ('Tubaria-furfuracea', 'Psilocybe-allenii', 3),\n",
       " ('Tylopilus-felleus', 'Trametes-versicolor', 3),\n",
       " ('Agaricus-augustus', 'Chlorophyllum-molybdites', 2),\n",
       " ('Agaricus-augustus', 'Lepista-nuda', 2),\n",
       " ('Agaricus-augustus', 'Megacollybia-rodmani', 2),\n",
       " ('Agaricus-augustus', 'Tricholoma-murrillianum', 2),\n",
       " ('Agaricus-xanthodermus', 'Amanita-velosa', 2),\n",
       " ('Agaricus-xanthodermus', 'Lycoperdon-pyriforme', 2),\n",
       " ('Agaricus-xanthodermus', 'Panaeolus-foenisecii', 2),\n",
       " ('Agaricus-xanthodermus', 'Pleurotus-ostreatus', 2),\n",
       " ('Agaricus-xanthodermus', 'Psathyrella-candolleana', 2),\n",
       " ('Agaricus-xanthodermus', 'Tylopilus-felleus', 2),\n",
       " ('Aleuria-aurantia', 'Mycena-leaiana', 2),\n",
       " ('Amanita-amerirubescens', 'Boletus-edulis', 2),\n",
       " ('Amanita-amerirubescens', 'Laccaria-ochropurpurea', 2),\n",
       " ('Amanita-amerirubescens', 'Lepista-nuda', 2),\n",
       " ('Amanita-augusta', 'Agaricus-augustus', 2),\n",
       " ('Amanita-augusta', 'Amanita-flavoconia', 2),\n",
       " ('Amanita-augusta', 'Fuligo-septica', 2),\n",
       " ('Amanita-augusta', 'Pluteus-cervinus', 2),\n",
       " ('Amanita-brunnescens', 'Agaricus-xanthodermus', 2),\n",
       " ('Amanita-brunnescens', 'Amanita-augusta', 2),\n",
       " ('Amanita-brunnescens', 'Coprinus-comatus', 2),\n",
       " ('Amanita-brunnescens', 'Pluteus-cervinus', 2),\n",
       " ('Amanita-brunnescens', 'Psathyrella-candolleana', 2),\n",
       " ('Amanita-brunnescens', 'Tricholoma-murrillianum', 2),\n",
       " ('Amanita-calyptroderma', 'Chlorophyllum-molybdites', 2),\n",
       " ('Amanita-calyptroderma', 'Tricholoma-murrillianum', 2),\n",
       " ('Amanita-flavoconia', 'Hygrocybe-psittacina', 2),\n",
       " ('Amanita-flavoconia', 'Psilocybe-ovoideocystidiata', 2),\n",
       " ('Amanita-muscaria', 'Agaricus-xanthodermus', 2),\n",
       " ('Amanita-muscaria', 'Amanita-augusta', 2),\n",
       " ('Amanita-muscaria', 'Cantharellus-formosus', 2),\n",
       " ('Amanita-muscaria', 'Leratiomyces-ceres', 2),\n",
       " ('Amanita-muscaria', 'Suillus-luteus', 2),\n",
       " ('Amanita-phalloides', 'Agaricus-augustus', 2),\n",
       " ('Amanita-phalloides', 'Agaricus-xanthodermus', 2),\n",
       " ('Amanita-phalloides', 'Amanita-muscaria', 2),\n",
       " ('Amanita-phalloides', 'Lycoperdon-perlatum', 2),\n",
       " ('Amanita-phalloides', 'Psilocybe-cubensis', 2),\n",
       " ('Amanita-phalloides', 'Stropharia-ambigua', 2),\n",
       " ('Amanita-phalloides', 'Tylopilus-felleus', 2),\n",
       " ('Amanita-velosa', 'Agaricus-augustus', 2),\n",
       " ('Amanita-velosa', 'Armillaria-tabescens', 2),\n",
       " ('Amanita-velosa', 'Boletus-edulis', 2),\n",
       " ('Amanita-velosa', 'Chlorophyllum-molybdites', 2),\n",
       " ('Amanita-velosa', 'Cryptoporus-volvatus', 2),\n",
       " ('Amanita-velosa', 'Ganoderma-applanatum', 2),\n",
       " ('Amanita-velosa', 'Lepista-nuda', 2),\n",
       " ('Amanita-velosa', 'Pluteus-cervinus', 2),\n",
       " ('Amanita-velosa', 'Tricholoma-murrillianum', 2),\n",
       " ('Amanita-velosa', 'Tylopilus-felleus', 2),\n",
       " ('Armillaria-mellea', 'Amanita-phalloides', 2),\n",
       " ('Armillaria-mellea', 'Cantharellus-lateritius', 2),\n",
       " ('Armillaria-mellea', 'Hypholoma-fasciculare', 2),\n",
       " ('Armillaria-mellea', 'Lycoperdon-pyriforme', 2),\n",
       " ('Armillaria-mellea', 'Pluteus-cervinus', 2),\n",
       " ('Armillaria-mellea', 'Tricholomopsis-rutilans', 2),\n",
       " ('Armillaria-tabescens', 'Grifola-frondosa', 2),\n",
       " ('Armillaria-tabescens', 'Lactarius-volemus', 2),\n",
       " ('Armillaria-tabescens', 'Lycoperdon-pyriforme', 2),\n",
       " ('Armillaria-tabescens', 'Psilocybe-cubensis', 2),\n",
       " ('Armillaria-tabescens', 'Tricholomopsis-rutilans', 2),\n",
       " ('Auriscalpium-vulgare', 'Coprinus-comatus', 2),\n",
       " ('Auriscalpium-vulgare', 'Lepista-nuda', 2),\n",
       " ('Auriscalpium-vulgare', 'Psilocybe-cyanescens', 2),\n",
       " ('Bolbitius-vitellinus', 'Armillaria-tabescens', 2),\n",
       " ('Bolbitius-vitellinus', 'Boletus-ornatipes', 2),\n",
       " ('Bolbitius-vitellinus', 'Coprinellus-micaceus', 2),\n",
       " ('Bolbitius-vitellinus', 'Galerina-autumnalis', 2),\n",
       " ('Bolbitius-vitellinus', 'Psathyrella-candolleana', 2),\n",
       " ('Bolbitius-vitellinus', 'Psilocybe-cyanescens', 2),\n",
       " ('Bolbitius-vitellinus', 'Stropharia-ambigua', 2),\n",
       " ('Boletus-edulis', 'Agaricus-augustus', 2),\n",
       " ('Boletus-edulis', 'Chlorophyllum-molybdites', 2),\n",
       " ('Boletus-edulis', 'Lepista-nuda', 2),\n",
       " ('Boletus-edulis', 'Polyporus-squamosus', 2),\n",
       " ('Boletus-edulis', 'Tricholoma-murrillianum', 2),\n",
       " ('Boletus-edulis', 'Tricholomopsis-rutilans', 2),\n",
       " ('Boletus-ornatipes', 'Amanita-phalloides', 2),\n",
       " ('Boletus-ornatipes', 'Boletus-edulis', 2),\n",
       " ('Boletus-ornatipes', 'Phaeolus-schweinitzii', 2),\n",
       " ('Cantharellus-cinnabarinus', 'Lactarius-rubidus', 2),\n",
       " ('Cantharellus-cinnabarinus', 'Leratiomyces-ceres', 2),\n",
       " ('Cantharellus-cinnabarinus', 'Psilocybe-cyanescens', 2),\n",
       " ('Cantharellus-formosus', 'Armillaria-mellea', 2),\n",
       " ('Cantharellus-formosus', 'Cantharellus-cinnabarinus', 2),\n",
       " ('Cantharellus-formosus', 'Tapinella-atrotomentosa', 2),\n",
       " ('Ceratiomyxa-fruticulosa', 'Lycogala-epidendrum', 2),\n",
       " ('Ceratiomyxa-fruticulosa', 'Trichaptum-biforme', 2),\n",
       " ('Chlorophyllum-molybdites', 'Amanita-phalloides', 2),\n",
       " ('Chlorophyllum-molybdites', 'Coprinus-comatus', 2),\n",
       " ('Chlorophyllum-molybdites', 'Entoloma-abortivum', 2),\n",
       " ('Chlorophyllum-molybdites', 'Ganoderma-applanatum', 2),\n",
       " ('Chlorophyllum-molybdites', 'Psilocybe-cubensis', 2),\n",
       " ('Chlorophyllum-molybdites', 'Trametes-versicolor', 2),\n",
       " ('Clavicorona-pyxidata', 'Hericium-ramosum', 2),\n",
       " ('Coprinellus-micaceus', 'Armillaria-tabescens', 2),\n",
       " ('Coprinellus-micaceus', 'Bolbitius-vitellinus', 2),\n",
       " ('Coprinellus-micaceus', 'Hypholoma-fasciculare', 2),\n",
       " ('Coprinellus-micaceus', 'Hypholoma-lateritium', 2),\n",
       " ('Coprinellus-micaceus', 'Panaeolus-foenisecii', 2),\n",
       " ('Coprinellus-micaceus', 'Psilocybe-cubensis', 2),\n",
       " ('Coprinus-comatus', 'Grifola-frondosa', 2),\n",
       " ('Coprinus-comatus', 'Psilocybe-allenii', 2),\n",
       " ('Coprinus-comatus', 'Psilocybe-ovoideocystidiata', 2),\n",
       " ('Crucibulum-laeve', 'Lycogala-epidendrum', 2),\n",
       " ('Crucibulum-laeve', 'Polyporus-alveolaris', 2),\n",
       " ('Crucibulum-laeve', 'Psilocybe-allenii', 2),\n",
       " ('Crucibulum-laeve', 'Trametes-versicolor', 2),\n",
       " ('Cryptoporus-volvatus', 'Galerina-autumnalis', 2),\n",
       " ('Cryptoporus-volvatus', 'Trametes-versicolor', 2),\n",
       " ('Daedaleopsis-confragosa', 'Ganoderma-applanatum', 2),\n",
       " ('Daedaleopsis-confragosa', 'Tapinella-atrotomentosa', 2),\n",
       " ('Daedaleopsis-confragosa', 'Trichaptum-biforme', 2),\n",
       " ('Entoloma-abortivum', 'Chlorophyllum-molybdites', 2),\n",
       " ('Entoloma-abortivum', 'Coprinus-comatus', 2),\n",
       " ('Entoloma-abortivum', 'Pleurotus-ostreatus', 2),\n",
       " ('Entoloma-abortivum', 'Schizophyllum-commune', 2),\n",
       " ('Entoloma-abortivum', 'Tricholoma-murrillianum', 2),\n",
       " ('Flammulina-velutipes', 'Ganoderma-oregonense', 2),\n",
       " ('Flammulina-velutipes', 'Hypomyces-lactifluorum', 2),\n",
       " ('Flammulina-velutipes', 'Leratiomyces-ceres', 2),\n",
       " ('Flammulina-velutipes', 'Polyporus-badius', 2),\n",
       " ('Fomitopsis-mounceae', 'Ganoderma-tsugae', 2),\n",
       " ('Fomitopsis-mounceae', 'Phaeolus-schweinitzii', 2),\n",
       " ('Fomitopsis-pinicola', 'Gomphus-floccosus', 2),\n",
       " ('Fomitopsis-pinicola', 'Hypomyces-lactifluorum', 2),\n",
       " ('Fomitopsis-pinicola', 'Ischnoderma-resinosum', 2),\n",
       " ('Fomitopsis-pinicola', 'Polyporus-badius', 2),\n",
       " ('Fomitopsis-pinicola', 'Polyporus-squamosus', 2),\n",
       " ('Fomitopsis-pinicola', 'Psilocybe-ovoideocystidiata', 2),\n",
       " ('Fuligo-septica', 'Laetiporus-sulphureus', 2),\n",
       " ('Fuligo-septica', 'Polyporus-squamosus', 2),\n",
       " ('Fuligo-septica', 'Scleroderma-citrinum', 2),\n",
       " ('Galerina-autumnalis', 'Cryptoporus-volvatus', 2),\n",
       " ('Galerina-autumnalis', 'Hygrocybe-psittacina', 2),\n",
       " ('Galerina-autumnalis', 'Lacrymaria-lacrymabunda', 2),\n",
       " ('Galerina-autumnalis', 'Lactarius-volemus', 2),\n",
       " ('Galerina-autumnalis', 'Omphalotus-illudens', 2),\n",
       " ('Galerina-autumnalis', 'Panellus-serotinus', 2),\n",
       " ('Galerina-autumnalis', 'Psathyrella-candolleana', 2),\n",
       " ('Galerina-autumnalis', 'Tapinella-atrotomentosa', 2),\n",
       " ('Galerina-autumnalis', 'Trametes-versicolor', 2),\n",
       " ('Ganoderma-applanatum', 'Fomitopsis-mounceae', 2),\n",
       " ('Ganoderma-applanatum', 'Ischnoderma-resinosum', 2),\n",
       " ('Ganoderma-applanatum', 'Polyporus-squamosus', 2),\n",
       " ('Ganoderma-oregonense', 'Coprinus-comatus', 2),\n",
       " ('Ganoderma-oregonense', 'Fomitopsis-mounceae', 2),\n",
       " ('Ganoderma-oregonense', 'Lepista-nuda', 2),\n",
       " ('Ganoderma-oregonense', 'Pluteus-cervinus', 2),\n",
       " ('Ganoderma-tsugae', 'Cantharellus-cinnabarinus', 2),\n",
       " ('Ganoderma-tsugae', 'Coprinus-comatus', 2),\n",
       " ('Ganoderma-tsugae', 'Lactarius-volemus', 2),\n",
       " ('Ganoderma-tsugae', 'Phaeolus-schweinitzii', 2),\n",
       " ('Ganoderma-tsugae', 'Pleurotus-ostreatus', 2),\n",
       " ('Gloeophyllum-saepiarium', 'Lenzites-betulina', 2),\n",
       " ('Gomphus-floccosus', 'Armillaria-tabescens', 2),\n",
       " ('Gomphus-floccosus', 'Hygrophoropsis-aurantiaca', 2),\n",
       " ('Gomphus-floccosus', 'Tapinella-atrotomentosa', 2),\n",
       " ('Grifola-frondosa', 'Psilocybe-ovoideocystidiata', 2),\n",
       " ('Hericium-erinaceus', 'Fuligo-septica', 2),\n",
       " ('Hericium-erinaceus', 'Ganoderma-tsugae', 2),\n",
       " ('Hericium-erinaceus', 'Tricholoma-murrillianum', 2),\n",
       " ('Hericium-ramosum', 'Clavicorona-pyxidata', 2),\n",
       " ('Hygrocybe-psittacina', 'Amanita-flavoconia', 2),\n",
       " ('Hygrocybe-psittacina', 'Bolbitius-vitellinus', 2),\n",
       " ('Hygrocybe-psittacina', 'Flammulina-velutipes', 2),\n",
       " ('Hygrocybe-psittacina', 'Leratiomyces-ceres', 2),\n",
       " ('Hygrocybe-psittacina', 'Tubaria-furfuracea', 2),\n",
       " ('Hygrophoropsis-aurantiaca', 'Omphalotus-illudens', 2),\n",
       " ('Hygrophoropsis-aurantiaca', 'Phyllotopsis-nidulans', 2),\n",
       " ('Hygrophoropsis-aurantiaca', 'Psilocybe-cyanescens', 2),\n",
       " ('Hypholoma-fasciculare', 'Armillaria-tabescens', 2),\n",
       " ('Hypholoma-fasciculare', 'Galerina-autumnalis', 2),\n",
       " ('Hypholoma-fasciculare', 'Panellus-stipticus', 2),\n",
       " ('Hypholoma-fasciculare', 'Tubaria-furfuracea', 2),\n",
       " ('Hypholoma-lateritium', 'Boletus-edulis', 2),\n",
       " ('Hypholoma-lateritium', 'Chlorophyllum-molybdites', 2),\n",
       " ('Hypholoma-lateritium', 'Flammulina-velutipes', 2),\n",
       " ('Hypholoma-lateritium', 'Galerina-autumnalis', 2),\n",
       " ('Hypholoma-lateritium', 'Leratiomyces-ceres', 2),\n",
       " ('Hypholoma-lateritium', 'Mycena-haematopus', 2),\n",
       " ('Hypholoma-lateritium', 'Panellus-serotinus', 2),\n",
       " ('Hypholoma-lateritium', 'Psathyrella-candolleana', 2),\n",
       " ('Hypholoma-lateritium', 'Psilocybe-allenii', 2),\n",
       " ('Hypholoma-lateritium', 'Psilocybe-ovoideocystidiata', 2),\n",
       " ('Hypholoma-lateritium', 'Tricholomopsis-rutilans', 2),\n",
       " ('Hypomyces-lactifluorum', 'Amanita-muscaria', 2),\n",
       " ('Hypomyces-lactifluorum', 'Cantharellus-cinnabarinus', 2),\n",
       " ('Hypomyces-lactifluorum', 'Ganoderma-oregonense', 2),\n",
       " ('Hypomyces-lactifluorum', 'Tricholoma-murrillianum', 2),\n",
       " ('Ischnoderma-resinosum', 'Daedaleopsis-confragosa', 2),\n",
       " ('Ischnoderma-resinosum', 'Ganoderma-oregonense', 2),\n",
       " ('Ischnoderma-resinosum', 'Ganoderma-tsugae', 2),\n",
       " ('Ischnoderma-resinosum', 'Hypholoma-lateritium', 2),\n",
       " ('Ischnoderma-resinosum', 'Phaeolus-schweinitzii', 2),\n",
       " ('Laccaria-amethysteo-occidentalis', 'Cantharellus-cinnabarinus', 2),\n",
       " ('Laccaria-amethysteo-occidentalis', 'Ganoderma-applanatum', 2),\n",
       " ('Laccaria-amethysteo-occidentalis', 'Mycena-pura', 2),\n",
       " ('Laccaria-amethysteo-occidentalis', 'Trichaptum-biforme', 2),\n",
       " ('Laccaria-ochropurpurea', 'Amanita-brunnescens', 2),\n",
       " ('Laccaria-ochropurpurea', 'Entoloma-abortivum', 2),\n",
       " ('Laccaria-ochropurpurea', 'Galerina-autumnalis', 2),\n",
       " ('Laccaria-ochropurpurea', 'Mycena-pura', 2),\n",
       " ('Lacrymaria-lacrymabunda', 'Armillaria-mellea', 2),\n",
       " ('Lacrymaria-lacrymabunda', 'Armillaria-tabescens', 2),\n",
       " ('Lacrymaria-lacrymabunda', 'Hypholoma-fasciculare', 2),\n",
       " ('Lacrymaria-lacrymabunda', 'Psilocybe-allenii', 2),\n",
       " ('Lactarius-rubidus', 'Armillaria-tabescens', 2),\n",
       " ('Lactarius-rubidus', 'Cantharellus-cinnabarinus', 2),\n",
       " ('Lactarius-rubidus', 'Galerina-autumnalis', 2),\n",
       " ('Lactarius-rubidus', 'Gomphus-floccosus', 2),\n",
       " ('Lactarius-rubidus', 'Hygrophoropsis-aurantiaca', 2),\n",
       " ('Lactarius-rubidus', 'Psilocybe-cyanescens', 2),\n",
       " ('Lactarius-volemus', 'Amanita-brunnescens', 2),\n",
       " ('Lactarius-volemus', 'Amanita-velosa', 2),\n",
       " ('Lactarius-volemus', 'Boletus-edulis', 2),\n",
       " ('Lactarius-volemus', 'Hypholoma-lateritium', 2),\n",
       " ('Lactarius-volemus', 'Panellus-serotinus', 2),\n",
       " ('Laetiporus-sulphureus', 'Ganoderma-tsugae', 2),\n",
       " ('Laetiporus-sulphureus', 'Omphalotus-illudens', 2),\n",
       " ('Laetiporus-sulphureus', 'Panellus-serotinus', 2),\n",
       " ('Laetiporus-sulphureus', 'Phyllotopsis-nidulans', 2),\n",
       " ('Laetiporus-sulphureus', 'Pleurotus-ostreatus', 2),\n",
       " ('Laetiporus-sulphureus', 'Trametes-versicolor', 2),\n",
       " ('Lenzites-betulina', 'Amanita-phalloides', 2),\n",
       " ('Lenzites-betulina', 'Fuligo-septica', 2),\n",
       " ('Lenzites-betulina', 'Hericium-erinaceus', 2),\n",
       " ('Lenzites-betulina', 'Stereum-ostrea', 2),\n",
       " ('Leotia-viscosa', 'Galerina-autumnalis', 2),\n",
       " ('Leotia-viscosa', 'Hygrocybe-psittacina', 2),\n",
       " ('Lepista-nuda', 'Amanita-phalloides', 2),\n",
       " ('Lepista-nuda', 'Chlorophyllum-molybdites', 2),\n",
       " ('Lepista-nuda', 'Lycoperdon-perlatum', 2),\n",
       " ('Lepista-nuda', 'Psilocybe-cubensis', 2),\n",
       " ('Lepista-nuda', 'Schizophyllum-commune', 2),\n",
       " ('Lepista-nuda', 'Suillus-luteus', 2),\n",
       " ('Leratiomyces-ceres', 'Lepista-nuda', 2),\n",
       " ('Leratiomyces-ceres', 'Psilocybe-allenii', 2),\n",
       " ('Leratiomyces-ceres', 'Tubaria-furfuracea', 2),\n",
       " ('Lycogala-epidendrum', 'Amanita-muscaria', 2),\n",
       " ('Lycogala-epidendrum', 'Armillaria-tabescens', 2),\n",
       " ('Lycogala-epidendrum', 'Crucibulum-laeve', 2),\n",
       " ('Lycogala-epidendrum', 'Cryptoporus-volvatus', 2),\n",
       " ('Lycogala-epidendrum', 'Ganoderma-tsugae', 2),\n",
       " ('Lycogala-epidendrum', 'Lycoperdon-pyriforme', 2),\n",
       " ('Lycoperdon-perlatum', 'Agaricus-xanthodermus', 2),\n",
       " ('Lycoperdon-perlatum', 'Entoloma-abortivum', 2),\n",
       " ('Lycoperdon-perlatum', 'Fuligo-septica', 2),\n",
       " ('Lycoperdon-pyriforme', 'Agaricus-xanthodermus', 2),\n",
       " ('Lycoperdon-pyriforme', 'Coprinellus-micaceus', 2),\n",
       " ('Lycoperdon-pyriforme', 'Crucibulum-laeve', 2),\n",
       " ('Lycoperdon-pyriforme', 'Daedaleopsis-confragosa', 2),\n",
       " ('Lycoperdon-pyriforme', 'Phaeolus-schweinitzii', 2),\n",
       " ('Lycoperdon-pyriforme', 'Trametes-versicolor', 2),\n",
       " ('Megacollybia-rodmani', 'Amanita-velosa', 2),\n",
       " ('Megacollybia-rodmani', 'Grifola-frondosa', 2),\n",
       " ('Megacollybia-rodmani', 'Psathyrella-candolleana', 2),\n",
       " ('Megacollybia-rodmani', 'Psilocybe-ovoideocystidiata', 2),\n",
       " ('Mycena-haematopus', 'Hypholoma-lateritium', 2),\n",
       " ('Mycena-haematopus', 'Psilocybe-ovoideocystidiata', 2),\n",
       " ('Mycena-leaiana', 'Omphalotus-illudens', 2),\n",
       " ('Mycena-leaiana', 'Psilocybe-allenii', 2),\n",
       " ('Mycena-leaiana', 'Psilocybe-cyanescens', 2),\n",
       " ('Mycena-pura', 'Auriscalpium-vulgare', 2),\n",
       " ('Mycena-pura', 'Psathyrella-candolleana', 2),\n",
       " ('Omphalotus-illudens', 'Aleuria-aurantia', 2),\n",
       " ('Omphalotus-illudens', 'Cantharellus-cinnabarinus', 2),\n",
       " ('Omphalotus-illudens', 'Lactarius-volemus', 2),\n",
       " ('Omphalotus-illudens', 'Tricholomopsis-rutilans', 2),\n",
       " ('Omphalotus-olivascens', 'Boletus-edulis', 2),\n",
       " ('Omphalotus-olivascens', 'Galerina-autumnalis', 2),\n",
       " ('Omphalotus-olivascens', 'Psilocybe-ovoideocystidiata', 2),\n",
       " ('Panaeolus-foenisecii', 'Galerina-autumnalis', 2),\n",
       " ('Panaeolus-foenisecii', 'Pluteus-cervinus', 2),\n",
       " ('Panellus-serotinus', 'Armillaria-mellea', 2),\n",
       " ('Panellus-serotinus', 'Pluteus-cervinus', 2),\n",
       " ('Panellus-stipticus', 'Crucibulum-laeve', 2),\n",
       " ('Panellus-stipticus', 'Lacrymaria-lacrymabunda', 2),\n",
       " ('Panellus-stipticus', 'Lenzites-betulina', 2),\n",
       " ('Panellus-stipticus', 'Pleurotus-ostreatus', 2),\n",
       " ('Panellus-stipticus', 'Pluteus-cervinus', 2),\n",
       " ('Panellus-stipticus', 'Stereum-ostrea', 2),\n",
       " ('Phaeolus-schweinitzii', 'Boletus-ornatipes', 2),\n",
       " ('Phaeolus-schweinitzii', 'Fuligo-septica', 2),\n",
       " ('Phaeolus-schweinitzii', 'Ganoderma-oregonense', 2),\n",
       " ('Phaeolus-schweinitzii', 'Gloeophyllum-saepiarium', 2),\n",
       " ('Phaeolus-schweinitzii', 'Lacrymaria-lacrymabunda', 2),\n",
       " ('Phaeolus-schweinitzii', 'Lenzites-betulina', 2),\n",
       " ('Phaeolus-schweinitzii', 'Polyporus-squamosus', 2),\n",
       " ('Phlebia-tremellosa', 'Gomphus-floccosus', 2),\n",
       " ('Phyllotopsis-nidulans', 'Aleuria-aurantia', 2),\n",
       " ('Phyllotopsis-nidulans', 'Entoloma-abortivum', 2),\n",
       " ('Phyllotopsis-nidulans', 'Flammulina-velutipes', 2),\n",
       " ('Phyllotopsis-nidulans', 'Hericium-erinaceus', 2),\n",
       " ('Phyllotopsis-nidulans', 'Hygrophoropsis-aurantiaca', 2),\n",
       " ('Phyllotopsis-nidulans', 'Hypomyces-lactifluorum', 2),\n",
       " ('Phyllotopsis-nidulans', 'Laetiporus-sulphureus', 2),\n",
       " ('Phyllotopsis-nidulans', 'Omphalotus-illudens', 2),\n",
       " ('Phyllotopsis-nidulans', 'Phlebia-tremellosa', 2),\n",
       " ('Phyllotopsis-nidulans', 'Pleurotus-ostreatus', 2),\n",
       " ('Phyllotopsis-nidulans', 'Pluteus-cervinus', 2),\n",
       " ('Phyllotopsis-nidulans', 'Polyporus-badius', 2),\n",
       " ('Pleurotus-ostreatus', 'Amanita-amerirubescens', 2),\n",
       " ('Pleurotus-ostreatus', 'Armillaria-mellea', 2),\n",
       " ('Pleurotus-ostreatus', 'Armillaria-tabescens', 2),\n",
       " ('Pleurotus-ostreatus', 'Boletus-edulis', 2),\n",
       " ('Pleurotus-ostreatus', 'Cryptoporus-volvatus', 2),\n",
       " ('Pleurotus-ostreatus', 'Laccaria-ochropurpurea', 2),\n",
       " ('Pleurotus-ostreatus', 'Panellus-stipticus', 2),\n",
       " ('Pleurotus-ostreatus', 'Polyporus-squamosus', 2),\n",
       " ('Pleurotus-ostreatus', 'Pseudohydnum-gelatinosum', 2),\n",
       " ('Pleurotus-ostreatus', 'Psilocybe-ovoideocystidiata', 2),\n",
       " ('Pleurotus-ostreatus', 'Tapinella-atrotomentosa', 2),\n",
       " ('Pluteus-cervinus', 'Psathyrella-candolleana', 2),\n",
       " ('Pluteus-cervinus', 'Tylopilus-felleus', 2),\n",
       " ('Polyporus-alveolaris', 'Gomphus-floccosus', 2),\n",
       " ('Polyporus-alveolaris', 'Polyporus-badius', 2),\n",
       " ('Polyporus-badius', 'Fomitopsis-mounceae', 2),\n",
       " ('Polyporus-badius', 'Hygrophoropsis-aurantiaca', 2),\n",
       " ('Polyporus-badius', 'Hypomyces-lactifluorum', 2),\n",
       " ('Polyporus-badius', 'Psathyrella-candolleana', 2),\n",
       " ('Polyporus-squamosus', 'Boletus-ornatipes', 2),\n",
       " ('Polyporus-squamosus', 'Daedaleopsis-confragosa', 2),\n",
       " ('Polyporus-squamosus', 'Entoloma-abortivum', 2),\n",
       " ('Polyporus-squamosus', 'Megacollybia-rodmani', 2),\n",
       " ('Polyporus-squamosus', 'Pleurotus-ostreatus', 2),\n",
       " ('Polyporus-squamosus', 'Psilocybe-ovoideocystidiata', 2),\n",
       " ('Polyporus-squamosus', 'Trametes-versicolor', 2),\n",
       " ('Polyporus-squamosus', 'Tylopilus-felleus', 2),\n",
       " ('Psathyrella-candolleana', 'Agaricus-augustus', 2),\n",
       " ('Psathyrella-candolleana', 'Amanita-phalloides', 2),\n",
       " ('Psathyrella-candolleana', 'Chlorophyllum-molybdites', 2),\n",
       " ('Psathyrella-candolleana', 'Hypholoma-fasciculare', 2),\n",
       " ('Psathyrella-candolleana', 'Megacollybia-rodmani', 2),\n",
       " ('Pseudohydnum-gelatinosum', 'Hericium-erinaceus', 2),\n",
       " ('Pseudohydnum-gelatinosum', 'Lycoperdon-perlatum', 2),\n",
       " ('Pseudohydnum-gelatinosum', 'Lycoperdon-pyriforme', 2),\n",
       " ('Pseudohydnum-gelatinosum', 'Psilocybe-ovoideocystidiata', 2),\n",
       " ('Psilocybe-allenii', 'Cryptoporus-volvatus', 2),\n",
       " ('Psilocybe-allenii', 'Pluteus-cervinus', 2),\n",
       " ('Psilocybe-cubensis', 'Agaricus-xanthodermus', 2),\n",
       " ('Psilocybe-cubensis', 'Coprinus-comatus', 2),\n",
       " ('Psilocybe-cubensis', 'Cryptoporus-volvatus', 2),\n",
       " ('Psilocybe-cubensis', 'Galerina-autumnalis', 2),\n",
       " ('Psilocybe-cubensis', 'Hypholoma-lateritium', 2),\n",
       " ('Psilocybe-cubensis', 'Psilocybe-allenii', 2),\n",
       " ('Psilocybe-cubensis', 'Tapinella-atrotomentosa', 2),\n",
       " ('Psilocybe-cyanescens', 'Auriscalpium-vulgare', 2),\n",
       " ('Psilocybe-cyanescens', 'Bolbitius-vitellinus', 2),\n",
       " ('Psilocybe-cyanescens', 'Lepista-nuda', 2),\n",
       " ('Psilocybe-cyanescens', 'Schizophyllum-commune', 2),\n",
       " ('Psilocybe-ovoideocystidiata', 'Hypholoma-fasciculare', 2),\n",
       " ('Psilocybe-ovoideocystidiata', 'Leratiomyces-ceres', 2),\n",
       " ('Psilocybe-ovoideocystidiata', 'Pluteus-cervinus', 2),\n",
       " ('Psilocybe-ovoideocystidiata', 'Polyporus-badius', 2),\n",
       " ('Psilocybe-ovoideocystidiata', 'Pseudohydnum-gelatinosum', 2),\n",
       " ('Schizophyllum-commune', 'Ceratiomyxa-fruticulosa', 2),\n",
       " ('Schizophyllum-commune', 'Galerina-autumnalis', 2),\n",
       " ('Schizophyllum-commune', 'Grifola-frondosa', 2),\n",
       " ('Schizophyllum-commune', 'Hericium-erinaceus', 2),\n",
       " ('Schizophyllum-commune', 'Hericium-ramosum', 2),\n",
       " ('Schizophyllum-commune', 'Mycena-haematopus', 2),\n",
       " ('Schizophyllum-commune', 'Pseudohydnum-gelatinosum', 2),\n",
       " ('Schizophyllum-commune', 'Psilocybe-cyanescens', 2),\n",
       " ('Schizophyllum-commune', 'Psilocybe-ovoideocystidiata', 2),\n",
       " ('Schizophyllum-commune', 'Trichaptum-biforme', 2),\n",
       " ('Stereum-hirsutum', 'Ganoderma-tsugae', 2),\n",
       " ('Stereum-hirsutum', 'Laetiporus-sulphureus', 2),\n",
       " ('Stereum-hirsutum', 'Phyllotopsis-nidulans', 2),\n",
       " ('Stereum-hirsutum', 'Stereum-ostrea', 2),\n",
       " ('Stereum-ostrea', 'Lenzites-betulina', 2),\n",
       " ('Stereum-ostrea', 'Phaeolus-schweinitzii', 2),\n",
       " ('Stereum-ostrea', 'Stereum-hirsutum', 2),\n",
       " ('Stropharia-ambigua', 'Amanita-velosa', 2),\n",
       " ('Stropharia-ambigua', 'Armillaria-mellea', 2),\n",
       " ('Stropharia-ambigua', 'Bolbitius-vitellinus', 2),\n",
       " ('Stropharia-ambigua', 'Psilocybe-allenii', 2),\n",
       " ('Suillus-luteus', 'Ganoderma-oregonense', 2),\n",
       " ('Suillus-luteus', 'Lepista-nuda', 2),\n",
       " ('Tapinella-atrotomentosa', 'Boletus-ornatipes', 2),\n",
       " ('Tapinella-atrotomentosa', 'Hygrophoropsis-aurantiaca', 2),\n",
       " ('Tapinella-atrotomentosa', 'Hypomyces-lactifluorum', 2),\n",
       " ('Trametes-versicolor', 'Panellus-stipticus', 2),\n",
       " ('Trametes-versicolor', 'Pleurotus-ostreatus', 2),\n",
       " ('Trametes-versicolor', 'Polyporus-squamosus', 2),\n",
       " ('Trametes-versicolor', 'Schizophyllum-commune', 2),\n",
       " ('Trichaptum-biforme', 'Phaeolus-schweinitzii', 2),\n",
       " ('Trichaptum-biforme', 'Polyporus-squamosus', 2),\n",
       " ('Trichaptum-biforme', 'Psilocybe-cubensis', 2),\n",
       " ('Trichaptum-biforme', 'Schizophyllum-commune', 2),\n",
       " ('Tricholoma-murrillianum', 'Lactarius-indigo', 2),\n",
       " ('Tricholoma-murrillianum', 'Phaeolus-schweinitzii', 2),\n",
       " ('Tricholomopsis-rutilans', 'Boletus-edulis', 2),\n",
       " ('Tricholomopsis-rutilans', 'Hygrophoropsis-aurantiaca', 2),\n",
       " ('Tricholomopsis-rutilans', 'Lacrymaria-lacrymabunda', 2),\n",
       " ('Tricholomopsis-rutilans', 'Lactarius-volemus', 2),\n",
       " ('Tricholomopsis-rutilans', 'Mycena-haematopus', 2),\n",
       " ('Tricholomopsis-rutilans', 'Pluteus-cervinus', 2),\n",
       " ('Tricholomopsis-rutilans', 'Polyporus-squamosus', 2),\n",
       " ('Tricholomopsis-rutilans', 'Suillus-pictus', 2),\n",
       " ('Tricholomopsis-rutilans', 'Tapinella-atrotomentosa', 2),\n",
       " ('Tubaria-furfuracea', 'Amanita-amerirubescens', 2),\n",
       " ('Tubaria-furfuracea', 'Armillaria-tabescens', 2),\n",
       " ('Tubaria-furfuracea', 'Hypomyces-lactifluorum', 2),\n",
       " ('Tubaria-furfuracea', 'Laccaria-amethysteo-occidentalis', 2),\n",
       " ('Tubaria-furfuracea', 'Suillus-pictus', 2),\n",
       " ('Tylopilus-felleus', 'Boletus-ornatipes', 2),\n",
       " ('Tylopilus-felleus', 'Lepista-nuda', 2),\n",
       " ('Tylopilus-felleus', 'Polyporus-squamosus', 2),\n",
       " ('Tylopilus-felleus', 'Suillus-luteus', 2)]"
      ]
     },
     "execution_count": 20,
     "metadata": {},
     "output_type": "execute_result"
    }
   ],
   "source": [
    "interp.most_confused(min_val=2)"
   ]
  },
  {
   "cell_type": "markdown",
   "metadata": {},
   "source": [
    "Now this is where it would help to be a mushroom expert in order to know which of these mistakes can be grouped without really impairing the usefullness of the classifier.\n",
    "\n",
    "I do know for example that the psilocybe species look quite similar, have similar edibility properties and can therefore be grouped without too much harm. Similarly for the amanita species I know that they are mostly poisonous, and foragers are discouraged from even trying to attempt to identity whether an amanita is poisonous or edible, so these can also be grouped. "
   ]
  },
  {
   "cell_type": "markdown",
   "metadata": {},
   "source": [
    "## Removing Junk Images\n"
   ]
  },
  {
   "cell_type": "markdown",
   "metadata": {},
   "source": [
    "First I am going to remove images that are not actually of mushrooms from the dataset. These might be microscopy images, or extremely close up such that features can not be determined, or very far away (e.g. photo of a tree with a mushroom on it), or people holding mushrooms.\n",
    "\n",
    "I DO NOT expect this to dramatically improve the accuracy of the model, as I am quite confident that the noisy images are distributed randomly throughout the dataset. However once removed, I can train any subsequent iterations on this new cleaned dataset, so it is worth doing imo.  "
   ]
  },
  {
   "cell_type": "code",
   "execution_count": 21,
   "metadata": {},
   "outputs": [],
   "source": [
    "from fastai.widgets import *"
   ]
  },
  {
   "cell_type": "code",
   "execution_count": 22,
   "metadata": {},
   "outputs": [],
   "source": [
    "db = (ImageList.from_folder(mushroom_images)\n",
    "                   .split_none()\n",
    "                   .label_from_folder()\n",
    "                   .transform(get_transforms(), size=224)\n",
    "                   .databunch()\n",
    "     )"
   ]
  },
  {
   "cell_type": "code",
   "execution_count": 23,
   "metadata": {},
   "outputs": [],
   "source": [
    "learn_cln = cnn_learner(db, models.resnet34, metrics=error_rate)\n",
    "\n",
    "learn_cln.load('stage-2');"
   ]
  },
  {
   "cell_type": "code",
   "execution_count": 24,
   "metadata": {},
   "outputs": [
    {
     "data": {
      "text/html": [],
      "text/plain": [
       "<IPython.core.display.HTML object>"
      ]
     },
     "metadata": {},
     "output_type": "display_data"
    }
   ],
   "source": [
    "ds, idxs = DatasetFormatter().from_toplosses(learn_cln)"
   ]
  },
  {
   "cell_type": "code",
   "execution_count": 26,
   "metadata": {},
   "outputs": [
    {
     "data": {
      "application/vnd.jupyter.widget-view+json": {
       "model_id": "6031baf62b4a4b468b9d08edf821bb10",
       "version_major": 2,
       "version_minor": 0
      },
      "text/plain": [
       "HBox(children=(VBox(children=(Image(value=b'\\xff\\xd8\\xff\\xe0\\x00\\x10JFIF\\x00\\x01\\x01\\x01\\x00d\\x00d\\x00\\x00\\xff…"
      ]
     },
     "metadata": {},
     "output_type": "display_data"
    },
    {
     "data": {
      "application/vnd.jupyter.widget-view+json": {
       "model_id": "8f910f4432c24ec08ae0cbf12179d21c",
       "version_major": 2,
       "version_minor": 0
      },
      "text/plain": [
       "Button(button_style='primary', description='Next Batch', layout=Layout(width='auto'), style=ButtonStyle())"
      ]
     },
     "metadata": {},
     "output_type": "display_data"
    }
   ],
   "source": [
    "ImageCleaner(ds, idxs, mushroom_images)"
   ]
  },
  {
   "cell_type": "markdown",
   "metadata": {},
   "source": [
    "Now we can recreate the databunch with the cleaned images:"
   ]
  },
  {
   "cell_type": "code",
   "execution_count": 6,
   "metadata": {},
   "outputs": [],
   "source": [
    "np.random.seed(42)\n",
    "db_clean = ImageDataBunch.from_csv(mushroom_images, folder=\".\", valid_pct=0.2, csv_labels='cleaned.csv',\n",
    "ds_tfms=get_transforms(), size=224, num_workers=4).normalize(imagenet_stats)"
   ]
  },
  {
   "cell_type": "code",
   "execution_count": 7,
   "metadata": {},
   "outputs": [],
   "source": [
    "learn_cln = cnn_learner(db_clean, models.resnet34, metrics=error_rate)"
   ]
  },
  {
   "cell_type": "code",
   "execution_count": 8,
   "metadata": {},
   "outputs": [
    {
     "data": {
      "text/html": [
       "<table border=\"1\" class=\"dataframe\">\n",
       "  <thead>\n",
       "    <tr style=\"text-align: left;\">\n",
       "      <th>epoch</th>\n",
       "      <th>train_loss</th>\n",
       "      <th>valid_loss</th>\n",
       "      <th>error_rate</th>\n",
       "      <th>time</th>\n",
       "    </tr>\n",
       "  </thead>\n",
       "  <tbody>\n",
       "    <tr>\n",
       "      <td>0</td>\n",
       "      <td>2.463306</td>\n",
       "      <td>1.871945</td>\n",
       "      <td>0.491717</td>\n",
       "      <td>04:38</td>\n",
       "    </tr>\n",
       "    <tr>\n",
       "      <td>1</td>\n",
       "      <td>1.922415</td>\n",
       "      <td>1.495968</td>\n",
       "      <td>0.404648</td>\n",
       "      <td>03:58</td>\n",
       "    </tr>\n",
       "    <tr>\n",
       "      <td>2</td>\n",
       "      <td>1.662268</td>\n",
       "      <td>1.313690</td>\n",
       "      <td>0.356520</td>\n",
       "      <td>03:59</td>\n",
       "    </tr>\n",
       "    <tr>\n",
       "      <td>3</td>\n",
       "      <td>1.516275</td>\n",
       "      <td>1.265650</td>\n",
       "      <td>0.341839</td>\n",
       "      <td>03:59</td>\n",
       "    </tr>\n",
       "  </tbody>\n",
       "</table>"
      ],
      "text/plain": [
       "<IPython.core.display.HTML object>"
      ]
     },
     "metadata": {},
     "output_type": "display_data"
    }
   ],
   "source": [
    "learn_cln.fit_one_cycle(4)"
   ]
  },
  {
   "cell_type": "code",
   "execution_count": 9,
   "metadata": {},
   "outputs": [],
   "source": [
    "learn_cln.save('c-r34-224-c2+-4e')"
   ]
  },
  {
   "cell_type": "code",
   "execution_count": 11,
   "metadata": {},
   "outputs": [],
   "source": [
    "learn_cln.unfreeze()"
   ]
  },
  {
   "cell_type": "code",
   "execution_count": 12,
   "metadata": {},
   "outputs": [
    {
     "data": {
      "text/html": [
       "\n",
       "    <div>\n",
       "        <style>\n",
       "            /* Turns off some styling */\n",
       "            progress {\n",
       "                /* gets rid of default border in Firefox and Opera. */\n",
       "                border: none;\n",
       "                /* Needs to be in here for Safari polyfill so background images work as expected. */\n",
       "                background-size: auto;\n",
       "            }\n",
       "            .progress-bar-interrupted, .progress-bar-interrupted::-webkit-progress-bar {\n",
       "                background: #F44336;\n",
       "            }\n",
       "        </style>\n",
       "      <progress value='0' class='' max='1', style='width:300px; height:20px; vertical-align: middle;'></progress>\n",
       "      0.00% [0/1 00:00<00:00]\n",
       "    </div>\n",
       "    \n",
       "<table border=\"1\" class=\"dataframe\">\n",
       "  <thead>\n",
       "    <tr style=\"text-align: left;\">\n",
       "      <th>epoch</th>\n",
       "      <th>train_loss</th>\n",
       "      <th>valid_loss</th>\n",
       "      <th>error_rate</th>\n",
       "      <th>time</th>\n",
       "    </tr>\n",
       "  </thead>\n",
       "  <tbody>\n",
       "  </tbody>\n",
       "</table><p>\n",
       "\n",
       "    <div>\n",
       "        <style>\n",
       "            /* Turns off some styling */\n",
       "            progress {\n",
       "                /* gets rid of default border in Firefox and Opera. */\n",
       "                border: none;\n",
       "                /* Needs to be in here for Safari polyfill so background images work as expected. */\n",
       "                background-size: auto;\n",
       "            }\n",
       "            .progress-bar-interrupted, .progress-bar-interrupted::-webkit-progress-bar {\n",
       "                background: #F44336;\n",
       "            }\n",
       "        </style>\n",
       "      <progress value='85' class='' max='796', style='width:300px; height:20px; vertical-align: middle;'></progress>\n",
       "      10.68% [85/796 00:24<03:21 5.0760]\n",
       "    </div>\n",
       "    "
      ],
      "text/plain": [
       "<IPython.core.display.HTML object>"
      ]
     },
     "metadata": {},
     "output_type": "display_data"
    },
    {
     "name": "stdout",
     "output_type": "stream",
     "text": [
      "LR Finder is complete, type {learner_name}.recorder.plot() to see the graph.\n"
     ]
    }
   ],
   "source": [
    "learn_cln.lr_find()"
   ]
  },
  {
   "cell_type": "code",
   "execution_count": 13,
   "metadata": {},
   "outputs": [
    {
     "data": {
      "image/png": "[encoded data removed]",
      "text/plain": [
       "<Figure size 432x288 with 1 Axes>"
      ]
     },
     "metadata": {
      "needs_background": "light"
     },
     "output_type": "display_data"
    }
   ],
   "source": [
    "learn_cln.recorder.plot()"
   ]
  },
  {
   "cell_type": "code",
   "execution_count": 14,
   "metadata": {},
   "outputs": [
    {
     "data": {
      "text/html": [
       "<table border=\"1\" class=\"dataframe\">\n",
       "  <thead>\n",
       "    <tr style=\"text-align: left;\">\n",
       "      <th>epoch</th>\n",
       "      <th>train_loss</th>\n",
       "      <th>valid_loss</th>\n",
       "      <th>error_rate</th>\n",
       "      <th>time</th>\n",
       "    </tr>\n",
       "  </thead>\n",
       "  <tbody>\n",
       "    <tr>\n",
       "      <td>0</td>\n",
       "      <td>1.439239</td>\n",
       "      <td>1.116467</td>\n",
       "      <td>0.306509</td>\n",
       "      <td>04:03</td>\n",
       "    </tr>\n",
       "    <tr>\n",
       "      <td>1</td>\n",
       "      <td>1.040688</td>\n",
       "      <td>0.910169</td>\n",
       "      <td>0.251080</td>\n",
       "      <td>04:02</td>\n",
       "    </tr>\n",
       "  </tbody>\n",
       "</table>"
      ],
      "text/plain": [
       "<IPython.core.display.HTML object>"
      ]
     },
     "metadata": {},
     "output_type": "display_data"
    }
   ],
   "source": [
    "learn_cln.fit_one_cycle(2, max_lr=slice(3e-5, 3e-4))"
   ]
  },
  {
   "cell_type": "code",
   "execution_count": 15,
   "metadata": {},
   "outputs": [
    {
     "data": {
      "text/html": [
       "<table border=\"1\" class=\"dataframe\">\n",
       "  <thead>\n",
       "    <tr style=\"text-align: left;\">\n",
       "      <th>epoch</th>\n",
       "      <th>train_loss</th>\n",
       "      <th>valid_loss</th>\n",
       "      <th>error_rate</th>\n",
       "      <th>time</th>\n",
       "    </tr>\n",
       "  </thead>\n",
       "  <tbody>\n",
       "    <tr>\n",
       "      <td>0</td>\n",
       "      <td>1.118022</td>\n",
       "      <td>0.958865</td>\n",
       "      <td>0.261993</td>\n",
       "      <td>03:59</td>\n",
       "    </tr>\n",
       "    <tr>\n",
       "      <td>1</td>\n",
       "      <td>0.794322</td>\n",
       "      <td>0.804603</td>\n",
       "      <td>0.223993</td>\n",
       "      <td>04:02</td>\n",
       "    </tr>\n",
       "  </tbody>\n",
       "</table>"
      ],
      "text/plain": [
       "<IPython.core.display.HTML object>"
      ]
     },
     "metadata": {},
     "output_type": "display_data"
    }
   ],
   "source": [
    "learn_cln.fit_one_cycle(2, max_lr=slice(3e-5, 3e-4))"
   ]
  },
  {
   "cell_type": "code",
   "execution_count": 16,
   "metadata": {},
   "outputs": [],
   "source": [
    "learn_cln.save('c-r34-224-c2+-8e')"
   ]
  },
  {
   "cell_type": "markdown",
   "metadata": {},
   "source": [
    "Trying with an image size of 320 instead of 224. This is because I retrieved the images from mushroomobserver at 320 x 320, so they were perfectly square already at 320x320, whereas the databunch creation at image size 224x224 leads to some cropping. "
   ]
  },
  {
   "cell_type": "code",
   "execution_count": 17,
   "metadata": {},
   "outputs": [],
   "source": [
    "np.random.seed(42)\n",
    "db_clean_320 = ImageDataBunch.from_csv(mushroom_images, folder=\".\", valid_pct=0.2, csv_labels='cleaned.csv',\n",
    "ds_tfms=get_transforms(), size=320, num_workers=4).normalize(imagenet_stats)"
   ]
  },
  {
   "cell_type": "code",
   "execution_count": 18,
   "metadata": {},
   "outputs": [],
   "source": [
    "learn_cln_320 = cnn_learner(db_clean_320, models.resnet34, metrics=error_rate)"
   ]
  },
  {
   "cell_type": "code",
   "execution_count": 19,
   "metadata": {},
   "outputs": [
    {
     "data": {
      "text/html": [
       "<table border=\"1\" class=\"dataframe\">\n",
       "  <thead>\n",
       "    <tr style=\"text-align: left;\">\n",
       "      <th>epoch</th>\n",
       "      <th>train_loss</th>\n",
       "      <th>valid_loss</th>\n",
       "      <th>error_rate</th>\n",
       "      <th>time</th>\n",
       "    </tr>\n",
       "  </thead>\n",
       "  <tbody>\n",
       "    <tr>\n",
       "      <td>0</td>\n",
       "      <td>2.271873</td>\n",
       "      <td>1.702161</td>\n",
       "      <td>0.452618</td>\n",
       "      <td>06:13</td>\n",
       "    </tr>\n",
       "    <tr>\n",
       "      <td>1</td>\n",
       "      <td>1.828778</td>\n",
       "      <td>1.341108</td>\n",
       "      <td>0.360603</td>\n",
       "      <td>06:15</td>\n",
       "    </tr>\n",
       "    <tr>\n",
       "      <td>2</td>\n",
       "      <td>1.538259</td>\n",
       "      <td>1.161599</td>\n",
       "      <td>0.312083</td>\n",
       "      <td>06:16</td>\n",
       "    </tr>\n",
       "    <tr>\n",
       "      <td>3</td>\n",
       "      <td>1.410234</td>\n",
       "      <td>1.116842</td>\n",
       "      <td>0.301719</td>\n",
       "      <td>06:15</td>\n",
       "    </tr>\n",
       "  </tbody>\n",
       "</table>"
      ],
      "text/plain": [
       "<IPython.core.display.HTML object>"
      ]
     },
     "metadata": {},
     "output_type": "display_data"
    }
   ],
   "source": [
    "learn_cln_320.fit_one_cycle(4)"
   ]
  },
  {
   "cell_type": "code",
   "execution_count": 20,
   "metadata": {},
   "outputs": [],
   "source": [
    "learn_cln_320.save('c-r34-320-c2+-4e')"
   ]
  },
  {
   "cell_type": "code",
   "execution_count": 21,
   "metadata": {},
   "outputs": [],
   "source": [
    "learn_cln_320.unfreeze()"
   ]
  },
  {
   "cell_type": "code",
   "execution_count": 22,
   "metadata": {},
   "outputs": [
    {
     "data": {
      "text/html": [
       "\n",
       "    <div>\n",
       "        <style>\n",
       "            /* Turns off some styling */\n",
       "            progress {\n",
       "                /* gets rid of default border in Firefox and Opera. */\n",
       "                border: none;\n",
       "                /* Needs to be in here for Safari polyfill so background images work as expected. */\n",
       "                background-size: auto;\n",
       "            }\n",
       "            .progress-bar-interrupted, .progress-bar-interrupted::-webkit-progress-bar {\n",
       "                background: #F44336;\n",
       "            }\n",
       "        </style>\n",
       "      <progress value='0' class='' max='1', style='width:300px; height:20px; vertical-align: middle;'></progress>\n",
       "      0.00% [0/1 00:00<00:00]\n",
       "    </div>\n",
       "    \n",
       "<table border=\"1\" class=\"dataframe\">\n",
       "  <thead>\n",
       "    <tr style=\"text-align: left;\">\n",
       "      <th>epoch</th>\n",
       "      <th>train_loss</th>\n",
       "      <th>valid_loss</th>\n",
       "      <th>error_rate</th>\n",
       "      <th>time</th>\n",
       "    </tr>\n",
       "  </thead>\n",
       "  <tbody>\n",
       "  </tbody>\n",
       "</table><p>\n",
       "\n",
       "    <div>\n",
       "        <style>\n",
       "            /* Turns off some styling */\n",
       "            progress {\n",
       "                /* gets rid of default border in Firefox and Opera. */\n",
       "                border: none;\n",
       "                /* Needs to be in here for Safari polyfill so background images work as expected. */\n",
       "                background-size: auto;\n",
       "            }\n",
       "            .progress-bar-interrupted, .progress-bar-interrupted::-webkit-progress-bar {\n",
       "                background: #F44336;\n",
       "            }\n",
       "        </style>\n",
       "      <progress value='85' class='' max='796', style='width:300px; height:20px; vertical-align: middle;'></progress>\n",
       "      10.68% [85/796 00:38<05:25 4.9055]\n",
       "    </div>\n",
       "    "
      ],
      "text/plain": [
       "<IPython.core.display.HTML object>"
      ]
     },
     "metadata": {},
     "output_type": "display_data"
    },
    {
     "name": "stdout",
     "output_type": "stream",
     "text": [
      "LR Finder is complete, type {learner_name}.recorder.plot() to see the graph.\n"
     ]
    }
   ],
   "source": [
    "learn_cln_320.lr_find()"
   ]
  },
  {
   "cell_type": "code",
   "execution_count": 23,
   "metadata": {},
   "outputs": [
    {
     "data": {
      "image/png": "[encoded data removed]",
      "text/plain": [
       "<Figure size 432x288 with 1 Axes>"
      ]
     },
     "metadata": {
      "needs_background": "light"
     },
     "output_type": "display_data"
    }
   ],
   "source": [
    "learn_cln_320.recorder.plot()"
   ]
  },
  {
   "cell_type": "code",
   "execution_count": 24,
   "metadata": {},
   "outputs": [
    {
     "data": {
      "text/html": [
       "<table border=\"1\" class=\"dataframe\">\n",
       "  <thead>\n",
       "    <tr style=\"text-align: left;\">\n",
       "      <th>epoch</th>\n",
       "      <th>train_loss</th>\n",
       "      <th>valid_loss</th>\n",
       "      <th>error_rate</th>\n",
       "      <th>time</th>\n",
       "    </tr>\n",
       "  </thead>\n",
       "  <tbody>\n",
       "    <tr>\n",
       "      <td>0</td>\n",
       "      <td>0.913547</td>\n",
       "      <td>0.899051</td>\n",
       "      <td>0.253513</td>\n",
       "      <td>04:03</td>\n",
       "    </tr>\n",
       "    <tr>\n",
       "      <td>1</td>\n",
       "      <td>0.645420</td>\n",
       "      <td>0.756057</td>\n",
       "      <td>0.207035</td>\n",
       "      <td>04:02</td>\n",
       "    </tr>\n",
       "  </tbody>\n",
       "</table>"
      ],
      "text/plain": [
       "<IPython.core.display.HTML object>"
      ]
     },
     "metadata": {},
     "output_type": "display_data"
    }
   ],
   "source": [
    "learn_cln.fit_one_cycle(2, max_lr=slice(3e-5, 3e-4))"
   ]
  },
  {
   "cell_type": "code",
   "execution_count": 25,
   "metadata": {},
   "outputs": [
    {
     "data": {
      "text/html": [
       "<table border=\"1\" class=\"dataframe\">\n",
       "  <thead>\n",
       "    <tr style=\"text-align: left;\">\n",
       "      <th>epoch</th>\n",
       "      <th>train_loss</th>\n",
       "      <th>valid_loss</th>\n",
       "      <th>error_rate</th>\n",
       "      <th>time</th>\n",
       "    </tr>\n",
       "  </thead>\n",
       "  <tbody>\n",
       "    <tr>\n",
       "      <td>0</td>\n",
       "      <td>0.769115</td>\n",
       "      <td>0.871416</td>\n",
       "      <td>0.239538</td>\n",
       "      <td>04:01</td>\n",
       "    </tr>\n",
       "    <tr>\n",
       "      <td>1</td>\n",
       "      <td>0.505562</td>\n",
       "      <td>0.741149</td>\n",
       "      <td>0.202167</td>\n",
       "      <td>04:02</td>\n",
       "    </tr>\n",
       "  </tbody>\n",
       "</table>"
      ],
      "text/plain": [
       "<IPython.core.display.HTML object>"
      ]
     },
     "metadata": {},
     "output_type": "display_data"
    }
   ],
   "source": [
    "learn_cln.fit_one_cycle(2, max_lr=slice(3e-5, 3e-4))"
   ]
  },
  {
   "cell_type": "code",
   "execution_count": null,
   "metadata": {},
   "outputs": [],
   "source": [
    "learn_cln_320.save('c-r34-320-c2+-8e')"
   ]
  },
  {
   "cell_type": "markdown",
   "metadata": {},
   "source": [
    "#### At this point I have a model that classifies the top 100 taxons at 80% accuracy"
   ]
  },
  {
   "cell_type": "markdown",
   "metadata": {},
   "source": [
    "Trying resnet50 on cleaned, size 320 images:"
   ]
  },
  {
   "cell_type": "code",
   "execution_count": 26,
   "metadata": {},
   "outputs": [],
   "source": [
    "learn_cln_320_r50 = cnn_learner(db_clean_320, models.resnet50, metrics=error_rate)"
   ]
  },
  {
   "cell_type": "code",
   "execution_count": 27,
   "metadata": {},
   "outputs": [
    {
     "data": {
      "text/html": [
       "<table border=\"1\" class=\"dataframe\">\n",
       "  <thead>\n",
       "    <tr style=\"text-align: left;\">\n",
       "      <th>epoch</th>\n",
       "      <th>train_loss</th>\n",
       "      <th>valid_loss</th>\n",
       "      <th>error_rate</th>\n",
       "      <th>time</th>\n",
       "    </tr>\n",
       "  </thead>\n",
       "  <tbody>\n",
       "    <tr>\n",
       "      <td>0</td>\n",
       "      <td>2.082021</td>\n",
       "      <td>1.557926</td>\n",
       "      <td>0.421214</td>\n",
       "      <td>10:08</td>\n",
       "    </tr>\n",
       "    <tr>\n",
       "      <td>1</td>\n",
       "      <td>1.600245</td>\n",
       "      <td>1.190057</td>\n",
       "      <td>0.330455</td>\n",
       "      <td>10:04</td>\n",
       "    </tr>\n",
       "    <tr>\n",
       "      <td>2</td>\n",
       "      <td>1.295739</td>\n",
       "      <td>0.992801</td>\n",
       "      <td>0.274633</td>\n",
       "      <td>10:04</td>\n",
       "    </tr>\n",
       "    <tr>\n",
       "      <td>3</td>\n",
       "      <td>1.084958</td>\n",
       "      <td>0.940845</td>\n",
       "      <td>0.259480</td>\n",
       "      <td>10:04</td>\n",
       "    </tr>\n",
       "  </tbody>\n",
       "</table>"
      ],
      "text/plain": [
       "<IPython.core.display.HTML object>"
      ]
     },
     "metadata": {},
     "output_type": "display_data"
    }
   ],
   "source": [
    "learn_cln_320_r50.fit_one_cycle(4)"
   ]
  },
  {
   "cell_type": "code",
   "execution_count": 30,
   "metadata": {},
   "outputs": [],
   "source": [
    "learn_cln_320_r50.save('c-r50-320-c2+-4e')"
   ]
  },
  {
   "cell_type": "code",
   "execution_count": 32,
   "metadata": {},
   "outputs": [],
   "source": [
    "learn_cln_320_r50.unfreeze()"
   ]
  },
  {
   "cell_type": "code",
   "execution_count": 33,
   "metadata": {},
   "outputs": [
    {
     "data": {
      "text/html": [
       "\n",
       "    <div>\n",
       "        <style>\n",
       "            /* Turns off some styling */\n",
       "            progress {\n",
       "                /* gets rid of default border in Firefox and Opera. */\n",
       "                border: none;\n",
       "                /* Needs to be in here for Safari polyfill so background images work as expected. */\n",
       "                background-size: auto;\n",
       "            }\n",
       "            .progress-bar-interrupted, .progress-bar-interrupted::-webkit-progress-bar {\n",
       "                background: #F44336;\n",
       "            }\n",
       "        </style>\n",
       "      <progress value='0' class='' max='1', style='width:300px; height:20px; vertical-align: middle;'></progress>\n",
       "      0.00% [0/1 00:00<00:00]\n",
       "    </div>\n",
       "    \n",
       "<table border=\"1\" class=\"dataframe\">\n",
       "  <thead>\n",
       "    <tr style=\"text-align: left;\">\n",
       "      <th>epoch</th>\n",
       "      <th>train_loss</th>\n",
       "      <th>valid_loss</th>\n",
       "      <th>error_rate</th>\n",
       "      <th>time</th>\n",
       "    </tr>\n",
       "  </thead>\n",
       "  <tbody>\n",
       "  </tbody>\n",
       "</table><p>\n",
       "\n",
       "    <div>\n",
       "        <style>\n",
       "            /* Turns off some styling */\n",
       "            progress {\n",
       "                /* gets rid of default border in Firefox and Opera. */\n",
       "                border: none;\n",
       "                /* Needs to be in here for Safari polyfill so background images work as expected. */\n",
       "                background-size: auto;\n",
       "            }\n",
       "            .progress-bar-interrupted, .progress-bar-interrupted::-webkit-progress-bar {\n",
       "                background: #F44336;\n",
       "            }\n",
       "        </style>\n",
       "      <progress value='78' class='' max='796', style='width:300px; height:20px; vertical-align: middle;'></progress>\n",
       "      9.80% [78/796 01:20<12:17 3.4252]\n",
       "    </div>\n",
       "    "
      ],
      "text/plain": [
       "<IPython.core.display.HTML object>"
      ]
     },
     "metadata": {},
     "output_type": "display_data"
    },
    {
     "name": "stdout",
     "output_type": "stream",
     "text": [
      "LR Finder is complete, type {learner_name}.recorder.plot() to see the graph.\n"
     ]
    }
   ],
   "source": [
    "learn_cln_320_r50.lr_find()"
   ]
  },
  {
   "cell_type": "code",
   "execution_count": 34,
   "metadata": {},
   "outputs": [
    {
     "data": {
      "image/png": "[encoded data removed]",
      "text/plain": [
       "<Figure size 432x288 with 1 Axes>"
      ]
     },
     "metadata": {
      "needs_background": "light"
     },
     "output_type": "display_data"
    }
   ],
   "source": [
    "learn_cln_320_r50.recorder.plot()"
   ]
  },
  {
   "cell_type": "code",
   "execution_count": 35,
   "metadata": {},
   "outputs": [
    {
     "data": {
      "text/html": [
       "<table border=\"1\" class=\"dataframe\">\n",
       "  <thead>\n",
       "    <tr style=\"text-align: left;\">\n",
       "      <th>epoch</th>\n",
       "      <th>train_loss</th>\n",
       "      <th>valid_loss</th>\n",
       "      <th>error_rate</th>\n",
       "      <th>time</th>\n",
       "    </tr>\n",
       "  </thead>\n",
       "  <tbody>\n",
       "    <tr>\n",
       "      <td>0</td>\n",
       "      <td>1.058481</td>\n",
       "      <td>0.835725</td>\n",
       "      <td>0.237026</td>\n",
       "      <td>13:57</td>\n",
       "    </tr>\n",
       "    <tr>\n",
       "      <td>1</td>\n",
       "      <td>0.820873</td>\n",
       "      <td>0.763327</td>\n",
       "      <td>0.214336</td>\n",
       "      <td>13:57</td>\n",
       "    </tr>\n",
       "  </tbody>\n",
       "</table>"
      ],
      "text/plain": [
       "<IPython.core.display.HTML object>"
      ]
     },
     "metadata": {},
     "output_type": "display_data"
    }
   ],
   "source": [
    "learn_cln_320_r50.fit_one_cycle(2, max_lr=slice(3e-6, 3e-4))"
   ]
  },
  {
   "cell_type": "markdown",
   "metadata": {},
   "source": [
    "## Sequence of models tried:\n",
    "\n",
    "First Iteration:\n",
    "* Obs of confidence >= 2.0, only species level\n",
    "* Image size taken 320, but created databunch at 224 (resizing and cropping occurs)\n",
    "* Trained 4 epochs, then LR find, then 2 more epochs, acheived 68.2% accuracy over 100 classes\n",
    "\n",
    "Deleted a bunch of Junk images and retrained:\n",
    "* Image size at 224 in databunch\n",
    "* 4 epochs -> LR find -> 2 epochs -> 75% -> 2 epochs -> 78%\n",
    "\n",
    "Created databunch with size 320 instead of JHoward's recommended 224 (also on dataset with junk images removed)\n",
    "Why? Because I got images at 320 size from server, no resizing or cropping required\n",
    "* 4 epochs -> LR Find -> 2 epochs -> 80% -> 2 epochs -> 80% \n",
    "\n",
    "Same as above except resnet50:\n",
    "* 4 epochs -> LR Find -> 2 epochs -> 79% - no difference \n",
    "\n",
    "Databunch of 320, resnet34, confidence of 2.5 or higher (see mush-obs-100tax-higherconf notebook):\n",
    "* 8 epochs -> 80% accuracy - no difference\n",
    "\n",
    "Other variables to consider:\n",
    "* Try grouping very similar species (see top losses)"
   ]
  },
  {
   "cell_type": "code",
   "execution_count": null,
   "metadata": {},
   "outputs": [],
   "source": []
  }
 ],
 "metadata": {
  "kernelspec": {
   "display_name": "Python 3",
   "language": "python",
   "name": "python3"
  },
  "language_info": {
   "codemirror_mode": {
    "name": "ipython",
    "version": 3
   },
   "file_extension": ".py",
   "mimetype": "text/x-python",
   "name": "python",
   "nbconvert_exporter": "python",
   "pygments_lexer": "ipython3",
   "version": "3.6.7"
  }
 },
 "nbformat": 4,
 "nbformat_minor": 2
}
